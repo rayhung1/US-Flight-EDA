{
 "cells": [
  {
   "cell_type": "code",
   "execution_count": 1,
   "metadata": {},
   "outputs": [
    {
     "name": "stdout",
     "output_type": "stream",
     "text": [
      "System  3.9.12 (main, Apr  5 2022, 06:56:58) \n",
      "[GCC 7.5.0] \n",
      "\n",
      "Pandas  1.4.2\n",
      "Numpy  1.21.5\n",
      "Seaborn  0.11.2\n"
     ]
    },
    {
     "ename": "",
     "evalue": "",
     "output_type": "error",
     "traceback": [
      "\u001b[1;31mCanceled future for execute_request message before replies were done"
     ]
    },
    {
     "ename": "",
     "evalue": "",
     "output_type": "error",
     "traceback": [
      "\u001b[1;31mThe Kernel crashed while executing code in the the current cell or a previous cell. Please review the code in the cell(s) to identify a possible cause of the failure. Click <a href='https://aka.ms/vscodeJupyterKernelCrash'>here</a> for more info. View Jupyter <a href='command:jupyter.viewOutput'>log</a> for further details."
     ]
    }
   ],
   "source": [
    "# FOR 2021 ANALYSIS USE THIS BLOCK\n",
    "\n",
    "# Modules/Packages\n",
    "import sys\n",
    "print(\"System \", sys.version,\"\\n\")\n",
    "import pandas as pd\n",
    "print(\"Pandas \", pd.__version__)\n",
    "import numpy as np\n",
    "print(\"Numpy \", np.__version__)\n",
    "##import pyarrow as pyro\n",
    "#print(\"Pyarrow \", pyro.__version__)\n",
    "import matplotlib.pyplot as plt\n",
    "%matplotlib inline\n",
    "import seaborn as sns\n",
    "print(\"Seaborn \", sns.__version__)\n",
    "from datetime import datetime\n",
    "pd.set_option('display.max_rows', 1000)\n",
    "pd.set_option('display.max_columns', 1000)\n",
    "pd.options.display.float_format = '{:,.2f}'.format\n",
    "\n",
    "# Datasets\n",
    "airlines = pd.read_csv(\"Airlines.csv\")\n",
    "\n",
    "#flights_2018 = pd.read_csv('Combined_Flights_2018.csv', parse_dates=['FlightDate'])\n",
    "#flights_2019 = pd.read_csv('Combined_Flights_2019.csv', parse_dates=['FlightDate'])\n",
    "#flights_2020 = pd.read_csv('Combined_Flights_2020.csv', parse_dates=['FlightDate'])\n",
    "flights_2021 = pd.read_csv('Combined_Flights_2021.csv', parse_dates=['FlightDate'])\n",
    "#flights_2022 = pd.read_csv('Combined_Flights_2022.csv', parse_dates=['FlightDate'])\n",
    "\n",
    "# Use the df to join multiple years\n",
    "combined_flights = pd.concat([flights_2019,flights_2020,flights_2021])\n",
    "#df = pd.concat([flights_2020, flights_2021, flights_2022])\n",
    "\n",
    "# Merge with airline dataset in order to get the major airline\n",
    "#combined_flights = pd.merge(combined_flights, airlines, left_on='Marketing_Airline_Network', right_on='Code')\n",
    "\n",
    "#combined_flights['flight_count']=1\n",
    "\n",
    "\n",
    "combined_flights.head(5)"
   ]
  },
  {
   "cell_type": "code",
   "execution_count": 1,
   "metadata": {},
   "outputs": [
    {
     "name": "stdout",
     "output_type": "stream",
     "text": [
      "System  3.9.12 (main, Apr  5 2022, 06:56:58) \n",
      "[GCC 7.5.0] \n",
      "\n",
      "Pandas  1.4.2\n",
      "Numpy  1.21.5\n",
      "Seaborn  0.11.2\n"
     ]
    },
    {
     "data": {
      "text/html": [
       "<div>\n",
       "<style scoped>\n",
       "    .dataframe tbody tr th:only-of-type {\n",
       "        vertical-align: middle;\n",
       "    }\n",
       "\n",
       "    .dataframe tbody tr th {\n",
       "        vertical-align: top;\n",
       "    }\n",
       "\n",
       "    .dataframe thead th {\n",
       "        text-align: right;\n",
       "    }\n",
       "</style>\n",
       "<table border=\"1\" class=\"dataframe\">\n",
       "  <thead>\n",
       "    <tr style=\"text-align: right;\">\n",
       "      <th></th>\n",
       "      <th>FlightDate</th>\n",
       "      <th>Airline</th>\n",
       "      <th>Origin</th>\n",
       "      <th>Dest</th>\n",
       "      <th>Cancelled</th>\n",
       "      <th>Diverted</th>\n",
       "      <th>DepDelay</th>\n",
       "      <th>Year</th>\n",
       "      <th>Month</th>\n",
       "      <th>Marketing_Airline_Network</th>\n",
       "      <th>DepDel15</th>\n",
       "      <th>Code</th>\n",
       "      <th>MajorAirline</th>\n",
       "      <th>flight_count</th>\n",
       "    </tr>\n",
       "  </thead>\n",
       "  <tbody>\n",
       "    <tr>\n",
       "      <th>0</th>\n",
       "      <td>2019-04-01</td>\n",
       "      <td>Envoy Air</td>\n",
       "      <td>LIT</td>\n",
       "      <td>ORD</td>\n",
       "      <td>False</td>\n",
       "      <td>False</td>\n",
       "      <td>-3.00</td>\n",
       "      <td>2019</td>\n",
       "      <td>4</td>\n",
       "      <td>AA</td>\n",
       "      <td>0.00</td>\n",
       "      <td>AA</td>\n",
       "      <td>American Airlines Inc.</td>\n",
       "      <td>1</td>\n",
       "    </tr>\n",
       "    <tr>\n",
       "      <th>1</th>\n",
       "      <td>2019-04-02</td>\n",
       "      <td>Envoy Air</td>\n",
       "      <td>LIT</td>\n",
       "      <td>ORD</td>\n",
       "      <td>False</td>\n",
       "      <td>False</td>\n",
       "      <td>-12.00</td>\n",
       "      <td>2019</td>\n",
       "      <td>4</td>\n",
       "      <td>AA</td>\n",
       "      <td>0.00</td>\n",
       "      <td>AA</td>\n",
       "      <td>American Airlines Inc.</td>\n",
       "      <td>1</td>\n",
       "    </tr>\n",
       "    <tr>\n",
       "      <th>2</th>\n",
       "      <td>2019-04-03</td>\n",
       "      <td>Envoy Air</td>\n",
       "      <td>LIT</td>\n",
       "      <td>ORD</td>\n",
       "      <td>False</td>\n",
       "      <td>False</td>\n",
       "      <td>-9.00</td>\n",
       "      <td>2019</td>\n",
       "      <td>4</td>\n",
       "      <td>AA</td>\n",
       "      <td>0.00</td>\n",
       "      <td>AA</td>\n",
       "      <td>American Airlines Inc.</td>\n",
       "      <td>1</td>\n",
       "    </tr>\n",
       "    <tr>\n",
       "      <th>3</th>\n",
       "      <td>2019-04-04</td>\n",
       "      <td>Envoy Air</td>\n",
       "      <td>LIT</td>\n",
       "      <td>ORD</td>\n",
       "      <td>False</td>\n",
       "      <td>False</td>\n",
       "      <td>143.00</td>\n",
       "      <td>2019</td>\n",
       "      <td>4</td>\n",
       "      <td>AA</td>\n",
       "      <td>1.00</td>\n",
       "      <td>AA</td>\n",
       "      <td>American Airlines Inc.</td>\n",
       "      <td>1</td>\n",
       "    </tr>\n",
       "    <tr>\n",
       "      <th>4</th>\n",
       "      <td>2019-04-05</td>\n",
       "      <td>Envoy Air</td>\n",
       "      <td>LIT</td>\n",
       "      <td>ORD</td>\n",
       "      <td>False</td>\n",
       "      <td>False</td>\n",
       "      <td>4.00</td>\n",
       "      <td>2019</td>\n",
       "      <td>4</td>\n",
       "      <td>AA</td>\n",
       "      <td>0.00</td>\n",
       "      <td>AA</td>\n",
       "      <td>American Airlines Inc.</td>\n",
       "      <td>1</td>\n",
       "    </tr>\n",
       "  </tbody>\n",
       "</table>\n",
       "</div>"
      ],
      "text/plain": [
       "  FlightDate    Airline Origin Dest  Cancelled  Diverted  DepDelay  Year  \\\n",
       "0 2019-04-01  Envoy Air    LIT  ORD      False     False     -3.00  2019   \n",
       "1 2019-04-02  Envoy Air    LIT  ORD      False     False    -12.00  2019   \n",
       "2 2019-04-03  Envoy Air    LIT  ORD      False     False     -9.00  2019   \n",
       "3 2019-04-04  Envoy Air    LIT  ORD      False     False    143.00  2019   \n",
       "4 2019-04-05  Envoy Air    LIT  ORD      False     False      4.00  2019   \n",
       "\n",
       "   Month Marketing_Airline_Network  DepDel15 Code            MajorAirline  \\\n",
       "0      4                        AA      0.00   AA  American Airlines Inc.   \n",
       "1      4                        AA      0.00   AA  American Airlines Inc.   \n",
       "2      4                        AA      0.00   AA  American Airlines Inc.   \n",
       "3      4                        AA      1.00   AA  American Airlines Inc.   \n",
       "4      4                        AA      0.00   AA  American Airlines Inc.   \n",
       "\n",
       "   flight_count  \n",
       "0             1  \n",
       "1             1  \n",
       "2             1  \n",
       "3             1  \n",
       "4             1  "
      ]
     },
     "execution_count": 1,
     "metadata": {},
     "output_type": "execute_result"
    }
   ],
   "source": [
    "''' ###USE THIS BLOCK INSTEAD FOR ANY 2019-2021 GRAPHS!!! \n",
    "\n",
    "\n",
    "# Modules/Packages\n",
    "# SHORT COLUMN VERSION\n",
    "\n",
    "# Modules/Packages\n",
    "import sys\n",
    "print(\"System \", sys.version,\"\\n\")\n",
    "import pandas as pd\n",
    "print(\"Pandas \", pd.__version__)\n",
    "import numpy as np\n",
    "print(\"Numpy \", np.__version__)\n",
    "##import pyarrow as pyro\n",
    "#print(\"Pyarrow \", pyro.__version__)\n",
    "import matplotlib.pyplot as plt\n",
    "%matplotlib inline\n",
    "import seaborn as sns\n",
    "print(\"Seaborn \", sns.__version__)\n",
    "from datetime import datetime\n",
    "pd.set_option('display.max_rows', 1000)\n",
    "pd.set_option('display.max_columns', 1000)\n",
    "pd.options.display.float_format = '{:,.2f}'.format\n",
    "\n",
    "# Datasets\n",
    "airlines = pd.read_csv(\"Airlines.csv\")\n",
    "\n",
    "short_columns = ['FlightDate','Airline','Origin','Dest','Cancelled','Diverted','DepDelay','DepDel15','Marketing_Airline_Network','Year','Month']\n",
    "\n",
    "#flights_2018 = pd.read_csv('Combined_Flights_2018.csv', parse_dates=['FlightDate'], usecols=short_columns)\n",
    "flights_2019 = pd.read_csv('Combined_Flights_2019.csv', parse_dates=['FlightDate'], usecols=short_columns)\n",
    "flights_2020 = pd.read_csv('Combined_Flights_2020.csv', parse_dates=['FlightDate'], usecols=short_columns)\n",
    "flights_2021 = pd.read_csv('Combined_Flights_2021.csv', parse_dates=['FlightDate'], usecols=short_columns)\n",
    "#flights_2022 = pd.read_csv('Combined_Flights_2022.csv', parse_dates=['FlightDate'], usecols=short_columns)\n",
    "\n",
    "# Use the df to join multiple years\n",
    "combined_flights = pd.concat([\n",
    "    #flights_2018,\n",
    "    flights_2019,flights_2020,flights_2021\n",
    "    #,flights_2022\n",
    "    ])\n",
    "#df = pd.concat([flights_2020, flights_2021, flights_2022])\n",
    "\n",
    "# Merge with airline dataset in order to get the major airline\n",
    "combined_flights = pd.merge(combined_flights, airlines, left_on='Marketing_Airline_Network', right_on='Code')\n",
    "combined_flights = combined_flights.rename(columns={'Description':'MajorAirline'})\n",
    "combined_flights['flight_count']=1\n",
    "\n",
    "combined_flights['flight_count']=1\n",
    "\n",
    "combined_flights.head(5)\n",
    "\n",
    "\n",
    "'''"
   ]
  },
  {
   "cell_type": "code",
   "execution_count": 112,
   "metadata": {},
   "outputs": [],
   "source": [
    "# TRENDS - SMOOTHED TO MONTH LEVEL\n",
    "\n",
    "trend_flights = pd.DataFrame(combined_flights.groupby([combined_flights['FlightDate'].dt.to_period('m'),'MajorAirline'])['DepDel15'].agg('mean')).reset_index()\n",
    "#trend_flights[\"FlightDate\"] = pd.to_timestamp(trend_flights[\"FlightDate\"], format='%Y-%m')\n",
    "trend_flights['FlightDate'] = trend_flights['FlightDate'].dt.strftime('%Y-%m-01 00:00:00.000')\n",
    "trend_flights_legacy = trend_flights[(trend_flights['MajorAirline']=='American Airlines Inc.') | (trend_flights['MajorAirline']=='Delta Air Lines Inc.') | (trend_flights['MajorAirline']=='United Air Lines Inc.')]\n",
    "#origin_date = combined_weather.groupby(['FlightDate','Origin'])\n",
    "#combined_flights.head()\n",
    "\n",
    "dates = [x for x in trend_flights_legacy['FlightDate']]\n"
   ]
  },
  {
   "cell_type": "code",
   "execution_count": 36,
   "metadata": {},
   "outputs": [],
   "source": [
    "plot_dates = []\n",
    "def trim_dates():\n",
    "    for x in trend_flights_legacy['FlightDate']:\n",
    "        if x not in plot_dates:\n",
    "            plot_dates.append(x)\n",
    "\n",
    "trim_dates()\n",
    "\n",
    "plot_dates = {'FlightDate': plot_dates}\n",
    "plot_dates = pd.DataFrame(plot_dates)\n",
    "\n",
    "plot_dates = {'FlightDate': plot_dates}\n",
    "plot_dates = pd.DataFrame(plot_dates)\n",
    "\n",
    "    "
   ]
  },
  {
   "cell_type": "code",
   "execution_count": 110,
   "metadata": {},
   "outputs": [],
   "source": [
    "# SETTING UP LABELS FOR NEXT GRAPH\n",
    "\n",
    "plot_dates = []\n",
    "def trim_dates():\n",
    "    for x in trend_flights_legacy['FlightDate']:\n",
    "        if x not in plot_dates:\n",
    "            plot_dates.append(x)\n",
    "\n",
    "trim_dates()\n",
    "\n",
    "plot_dates = {'FlightDate': plot_dates}\n",
    "plot_dates = pd.DataFrame(plot_dates)\n",
    "\n",
    "plot_dates['FlightDate'] = pd.to_datetime(plot_dates.FlightDate, format='%Y-%m-%d %H:%M:%S')\n",
    "\n",
    "\n",
    "plot_dates['M'] = plot_dates['FlightDate'].dt.strftime(\"%b\")\n",
    "plot_dates['Y'] = plot_dates['FlightDate'].dt.strftime(\"%Y\")\n",
    "plot_dates['MY'] = plot_dates['M'] + ' ' + plot_dates['Y']\n",
    "\n",
    "quarterly_dates = ['Jan 2019', 'Apr 2019', 'Jul 2019','Oct 2019'\n",
    "                ,'Jan 2020', 'Apr 2020', 'Jul 2020','Oct 2020'\n",
    "                ,'Jan 2021', 'Apr 2021', 'Jul 2021','Oct 2021']\n",
    "\n",
    "plot_dates.loc[plot_dates['MY'].isin(quarterly_dates),'MY_quarter'] = plot_dates['MY']\n",
    "\n",
    "plot_dates.loc[plot_dates['MY_quarter'].isnull(), 'MY_quarter'] = ' '\n",
    "\n"
   ]
  },
  {
   "cell_type": "code",
   "execution_count": 114,
   "metadata": {},
   "outputs": [
    {
     "name": "stderr",
     "output_type": "stream",
     "text": [
      "/tmp/ipykernel_875/4193275749.py:8: UserWarning: FixedFormatter should only be used together with FixedLocator\n",
      "  ax.set_xticklabels(plot_dates.MY_quarter, rotation = 45, ha = \"right\")\n"
     ]
    },
    {
     "data": {
      "text/plain": [
       "Text(0.5, 0, 'Flight Month')"
      ]
     },
     "execution_count": 114,
     "metadata": {},
     "output_type": "execute_result"
    },
    {
     "data": {
      "image/png": "[encoded data removed]",
      "text/plain": [
       "<Figure size 720x288 with 1 Axes>"
      ]
     },
     "metadata": {
      "needs_background": "light"
     },
     "output_type": "display_data"
    }
   ],
   "source": [
    "# TRENDS LINE CHART\n",
    "\n",
    "fig, ax = plt.subplots(figsize=(10, 4))\n",
    "\n",
    "sns.lineplot(data=trend_flights_legacy, x='FlightDate', y='DepDel15', hue='MajorAirline')\n",
    "\n",
    "#ax.set_xticklabels(trend_flights_legacy['FlightDate'].strftime(\"%b\"), rotation = 45)\n",
    "ax.set_xticklabels(plot_dates.MY_quarter, rotation = 45, ha = \"right\")\n",
    "plt.ylim = ([0,.3])\n",
    "ax.get_legend().set_title('')\n",
    "\n",
    "ax.axvline('2020-01-01 00:00:00.000', color='r', linestyle='--', label='Jan 2021')\n",
    "ax.axvline('2021-01-01 00:00:00.000', color='r', linestyle='--', label='Dec 2021')\n",
    "\n",
    "ax.set_ylabel(f'Flight Delay %')\n",
    "ax.set_xlabel(f'Flight Month')"
   ]
  },
  {
   "cell_type": "code",
   "execution_count": 97,
   "metadata": {},
   "outputs": [],
   "source": [
    "# TRENDS - SMOOTHED TO MONTH LEVEL\n",
    "\n",
    "trend_flights = pd.DataFrame(combined_flights.groupby([combined_flights['FlightDate'].dt.to_period('m'),'MajorAirline'])['flight_count'].agg('sum')).reset_index()\n",
    "#trend_flights[\"FlightDate\"] = pd.to_timestamp(trend_flights[\"FlightDate\"], format='%Y-%m')\n",
    "trend_flights['FlightDate'] = trend_flights['FlightDate'].dt.strftime('%Y-%m-01 00:00:00.000')\n",
    "trend_flights_legacy = trend_flights[(trend_flights['MajorAirline']=='American Airlines Inc.') | (trend_flights['MajorAirline']=='Delta Air Lines Inc.') | (trend_flights['MajorAirline']=='United Air Lines Inc.')]\n",
    "#origin_date = combined_weather.groupby(['FlightDate','Origin'])\n",
    "#combined_flights.head()\n",
    "\n",
    "dates = [x for x in trend_flights_legacy['FlightDate']]\n",
    "\n"
   ]
  },
  {
   "cell_type": "code",
   "execution_count": 106,
   "metadata": {},
   "outputs": [
    {
     "name": "stderr",
     "output_type": "stream",
     "text": [
      "/tmp/ipykernel_875/1396725586.py:11: UserWarning: FixedFormatter should only be used together with FixedLocator\n",
      "  ax.set_xticklabels(plot_dates.MY_quarter, rotation = 45, ha = \"right\")\n"
     ]
    },
    {
     "data": {
      "image/png": "[encoded data removed]",
      "text/plain": [
       "<Figure size 720x288 with 1 Axes>"
      ]
     },
     "metadata": {
      "needs_background": "light"
     },
     "output_type": "display_data"
    }
   ],
   "source": [
    "# TRENDS LINE CHART\n",
    "\n",
    "import matplotlib.ticker as mtick\n",
    "\n",
    "\n",
    "fig, ax = plt.subplots(figsize=(10, 4))\n",
    "\n",
    "sns.lineplot(data=trend_flights_legacy, x='FlightDate', y='flight_count', hue='MajorAirline')\n",
    "\n",
    "#ax.set_xticklabels(trend_flights_legacy['FlightDate'].strftime(\"%b\"), rotation = 45)\n",
    "ax.set_xticklabels(plot_dates.MY_quarter, rotation = 45, ha = \"right\")\n",
    "#plt.ylim = ([0,.3])\n",
    "\n",
    "ax.axvline('2020-01-01 00:00:00.000', color='r', linestyle='--', label='Jan 2021')\n",
    "ax.axvline('2021-01-01 00:00:00.000', color='r', linestyle='--', label='Dec 2021')\n",
    "\n",
    "y_range = range(20000, 180000, 40000)\n",
    "ax.yaxis.set_major_formatter(mtick.StrMethodFormatter('{x:,.0f}'))\n",
    "\n",
    "ax.set_title('Flight Volume - Top Airlines - 2019 to 2021')\n",
    "ax.set_ylabel(f'Flight Volume')\n",
    "ax.set_xlabel(f'Flight Month')\n",
    "ax.get_legend().set_title('')\n"
   ]
  },
  {
   "attachments": {},
   "cell_type": "markdown",
   "metadata": {},
   "source": [
    "# WEATHER STARTS HERE"
   ]
  },
  {
   "cell_type": "code",
   "execution_count": 116,
   "metadata": {},
   "outputs": [
    {
     "name": "stderr",
     "output_type": "stream",
     "text": [
      "/tmp/ipykernel_875/4223819385.py:3: DtypeWarning: Columns (8,17,18,42,64,65,78) have mixed types. Specify dtype option on import or set low_memory=False.\n",
      "  atl = pd.read_csv('Atlanta 21.csv', index_col= 'DATE')\n",
      "/tmp/ipykernel_875/4223819385.py:4: DtypeWarning: Columns (10,18) have mixed types. Specify dtype option on import or set low_memory=False.\n",
      "  lax = pd.read_csv('Los Angeles 21.csv', index_col= 'DATE')\n",
      "/tmp/ipykernel_875/4223819385.py:5: DtypeWarning: Columns (8,10,17,64) have mixed types. Specify dtype option on import or set low_memory=False.\n",
      "  ord = pd.read_csv('Chicago 21.csv', index_col= 'DATE')\n",
      "/tmp/ipykernel_875/4223819385.py:6: DtypeWarning: Columns (8,9,17,18,41) have mixed types. Specify dtype option on import or set low_memory=False.\n",
      "  dfw = pd.read_csv('DFW 21.csv', index_col= 'DATE')\n",
      "/tmp/ipykernel_875/4223819385.py:7: DtypeWarning: Columns (17,19,41) have mixed types. Specify dtype option on import or set low_memory=False.\n",
      "  den = pd.read_csv('Denver 21.csv', index_col= 'DATE')\n",
      "/tmp/ipykernel_875/4223819385.py:8: DtypeWarning: Columns (8,9,10,17,41,62,64) have mixed types. Specify dtype option on import or set low_memory=False.\n",
      "  nyc = pd.read_csv('NY JFK 21.csv', index_col= 'DATE')\n",
      "/tmp/ipykernel_875/4223819385.py:9: DtypeWarning: Columns (60,77) have mixed types. Specify dtype option on import or set low_memory=False.\n",
      "  sfo = pd.read_csv('SFO 21.csv', index_col= 'DATE')\n",
      "/tmp/ipykernel_875/4223819385.py:10: DtypeWarning: Columns (9,23,27,33,34,35,37,44,47,48,111) have mixed types. Specify dtype option on import or set low_memory=False.\n",
      "  sea = pd.read_csv('Seattle 21.csv', index_col= 'DATE')\n",
      "/tmp/ipykernel_875/4223819385.py:11: DtypeWarning: Columns (8,9,10,17,18) have mixed types. Specify dtype option on import or set low_memory=False.\n",
      "  mco = pd.read_csv('Orlando 21.csv', index_col= 'DATE')\n",
      "/tmp/ipykernel_875/4223819385.py:12: DtypeWarning: Columns (8,9,10,17,42,60,64,65,77,78) have mixed types. Specify dtype option on import or set low_memory=False.\n",
      "  las = pd.read_csv('LV 21.csv', index_col= 'DATE')\n",
      "/tmp/ipykernel_875/4223819385.py:13: DtypeWarning: Columns (10,18,64,78) have mixed types. Specify dtype option on import or set low_memory=False.\n",
      "  clt = pd.read_csv('Charlotte 21.csv', index_col= 'DATE')\n",
      "/tmp/ipykernel_875/4223819385.py:14: DtypeWarning: Columns (8,9,10,17,18,41,42,64,65,78) have mixed types. Specify dtype option on import or set low_memory=False.\n",
      "  iah = pd.read_csv('Houston 21.csv', index_col= 'DATE')\n",
      "/tmp/ipykernel_875/4223819385.py:15: DtypeWarning: Columns (9,10,60) have mixed types. Specify dtype option on import or set low_memory=False.\n",
      "  phx = pd.read_csv('Phoenix 21.csv', index_col= 'DATE')\n"
     ]
    }
   ],
   "source": [
    "### READ WEATHER DATA\n",
    "\n",
    "atl = pd.read_csv('Atlanta 21.csv', index_col= 'DATE')\n",
    "lax = pd.read_csv('Los Angeles 21.csv', index_col= 'DATE')\n",
    "ord = pd.read_csv('Chicago 21.csv', index_col= 'DATE')\n",
    "dfw = pd.read_csv('DFW 21.csv', index_col= 'DATE')\n",
    "den = pd.read_csv('Denver 21.csv', index_col= 'DATE')\n",
    "nyc = pd.read_csv('NY JFK 21.csv', index_col= 'DATE')\n",
    "sfo = pd.read_csv('SFO 21.csv', index_col= 'DATE')\n",
    "sea = pd.read_csv('Seattle 21.csv', index_col= 'DATE')\n",
    "mco = pd.read_csv('Orlando 21.csv', index_col= 'DATE')\n",
    "las = pd.read_csv('LV 21.csv', index_col= 'DATE')\n",
    "clt = pd.read_csv('Charlotte 21.csv', index_col= 'DATE')\n",
    "iah = pd.read_csv('Houston 21.csv', index_col= 'DATE')\n",
    "phx = pd.read_csv('Phoenix 21.csv', index_col= 'DATE')\n",
    "\n",
    "\n",
    "\n",
    "atl['airport'] = 'ATL'\n",
    "lax['airport'] = 'LAX'\n",
    "ord['airport'] = 'ORD'\n",
    "dfw['airport'] = 'DFW'\n",
    "den['airport'] = 'DEN'\n",
    "nyc['airport'] = 'JFK'\n",
    "sfo['airport'] = 'SFO'\n",
    "sea['airport'] = 'SEA'\n",
    "mco['airport'] = 'MCO'\n",
    "las['airport'] = 'LAS'\n",
    "clt['airport'] = 'CLT'\n",
    "iah['airport'] = 'IAH'\n",
    "phx['airport'] = 'PHX'\n",
    "\n",
    "\n",
    "top_10_aports = [atl, lax, ord, dfw, den, sea, las, clt, iah, phx]\n",
    "aports = [atl, lax, ord, dfw, den, nyc, sfo, sea, mco, las, clt, iah, phx]\n",
    "aports1 = {'atl':'Atlanta', 'lax':'Los Angeles', 'ord':'Orlando',\n",
    "           'dfw':'Dallas Fort-Worth', 'den':'Denver', 'nyc':'New York JFK',\n",
    "           'sfo': 'San Francisco', 'sea': 'Seattle',\n",
    "           'mco':'Orlando', 'las':'Las Vegas',\n",
    "           'clt': 'Charlotte', 'iah': 'Houston',\n",
    "           'phx': 'Phoenix'}\n",
    "aports_names = ['Atlanta', 'Los Angeles','Chicago',\n",
    "           'Dallas Fort-Worth','Denver','New York JFK',\n",
    "           'San Francisco','Seattle',\n",
    "           'Orlando', 'Las Vegas', 'Charlotte',\n",
    "           'Houston','Phoenix']\n",
    "\n",
    "\n",
    "# combine airports\n",
    "weather_agg = pd.concat(top_10_aports,axis = 0)\n",
    "\n",
    "# Only keep rows that do 24-hr summary\n",
    "weather_agg = weather_agg.loc[weather_agg['REPORT_TYPE'].str[0:3]=='SOD']\n",
    "\n",
    "# Keep columns that aggregate data to the daily level\n",
    "weather_agg = weather_agg.iloc[:, list(range(0,7)) + list(range(25,45)) + [-1]]\n"
   ]
  },
  {
   "cell_type": "code",
   "execution_count": 122,
   "metadata": {},
   "outputs": [],
   "source": [
    "# Summarized weather TEXT\n",
    "def weather_code(df,code,new_column_name):\n",
    "    if df['DailyWeather'].str.contains(code):\n",
    "        df[new_column_name] = 1\n",
    "\n",
    "# rain\n",
    "condition = (weather_agg['DailyWeather'].str.contains('RA'))\n",
    "weather_agg['rain_flag'] = condition.fillna(False)\n",
    "\n",
    "# freezin precip\n",
    "condition = (weather_agg['DailyWeather'].str.contains('FZ'))\n",
    "weather_agg['freeze_flag'] = condition.fillna(False)\n",
    "\n",
    "# thunderstorms\n",
    "condition = (weather_agg['DailyWeather'].str.contains('TS'))\n",
    "weather_agg['t_storm_flag'] = condition.fillna(False)\n",
    "\n",
    "# fog\n",
    "condition = (weather_agg['DailyWeather'].str.contains('FG'))\n",
    "weather_agg['fog_flag'] = condition.fillna(False)\n",
    "\n",
    "# snow\n",
    "condition = (weather_agg['DailyWeather'].str.contains('SN'))\n",
    "weather_agg['snow_flag'] = condition.fillna(False)\n",
    "\n"
   ]
  },
  {
   "cell_type": "code",
   "execution_count": 126,
   "metadata": {},
   "outputs": [
    {
     "data": {
      "text/html": [
       "<style type=\"text/css\">\n",
       "#T_49f4b_row0_col0 {\n",
       "  background-color: #b71319;\n",
       "  color: #f1f1f1;\n",
       "}\n",
       "#T_49f4b_row0_col1 {\n",
       "  background-color: #d42121;\n",
       "  color: #f1f1f1;\n",
       "}\n",
       "#T_49f4b_row0_col2 {\n",
       "  background-color: #f96245;\n",
       "  color: #f1f1f1;\n",
       "}\n",
       "#T_49f4b_row0_col3, #T_49f4b_row1_col9 {\n",
       "  background-color: #fcc2aa;\n",
       "  color: #000000;\n",
       "}\n",
       "#T_49f4b_row0_col4 {\n",
       "  background-color: #cb181d;\n",
       "  color: #f1f1f1;\n",
       "}\n",
       "#T_49f4b_row0_col5, #T_49f4b_row1_col5, #T_49f4b_row2_col5, #T_49f4b_row2_col7, #T_49f4b_row3_col0, #T_49f4b_row3_col5, #T_49f4b_row3_col7, #T_49f4b_row3_col9, #T_49f4b_row4_col9 {\n",
       "  background-color: #fff5f0;\n",
       "  color: #000000;\n",
       "}\n",
       "#T_49f4b_row0_col6, #T_49f4b_row1_col8, #T_49f4b_row2_col3, #T_49f4b_row3_col3, #T_49f4b_row4_col8 {\n",
       "  background-color: #67000d;\n",
       "  color: #f1f1f1;\n",
       "}\n",
       "#T_49f4b_row0_col7 {\n",
       "  background-color: #fee7db;\n",
       "  color: #000000;\n",
       "}\n",
       "#T_49f4b_row0_col8 {\n",
       "  background-color: #ab1016;\n",
       "  color: #f1f1f1;\n",
       "}\n",
       "#T_49f4b_row0_col9 {\n",
       "  background-color: #fff1ea;\n",
       "  color: #000000;\n",
       "}\n",
       "#T_49f4b_row1_col0 {\n",
       "  background-color: #d92523;\n",
       "  color: #f1f1f1;\n",
       "}\n",
       "#T_49f4b_row1_col1 {\n",
       "  background-color: #fa6547;\n",
       "  color: #f1f1f1;\n",
       "}\n",
       "#T_49f4b_row1_col2 {\n",
       "  background-color: #c4161c;\n",
       "  color: #f1f1f1;\n",
       "}\n",
       "#T_49f4b_row1_col3 {\n",
       "  background-color: #fb7757;\n",
       "  color: #f1f1f1;\n",
       "}\n",
       "#T_49f4b_row1_col4 {\n",
       "  background-color: #ef3c2c;\n",
       "  color: #f1f1f1;\n",
       "}\n",
       "#T_49f4b_row1_col6 {\n",
       "  background-color: #ffeee7;\n",
       "  color: #000000;\n",
       "}\n",
       "#T_49f4b_row1_col7 {\n",
       "  background-color: #fcab8f;\n",
       "  color: #000000;\n",
       "}\n",
       "#T_49f4b_row2_col0, #T_49f4b_row2_col9 {\n",
       "  background-color: #fff2eb;\n",
       "  color: #000000;\n",
       "}\n",
       "#T_49f4b_row2_col1 {\n",
       "  background-color: #7a0510;\n",
       "  color: #f1f1f1;\n",
       "}\n",
       "#T_49f4b_row2_col2 {\n",
       "  background-color: #fee4d8;\n",
       "  color: #000000;\n",
       "}\n",
       "#T_49f4b_row2_col4 {\n",
       "  background-color: #ffebe2;\n",
       "  color: #000000;\n",
       "}\n",
       "#T_49f4b_row2_col6 {\n",
       "  background-color: #fdc9b3;\n",
       "  color: #000000;\n",
       "}\n",
       "#T_49f4b_row2_col8 {\n",
       "  background-color: #fee8dd;\n",
       "  color: #000000;\n",
       "}\n",
       "#T_49f4b_row3_col1 {\n",
       "  background-color: #fb7c5c;\n",
       "  color: #f1f1f1;\n",
       "}\n",
       "#T_49f4b_row3_col2 {\n",
       "  background-color: #fcb296;\n",
       "  color: #000000;\n",
       "}\n",
       "#T_49f4b_row3_col4 {\n",
       "  background-color: #ffece3;\n",
       "  color: #000000;\n",
       "}\n",
       "#T_49f4b_row3_col6, #T_49f4b_row3_col8 {\n",
       "  background-color: #fdd4c2;\n",
       "  color: #000000;\n",
       "}\n",
       "#T_49f4b_row4_col0 {\n",
       "  background-color: #fc9c7d;\n",
       "  color: #000000;\n",
       "}\n",
       "#T_49f4b_row4_col1 {\n",
       "  background-color: #fcb89e;\n",
       "  color: #000000;\n",
       "}\n",
       "#T_49f4b_row4_col2 {\n",
       "  background-color: #fcbea5;\n",
       "  color: #000000;\n",
       "}\n",
       "#T_49f4b_row4_col3 {\n",
       "  background-color: #f96346;\n",
       "  color: #f1f1f1;\n",
       "}\n",
       "#T_49f4b_row4_col4 {\n",
       "  background-color: #fc8060;\n",
       "  color: #f1f1f1;\n",
       "}\n",
       "#T_49f4b_row4_col5 {\n",
       "  background-color: #dc2924;\n",
       "  color: #f1f1f1;\n",
       "}\n",
       "#T_49f4b_row4_col6 {\n",
       "  background-color: #fdcdb9;\n",
       "  color: #000000;\n",
       "}\n",
       "#T_49f4b_row4_col7 {\n",
       "  background-color: #ffece4;\n",
       "  color: #000000;\n",
       "}\n",
       "</style>\n",
       "<table id=\"T_49f4b\">\n",
       "  <thead>\n",
       "    <tr>\n",
       "      <th class=\"index_name level0\" >airport</th>\n",
       "      <th id=\"T_49f4b_level0_col0\" class=\"col_heading level0 col0\" >ATL</th>\n",
       "      <th id=\"T_49f4b_level0_col1\" class=\"col_heading level0 col1\" >ORD</th>\n",
       "      <th id=\"T_49f4b_level0_col2\" class=\"col_heading level0 col2\" >DFW</th>\n",
       "      <th id=\"T_49f4b_level0_col3\" class=\"col_heading level0 col3\" >DEN</th>\n",
       "      <th id=\"T_49f4b_level0_col4\" class=\"col_heading level0 col4\" >CLT</th>\n",
       "      <th id=\"T_49f4b_level0_col5\" class=\"col_heading level0 col5\" >LAX</th>\n",
       "      <th id=\"T_49f4b_level0_col6\" class=\"col_heading level0 col6\" >SEA</th>\n",
       "      <th id=\"T_49f4b_level0_col7\" class=\"col_heading level0 col7\" >PHX</th>\n",
       "      <th id=\"T_49f4b_level0_col8\" class=\"col_heading level0 col8\" >IAH</th>\n",
       "      <th id=\"T_49f4b_level0_col9\" class=\"col_heading level0 col9\" >LAS</th>\n",
       "    </tr>\n",
       "  </thead>\n",
       "  <tbody>\n",
       "    <tr>\n",
       "      <th id=\"T_49f4b_level0_row0\" class=\"row_heading level0 row0\" >rain_flag</th>\n",
       "      <td id=\"T_49f4b_row0_col0\" class=\"data row0 col0\" >0.37</td>\n",
       "      <td id=\"T_49f4b_row0_col1\" class=\"data row0 col1\" >0.34</td>\n",
       "      <td id=\"T_49f4b_row0_col2\" class=\"data row0 col2\" >0.27</td>\n",
       "      <td id=\"T_49f4b_row0_col3\" class=\"data row0 col3\" >0.18</td>\n",
       "      <td id=\"T_49f4b_row0_col4\" class=\"data row0 col4\" >0.35</td>\n",
       "      <td id=\"T_49f4b_row0_col5\" class=\"data row0 col5\" >0.10</td>\n",
       "      <td id=\"T_49f4b_row0_col6\" class=\"data row0 col6\" >0.44</td>\n",
       "      <td id=\"T_49f4b_row0_col7\" class=\"data row0 col7\" >0.13</td>\n",
       "      <td id=\"T_49f4b_row0_col8\" class=\"data row0 col8\" >0.39</td>\n",
       "      <td id=\"T_49f4b_row0_col9\" class=\"data row0 col9\" >0.11</td>\n",
       "    </tr>\n",
       "    <tr>\n",
       "      <th id=\"T_49f4b_level0_row1\" class=\"row_heading level0 row1\" >t_storm_flag</th>\n",
       "      <td id=\"T_49f4b_row1_col0\" class=\"data row1 col0\" >0.15</td>\n",
       "      <td id=\"T_49f4b_row1_col1\" class=\"data row1 col1\" >0.11</td>\n",
       "      <td id=\"T_49f4b_row1_col2\" class=\"data row1 col2\" >0.16</td>\n",
       "      <td id=\"T_49f4b_row1_col3\" class=\"data row1 col3\" >0.10</td>\n",
       "      <td id=\"T_49f4b_row1_col4\" class=\"data row1 col4\" >0.13</td>\n",
       "      <td id=\"T_49f4b_row1_col5\" class=\"data row1 col5\" >0.01</td>\n",
       "      <td id=\"T_49f4b_row1_col6\" class=\"data row1 col6\" >0.02</td>\n",
       "      <td id=\"T_49f4b_row1_col7\" class=\"data row1 col7\" >0.07</td>\n",
       "      <td id=\"T_49f4b_row1_col8\" class=\"data row1 col8\" >0.21</td>\n",
       "      <td id=\"T_49f4b_row1_col9\" class=\"data row1 col9\" >0.05</td>\n",
       "    </tr>\n",
       "    <tr>\n",
       "      <th id=\"T_49f4b_level0_row2\" class=\"row_heading level0 row2\" >snow_flag</th>\n",
       "      <td id=\"T_49f4b_row2_col0\" class=\"data row2 col0\" >0.00</td>\n",
       "      <td id=\"T_49f4b_row2_col1\" class=\"data row2 col1\" >0.13</td>\n",
       "      <td id=\"T_49f4b_row2_col2\" class=\"data row2 col2\" >0.01</td>\n",
       "      <td id=\"T_49f4b_row2_col3\" class=\"data row2 col3\" >0.13</td>\n",
       "      <td id=\"T_49f4b_row2_col4\" class=\"data row2 col4\" >0.01</td>\n",
       "      <td id=\"T_49f4b_row2_col5\" class=\"data row2 col5\" >0.00</td>\n",
       "      <td id=\"T_49f4b_row2_col6\" class=\"data row2 col6\" >0.03</td>\n",
       "      <td id=\"T_49f4b_row2_col7\" class=\"data row2 col7\" >0.00</td>\n",
       "      <td id=\"T_49f4b_row2_col8\" class=\"data row2 col8\" >0.01</td>\n",
       "      <td id=\"T_49f4b_row2_col9\" class=\"data row2 col9\" >0.00</td>\n",
       "    </tr>\n",
       "    <tr>\n",
       "      <th id=\"T_49f4b_level0_row3\" class=\"row_heading level0 row3\" >freeze_flag</th>\n",
       "      <td id=\"T_49f4b_row3_col0\" class=\"data row3 col0\" >0.00</td>\n",
       "      <td id=\"T_49f4b_row3_col1\" class=\"data row3 col1\" >0.02</td>\n",
       "      <td id=\"T_49f4b_row3_col2\" class=\"data row3 col2\" >0.01</td>\n",
       "      <td id=\"T_49f4b_row3_col3\" class=\"data row3 col3\" >0.05</td>\n",
       "      <td id=\"T_49f4b_row3_col4\" class=\"data row3 col4\" >0.00</td>\n",
       "      <td id=\"T_49f4b_row3_col5\" class=\"data row3 col5\" >0.00</td>\n",
       "      <td id=\"T_49f4b_row3_col6\" class=\"data row3 col6\" >0.01</td>\n",
       "      <td id=\"T_49f4b_row3_col7\" class=\"data row3 col7\" >0.00</td>\n",
       "      <td id=\"T_49f4b_row3_col8\" class=\"data row3 col8\" >0.01</td>\n",
       "      <td id=\"T_49f4b_row3_col9\" class=\"data row3 col9\" >0.00</td>\n",
       "    </tr>\n",
       "    <tr>\n",
       "      <th id=\"T_49f4b_level0_row4\" class=\"row_heading level0 row4\" >fog_flag</th>\n",
       "      <td id=\"T_49f4b_row4_col0\" class=\"data row4 col0\" >0.06</td>\n",
       "      <td id=\"T_49f4b_row4_col1\" class=\"data row4 col1\" >0.04</td>\n",
       "      <td id=\"T_49f4b_row4_col2\" class=\"data row4 col2\" >0.04</td>\n",
       "      <td id=\"T_49f4b_row4_col3\" class=\"data row4 col3\" >0.08</td>\n",
       "      <td id=\"T_49f4b_row4_col4\" class=\"data row4 col4\" >0.07</td>\n",
       "      <td id=\"T_49f4b_row4_col5\" class=\"data row4 col5\" >0.11</td>\n",
       "      <td id=\"T_49f4b_row4_col6\" class=\"data row4 col6\" >0.03</td>\n",
       "      <td id=\"T_49f4b_row4_col7\" class=\"data row4 col7\" >0.01</td>\n",
       "      <td id=\"T_49f4b_row4_col8\" class=\"data row4 col8\" >0.16</td>\n",
       "      <td id=\"T_49f4b_row4_col9\" class=\"data row4 col9\" >0.00</td>\n",
       "    </tr>\n",
       "  </tbody>\n",
       "</table>\n"
      ],
      "text/plain": [
       "<pandas.io.formats.style.Styler at 0x7f0d4e7b6a60>"
      ]
     },
     "execution_count": 126,
     "metadata": {},
     "output_type": "execute_result"
    }
   ],
   "source": [
    "weather_airport = weather_agg.groupby('airport')\n",
    "wx_stats = weather_airport[['rain_flag','t_storm_flag','snow_flag','freeze_flag','fog_flag']].agg('mean')\n",
    "\n",
    "#transporse airports and weather statuses\n",
    "wx_stats = wx_stats.transpose()\n",
    "\n",
    "column_order = ['ATL', 'ORD', 'DFW', 'DEN', 'CLT', 'LAX', 'SEA', 'PHX', 'IAH', 'LAS']\n",
    "wx_stats = wx_stats.reindex(column_order, axis=1)\n",
    "\n",
    "\n",
    "#set gradients\n",
    "wx_stats.style.background_gradient(cmap='Reds', axis = 'columns').format('{:,.2f}')\n"
   ]
  },
  {
   "attachments": {},
   "cell_type": "markdown",
   "metadata": {},
   "source": [
    "# MERGE FLIGHT AND WEATHER"
   ]
  },
  {
   "cell_type": "code",
   "execution_count": 127,
   "metadata": {},
   "outputs": [],
   "source": [
    "# CLEAN UP DATES ON AIRLINE AND WEATHER TO PREPARE A SUCCESFUL JOIN\n",
    "combined_flights['FlightDate']=combined_flights['FlightDate'].astype('datetime64')\n",
    "\n",
    "weather_agg = weather_agg.reset_index()\n",
    "weather_agg['DATE'] = pd.to_datetime(weather_agg['DATE']).dt.date\n",
    "weather_agg['DATE']=weather_agg['DATE'].astype('datetime64')\n",
    "\n"
   ]
  },
  {
   "cell_type": "code",
   "execution_count": 128,
   "metadata": {},
   "outputs": [],
   "source": [
    "combined_weather = pd.merge(combined_flights, weather_agg, left_on=['FlightDate','Origin'], right_on=['DATE','airport'])"
   ]
  },
  {
   "cell_type": "code",
   "execution_count": 132,
   "metadata": {},
   "outputs": [],
   "source": [
    "#SET WEATHER DATA TO NUMERIC\n",
    "\n",
    "#combined_weather.iloc[:, list(range(80,92))].dtypes\n",
    "\n",
    "combined_weather['DailyMinimumDryBulbTemperature'] = combined_weather['DailyMinimumDryBulbTemperature'].replace('s','',regex=True).astype('float64')\n",
    "combined_weather['DailySustainedWindSpeed'] = combined_weather['DailySustainedWindSpeed'].replace('s',0,regex=True).replace('T',0,regex=True).replace('\\*',0,regex=True).astype('float64')\n",
    "combined_weather['DailyPrecipitation'] = combined_weather['DailyPrecipitation'].replace('s',0,regex=True).replace('T',0,regex=True).replace('T',0).astype('float64')\n",
    "combined_weather['DailySnowfall'] = combined_weather['DailySnowfall'].replace('T',0).astype('float64')\n",
    "\n",
    "\n",
    "#len(jan_2021_test.columns)"
   ]
  },
  {
   "cell_type": "code",
   "execution_count": 133,
   "metadata": {},
   "outputs": [],
   "source": [
    "# SNOW SPECIFIC DATA\n",
    "\n",
    "snow_delay = combined_weather[combined_weather['DailySnowfall']>0]\n"
   ]
  },
  {
   "cell_type": "code",
   "execution_count": 142,
   "metadata": {},
   "outputs": [
    {
     "name": "stdout",
     "output_type": "stream",
     "text": [
      "Flight Delay % on days with Thunderstorms vs Without\n"
     ]
    },
    {
     "data": {
      "text/html": [
       "<style type=\"text/css\">\n",
       "#T_ec21c_row0_col0, #T_ec21c_row0_col1, #T_ec21c_row0_col2, #T_ec21c_row0_col3, #T_ec21c_row0_col4, #T_ec21c_row0_col5, #T_ec21c_row0_col6, #T_ec21c_row0_col7, #T_ec21c_row0_col8, #T_ec21c_row0_col9 {\n",
       "  background-color: #08306b;\n",
       "  color: #f1f1f1;\n",
       "}\n",
       "#T_ec21c_row1_col0, #T_ec21c_row1_col1, #T_ec21c_row1_col2, #T_ec21c_row1_col3, #T_ec21c_row1_col4, #T_ec21c_row1_col5, #T_ec21c_row1_col6, #T_ec21c_row1_col7, #T_ec21c_row1_col8, #T_ec21c_row1_col9 {\n",
       "  background-color: #f7fbff;\n",
       "  color: #000000;\n",
       "}\n",
       "</style>\n",
       "<table id=\"T_ec21c\">\n",
       "  <thead>\n",
       "    <tr>\n",
       "      <th class=\"index_name level0\" >Origin</th>\n",
       "      <th id=\"T_ec21c_level0_col0\" class=\"col_heading level0 col0\" >ATL</th>\n",
       "      <th id=\"T_ec21c_level0_col1\" class=\"col_heading level0 col1\" >ORD</th>\n",
       "      <th id=\"T_ec21c_level0_col2\" class=\"col_heading level0 col2\" >DFW</th>\n",
       "      <th id=\"T_ec21c_level0_col3\" class=\"col_heading level0 col3\" >DEN</th>\n",
       "      <th id=\"T_ec21c_level0_col4\" class=\"col_heading level0 col4\" >CLT</th>\n",
       "      <th id=\"T_ec21c_level0_col5\" class=\"col_heading level0 col5\" >LAX</th>\n",
       "      <th id=\"T_ec21c_level0_col6\" class=\"col_heading level0 col6\" >SEA</th>\n",
       "      <th id=\"T_ec21c_level0_col7\" class=\"col_heading level0 col7\" >PHX</th>\n",
       "      <th id=\"T_ec21c_level0_col8\" class=\"col_heading level0 col8\" >IAH</th>\n",
       "      <th id=\"T_ec21c_level0_col9\" class=\"col_heading level0 col9\" >LAS</th>\n",
       "    </tr>\n",
       "  </thead>\n",
       "  <tbody>\n",
       "    <tr>\n",
       "      <th id=\"T_ec21c_level0_row0\" class=\"row_heading level0 row0\" >t-storms</th>\n",
       "      <td id=\"T_ec21c_row0_col0\" class=\"data row0 col0\" >0.25</td>\n",
       "      <td id=\"T_ec21c_row0_col1\" class=\"data row0 col1\" >0.34</td>\n",
       "      <td id=\"T_ec21c_row0_col2\" class=\"data row0 col2\" >0.35</td>\n",
       "      <td id=\"T_ec21c_row0_col3\" class=\"data row0 col3\" >0.42</td>\n",
       "      <td id=\"T_ec21c_row0_col4\" class=\"data row0 col4\" >0.27</td>\n",
       "      <td id=\"T_ec21c_row0_col5\" class=\"data row0 col5\" >0.23</td>\n",
       "      <td id=\"T_ec21c_row0_col6\" class=\"data row0 col6\" >0.17</td>\n",
       "      <td id=\"T_ec21c_row0_col7\" class=\"data row0 col7\" >0.31</td>\n",
       "      <td id=\"T_ec21c_row0_col8\" class=\"data row0 col8\" >0.31</td>\n",
       "      <td id=\"T_ec21c_row0_col9\" class=\"data row0 col9\" >0.37</td>\n",
       "    </tr>\n",
       "    <tr>\n",
       "      <th id=\"T_ec21c_level0_row1\" class=\"row_heading level0 row1\" >no t-storms</th>\n",
       "      <td id=\"T_ec21c_row1_col0\" class=\"data row1 col0\" >0.12</td>\n",
       "      <td id=\"T_ec21c_row1_col1\" class=\"data row1 col1\" >0.15</td>\n",
       "      <td id=\"T_ec21c_row1_col2\" class=\"data row1 col2\" >0.19</td>\n",
       "      <td id=\"T_ec21c_row1_col3\" class=\"data row1 col3\" >0.22</td>\n",
       "      <td id=\"T_ec21c_row1_col4\" class=\"data row1 col4\" >0.11</td>\n",
       "      <td id=\"T_ec21c_row1_col5\" class=\"data row1 col5\" >0.17</td>\n",
       "      <td id=\"T_ec21c_row1_col6\" class=\"data row1 col6\" >0.14</td>\n",
       "      <td id=\"T_ec21c_row1_col7\" class=\"data row1 col7\" >0.19</td>\n",
       "      <td id=\"T_ec21c_row1_col8\" class=\"data row1 col8\" >0.14</td>\n",
       "      <td id=\"T_ec21c_row1_col9\" class=\"data row1 col9\" >0.23</td>\n",
       "    </tr>\n",
       "  </tbody>\n",
       "</table>\n"
      ],
      "text/plain": [
       "<pandas.io.formats.style.Styler at 0x7f0d385d48e0>"
      ]
     },
     "execution_count": 142,
     "metadata": {},
     "output_type": "execute_result"
    }
   ],
   "source": [
    "x= combined_weather.groupby(['Origin','t_storm_flag'])['DepDel15'].agg('mean').unstack().transpose()\n",
    "x = pd.DataFrame(x).reset_index()\n",
    "#combined_weather.groupby(['Origin','freeze_flag'])['DepDel15'].agg('mean').unstack()\n",
    "#combined_weather.groupby(['Origin','snow_flag'])['DepDel15'].agg('mean').unstack()\n",
    "#combined_weather.groupby(['Origin','rain_flag'])['DepDel15'].agg('mean').unstack()\n",
    "column_order = ['ATL', 'ORD', 'DFW', 'DEN', 'CLT', 'LAX', 'SEA', 'PHX', 'IAH', 'LAS']\n",
    "x = x.reindex(column_order, axis=1)\n",
    "x = x.rename(index={0: 'no t-storms', 1: 't-storms'})\n",
    "x = x.reindex(['t-storms', 'no t-storms'])\n",
    "\n",
    "#set gradients\n",
    "print('Flight Delay % on days with Thunderstorms vs Without')\n",
    "\n",
    "x.style.background_gradient(cmap='Blues').format('{:,.2f}')\n"
   ]
  },
  {
   "cell_type": "code",
   "execution_count": 143,
   "metadata": {},
   "outputs": [],
   "source": [
    "#overall series\n",
    "origin_date = combined_weather.groupby(['FlightDate','Origin'])\n",
    "origin_date.head()\n",
    "origin_date[['DepDel15','DepDelay','DailyPrecipitation','DailySnowfall','DailySustainedWindSpeed','DailyMaximumDryBulbTemperature']].agg(['mean'])\n",
    "\n",
    "weather_delay = origin_date[['DepDel15','DepDelay','DailyPrecipitation','DailySnowfall','DailySustainedWindSpeed','DailyMaximumDryBulbTemperature']].agg(['mean'])\n",
    "\n",
    "#snow series\n",
    "origin_snow = snow_delay.groupby(['FlightDate','Origin'])\n",
    "origin_snow.head()\n",
    "origin_snow[['DepDel15','DepDelay','DailyPrecipitation','DailySnowfall','DailySustainedWindSpeed','DailyMaximumDryBulbTemperature']].agg(['mean'])\n",
    "\n",
    "weather_snow = origin_snow[['Cancelled','DepDel15','DepDelay','DailyPrecipitation','DailySnowfall','DailySustainedWindSpeed','DailyMaximumDryBulbTemperature']].agg(['mean'])\n",
    "\n"
   ]
  },
  {
   "cell_type": "code",
   "execution_count": 146,
   "metadata": {},
   "outputs": [
    {
     "data": {
      "text/plain": [
       "Text(0.5, 1.0, 'Percent of Flights Delayed by Snowfall (inches)')"
      ]
     },
     "execution_count": 146,
     "metadata": {},
     "output_type": "execute_result"
    },
    {
     "data": {
      "image/png": "[encoded data removed]",
      "text/plain": [
       "<Figure size 504x288 with 1 Axes>"
      ]
     },
     "metadata": {
      "needs_background": "light"
     },
     "output_type": "display_data"
    }
   ],
   "source": [
    "## SNOW DELAYS\n",
    "\n",
    "fig = plt.figure(figsize = (7,4))\n",
    "ax1 = fig.add_subplot(1,1,1)\n",
    "\n",
    "ax1.set_ylabel(f'Flight Delay %')\n",
    "ax1.set_xlabel(f'Snow inches')\n",
    "\n",
    "type(weather_delay)\n",
    "weather_delay.columns\n",
    "#snow_flag = weather_delay[weather_delay['DailySnowfall']>0]\n",
    "ax1.scatter(weather_snow['DailySnowfall'],weather_snow['DepDel15'],cmap = 'Blues')\n",
    "ax1.set_title('Percent of Flights Delayed by Snowfall (inches)')"
   ]
  },
  {
   "cell_type": "code",
   "execution_count": 147,
   "metadata": {},
   "outputs": [
    {
     "data": {
      "text/plain": [
       "Text(0.5, 1.0, 'Percent of Flights Cancelled by Snowfall (inches)')"
      ]
     },
     "execution_count": 147,
     "metadata": {},
     "output_type": "execute_result"
    },
    {
     "data": {
      "image/png": "[encoded data removed]",
      "text/plain": [
       "<Figure size 504x288 with 1 Axes>"
      ]
     },
     "metadata": {
      "needs_background": "light"
     },
     "output_type": "display_data"
    }
   ],
   "source": [
    "## SNOW CANCELS\n",
    "\n",
    "fig = plt.figure(figsize = (7,4))\n",
    "ax1 = fig.add_subplot(1,1,1)\n",
    "\n",
    "ax1.set_ylabel(f'Canceled %')\n",
    "ax1.set_xlabel(f'Snow inches')\n",
    "\n",
    "type(weather_delay)\n",
    "weather_delay.columns\n",
    "#snow_flag = weather_delay[weather_delay['DailySnowfall']>0]\n",
    "ax1.scatter(weather_snow['DailySnowfall'],weather_snow['Cancelled'], cmap = 'Blues')\n",
    "ax1.set_title('Percent of Flights Cancelled by Snowfall (inches)')"
   ]
  },
  {
   "cell_type": "code",
   "execution_count": 80,
   "metadata": {},
   "outputs": [],
   "source": [
    "weather_delay = origin_date[['DepDel15','DepDelay','DailyPrecipitation','DailySnowfall','DailySustainedWindSpeed','DailyMaximumDryBulbTemperature']].agg(['mean'])\n"
   ]
  },
  {
   "attachments": {},
   "cell_type": "markdown",
   "metadata": {},
   "source": [
    "# AIRPORT & MAPS"
   ]
  },
  {
   "cell_type": "code",
   "execution_count": 125,
   "metadata": {},
   "outputs": [
    {
     "data": {
      "text/plain": [
       "Index(['iata', 'airport', 'city', 'state', 'country', 'latitude', 'longitude'], dtype='object')"
      ]
     },
     "execution_count": 125,
     "metadata": {},
     "output_type": "execute_result"
    }
   ],
   "source": [
    "# import csv file that has latitude & longitude for every US airport\n",
    "# lat and long is necessary to create the maps\n",
    "airports = pd.read_csv('airports.csv')\n",
    "airports.columns = [x.lower() for x in airports.columns]\n",
    "\n",
    "airports.head()"
   ]
  },
  {
   "cell_type": "code",
   "execution_count": 129,
   "metadata": {},
   "outputs": [
    {
     "data": {
      "text/plain": [
       "Origin\n",
       "ATL    313287\n",
       "ORD    285607\n",
       "DFW    280418\n",
       "DEN    268140\n",
       "CLT    226221\n",
       "Name: flight_count, dtype: int64"
      ]
     },
     "execution_count": 129,
     "metadata": {},
     "output_type": "execute_result"
    }
   ],
   "source": [
    "# aggregate flight data from original dataset\n",
    "airport_flights = combined_flights.groupby('Origin')['flight_count'].agg('sum')\n",
    "airport_flights.sort_values(ascending = False).head()"
   ]
  },
  {
   "cell_type": "code",
   "execution_count": 130,
   "metadata": {},
   "outputs": [
    {
     "data": {
      "text/html": [
       "<div>\n",
       "<style scoped>\n",
       "    .dataframe tbody tr th:only-of-type {\n",
       "        vertical-align: middle;\n",
       "    }\n",
       "\n",
       "    .dataframe tbody tr th {\n",
       "        vertical-align: top;\n",
       "    }\n",
       "\n",
       "    .dataframe thead th {\n",
       "        text-align: right;\n",
       "    }\n",
       "</style>\n",
       "<table border=\"1\" class=\"dataframe\">\n",
       "  <thead>\n",
       "    <tr style=\"text-align: right;\">\n",
       "      <th></th>\n",
       "      <th>iata</th>\n",
       "      <th>airport</th>\n",
       "      <th>city</th>\n",
       "      <th>state</th>\n",
       "      <th>country</th>\n",
       "      <th>latitude</th>\n",
       "      <th>longitude</th>\n",
       "      <th>flight_count</th>\n",
       "    </tr>\n",
       "  </thead>\n",
       "  <tbody>\n",
       "    <tr>\n",
       "      <th>0</th>\n",
       "      <td>ABQ</td>\n",
       "      <td>Albuquerque International</td>\n",
       "      <td>Albuquerque</td>\n",
       "      <td>NM</td>\n",
       "      <td>USA</td>\n",
       "      <td>35.04</td>\n",
       "      <td>-106.61</td>\n",
       "      <td>17,891.00</td>\n",
       "    </tr>\n",
       "    <tr>\n",
       "      <th>1</th>\n",
       "      <td>ANC</td>\n",
       "      <td>Ted Stevens Anchorage International</td>\n",
       "      <td>Anchorage</td>\n",
       "      <td>AK</td>\n",
       "      <td>USA</td>\n",
       "      <td>61.17</td>\n",
       "      <td>-150.00</td>\n",
       "      <td>19,333.00</td>\n",
       "    </tr>\n",
       "    <tr>\n",
       "      <th>2</th>\n",
       "      <td>ATL</td>\n",
       "      <td>William B Hartsfield-Atlanta Intl</td>\n",
       "      <td>Atlanta</td>\n",
       "      <td>GA</td>\n",
       "      <td>USA</td>\n",
       "      <td>33.64</td>\n",
       "      <td>-84.43</td>\n",
       "      <td>313,287.00</td>\n",
       "    </tr>\n",
       "    <tr>\n",
       "      <th>3</th>\n",
       "      <td>AUS</td>\n",
       "      <td>Austin-Bergstrom International</td>\n",
       "      <td>Austin</td>\n",
       "      <td>TX</td>\n",
       "      <td>USA</td>\n",
       "      <td>30.19</td>\n",
       "      <td>-97.67</td>\n",
       "      <td>61,530.00</td>\n",
       "    </tr>\n",
       "    <tr>\n",
       "      <th>4</th>\n",
       "      <td>BDL</td>\n",
       "      <td>Bradley International</td>\n",
       "      <td>Windsor Locks</td>\n",
       "      <td>CT</td>\n",
       "      <td>USA</td>\n",
       "      <td>41.94</td>\n",
       "      <td>-72.68</td>\n",
       "      <td>20,586.00</td>\n",
       "    </tr>\n",
       "  </tbody>\n",
       "</table>\n",
       "</div>"
      ],
      "text/plain": [
       "  iata                              airport           city state country  \\\n",
       "0  ABQ            Albuquerque International    Albuquerque    NM     USA   \n",
       "1  ANC  Ted Stevens Anchorage International      Anchorage    AK     USA   \n",
       "2  ATL    William B Hartsfield-Atlanta Intl        Atlanta    GA     USA   \n",
       "3  AUS       Austin-Bergstrom International         Austin    TX     USA   \n",
       "4  BDL                Bradley International  Windsor Locks    CT     USA   \n",
       "\n",
       "   latitude  longitude  flight_count  \n",
       "0     35.04    -106.61     17,891.00  \n",
       "1     61.17    -150.00     19,333.00  \n",
       "2     33.64     -84.43    313,287.00  \n",
       "3     30.19     -97.67     61,530.00  \n",
       "4     41.94     -72.68     20,586.00  "
      ]
     },
     "execution_count": 130,
     "metadata": {},
     "output_type": "execute_result"
    }
   ],
   "source": [
    "# merge airport dataset (with lat/lon) & original data set (w/flight info)\n",
    "airports = airports.merge(airport_flights, how = 'left', left_on='iata', right_on = 'Origin')\n",
    "airports = airports[airports['flight_count'].notnull()]\n",
    "\n",
    "#len(airports)\n",
    "airports.head()"
   ]
  },
  {
   "cell_type": "code",
   "execution_count": 131,
   "metadata": {},
   "outputs": [
    {
     "data": {
      "text/html": [
       "<div>\n",
       "<style scoped>\n",
       "    .dataframe tbody tr th:only-of-type {\n",
       "        vertical-align: middle;\n",
       "    }\n",
       "\n",
       "    .dataframe tbody tr th {\n",
       "        vertical-align: top;\n",
       "    }\n",
       "\n",
       "    .dataframe thead th {\n",
       "        text-align: right;\n",
       "    }\n",
       "</style>\n",
       "<table border=\"1\" class=\"dataframe\">\n",
       "  <thead>\n",
       "    <tr style=\"text-align: right;\">\n",
       "      <th></th>\n",
       "      <th>iata</th>\n",
       "      <th>airport</th>\n",
       "      <th>city</th>\n",
       "      <th>state</th>\n",
       "      <th>country</th>\n",
       "      <th>latitude</th>\n",
       "      <th>longitude</th>\n",
       "      <th>flight_count</th>\n",
       "    </tr>\n",
       "  </thead>\n",
       "  <tbody>\n",
       "    <tr>\n",
       "      <th>0</th>\n",
       "      <td>ABQ</td>\n",
       "      <td>Albuquerque International</td>\n",
       "      <td>Albuquerque</td>\n",
       "      <td>NM</td>\n",
       "      <td>USA</td>\n",
       "      <td>35.04</td>\n",
       "      <td>-106.61</td>\n",
       "      <td>17891</td>\n",
       "    </tr>\n",
       "    <tr>\n",
       "      <th>1</th>\n",
       "      <td>ANC</td>\n",
       "      <td>Ted Stevens Anchorage International</td>\n",
       "      <td>Anchorage</td>\n",
       "      <td>AK</td>\n",
       "      <td>USA</td>\n",
       "      <td>61.17</td>\n",
       "      <td>-150.00</td>\n",
       "      <td>19333</td>\n",
       "    </tr>\n",
       "    <tr>\n",
       "      <th>2</th>\n",
       "      <td>ATL</td>\n",
       "      <td>William B Hartsfield-Atlanta Intl</td>\n",
       "      <td>Atlanta</td>\n",
       "      <td>GA</td>\n",
       "      <td>USA</td>\n",
       "      <td>33.64</td>\n",
       "      <td>-84.43</td>\n",
       "      <td>313287</td>\n",
       "    </tr>\n",
       "    <tr>\n",
       "      <th>3</th>\n",
       "      <td>AUS</td>\n",
       "      <td>Austin-Bergstrom International</td>\n",
       "      <td>Austin</td>\n",
       "      <td>TX</td>\n",
       "      <td>USA</td>\n",
       "      <td>30.19</td>\n",
       "      <td>-97.67</td>\n",
       "      <td>61530</td>\n",
       "    </tr>\n",
       "    <tr>\n",
       "      <th>4</th>\n",
       "      <td>BDL</td>\n",
       "      <td>Bradley International</td>\n",
       "      <td>Windsor Locks</td>\n",
       "      <td>CT</td>\n",
       "      <td>USA</td>\n",
       "      <td>41.94</td>\n",
       "      <td>-72.68</td>\n",
       "      <td>20586</td>\n",
       "    </tr>\n",
       "  </tbody>\n",
       "</table>\n",
       "</div>"
      ],
      "text/plain": [
       "  iata                              airport           city state country  \\\n",
       "0  ABQ            Albuquerque International    Albuquerque    NM     USA   \n",
       "1  ANC  Ted Stevens Anchorage International      Anchorage    AK     USA   \n",
       "2  ATL    William B Hartsfield-Atlanta Intl        Atlanta    GA     USA   \n",
       "3  AUS       Austin-Bergstrom International         Austin    TX     USA   \n",
       "4  BDL                Bradley International  Windsor Locks    CT     USA   \n",
       "\n",
       "   latitude  longitude  flight_count  \n",
       "0     35.04    -106.61         17891  \n",
       "1     61.17    -150.00         19333  \n",
       "2     33.64     -84.43        313287  \n",
       "3     30.19     -97.67         61530  \n",
       "4     41.94     -72.68         20586  "
      ]
     },
     "execution_count": 131,
     "metadata": {},
     "output_type": "execute_result"
    }
   ],
   "source": [
    "# turn to int for plotting\n",
    "airports['flight_count']=airports['flight_count'].astype('int')\n",
    "airports.head()"
   ]
  },
  {
   "cell_type": "code",
   "execution_count": 132,
   "metadata": {},
   "outputs": [],
   "source": [
    "## OPTIONAL - to change size of bubble\n",
    "def multiply_flights(data_f):\n",
    "    l = []\n",
    "    for i in data_f.flight_count:\n",
    "        j = i ** 1.3\n",
    "        l.append(j)\n",
    "    return l #i ** 1.6\n",
    "\n",
    "airports['flight_count_mod'] = multiply_flights(airports)\n",
    "\n"
   ]
  },
  {
   "cell_type": "code",
   "execution_count": 203,
   "metadata": {},
   "outputs": [
    {
     "data": {
      "application/vnd.plotly.v1+json": {
       "config": {
        "plotlyServerURL": "https://plot.ly"
       },
       "data": [
        {
         "geo": "geo",
         "hovertemplate": "<b>%{hovertext}</b><br><br>flight_count=%{marker.size}<br>top10=%{text}<br>latitude=%{lat}<br>longitude=%{lon}<extra></extra>",
         "hovertext": [
          35.04022222,
          61.17432028,
          33.64044444,
          30.19453278,
          41.93887417,
          33.56294306,
          36.12447667,
          42.3643475,
          42.94052472,
          34.20061917,
          39.17540167,
          32.89864639,
          41.41089417,
          35.21401111,
          39.99798528,
          39.04614278,
          32.84711389,
          38.85208333,
          39.85840806,
          32.89595056,
          42.21205889,
          31.80666667,
          40.69249722,
          26.07258333,
          21.31869111,
          29.64541861,
          38.94453194,
          29.98047222,
          39.71732917,
          30.49405556,
          40.63975111,
          36.08036111,
          33.94253611,
          40.77724306,
          34.72939611,
          39.29760528,
          28.42888889,
          41.7859825,
          35.04241667,
          25.79325,
          42.94722222,
          44.88054694,
          29.99338889,
          37.72129083,
          20.89864972,
          35.39308833,
          41.30251861,
          34.056,
          41.979595,
          36.89461111,
          26.68316194,
          45.58872222,
          39.87195278,
          33.43416667,
          40.49146583,
          41.72399917,
          35.87763889,
          37.50516667,
          39.49857611,
          26.53616667,
          32.73355611,
          29.53369444,
          38.17438889,
          47.44898194,
          37.61900194,
          37.36186194,
          18.43941667,
          40.78838778,
          38.69542167,
          33.67565861,
          38.74768694,
          27.97547222,
          36.19837222,
          32.11608333,
          40.65236278,
          32.41132,
          45.44905556,
          31.535515,
          41.25305194,
          31.61128833,
          40.97811528,
          39.45758333,
          51.87796389,
          57.74996778,
          31.32737167,
          33.369955,
          58.67680167,
          42.74811944,
          42.55708139,
          35.2193725,
          45.0780675,
          43.99192222,
          39.22316,
          44.25740806,
          35.43619444,
          41.33814944,
          42.234875,
          60.77977639,
          35.43359806,
          42.20848278,
          44.80744444,
          45.8076625,
          46.77411111,
          47.50942417,
          48.79275,
          40.47798556,
          43.56444444,
          29.95083333,
          31.25902778,
          18.49486111,
          46.39785806,
          25.90683333,
          71.2854475,
          45.95479528,
          30.53316083,
          44.47300361,
          45.77690139,
          33.93884,
          40.91631194,
          37.70097028,
          60.49183389,
          35.03526833,
          38.13863889,
          41.88458833,
          46.25075194,
          30.58858944,
          40.03925,
          47.16841722,
          38.75495611,
          44.52019417,
          38.80580556,
          38.81809306,
          42.90835556,
          27.77036083,
          38.37315083,
          32.51633333,
          44.77761917,
          41.1557225,
          29.17991667,
          39.90237583,
          42.40295944,
          31.32133917,
          46.79738889,
          59.0454125,
          46.84209028,
          37.15151667,
          29.37181222,
          41.53493306,
          48.11424528,
          44.86525722,
          39.64256778,
          40.82492611,
          42.15991361,
          42.08202139,
          45.72266972,
          44.12326,
          38.03799139,
          35.07297222,
          24.55611111,
          64.8136775,
          46.91934889,
          36.77619444,
          34.99147222,
          48.31140472,
          35.13845472,
          34.18536111,
          42.96550333,
          43.58135111,
          35.33659028,
          40.97846583,
          44.34889806,
          37.92751556,
          47.61985556,
          47.949255,
          32.38486111,
          39.1224125,
          29.69005556,
          30.40728028,
          44.48507333,
          40.96747222,
          31.06489778,
          42.88081972,
          36.09774694,
          34.89566722,
          58.42438139,
          47.48200194,
          33.45033444,
          38.53396333,
          13.48345,
          40.48118028,
          47.38659917,
          46.60681806,
          32.68752778,
          41.06695778,
          26.22850611,
          34.6404475,
          38.36666667,
          41.66933639,
          38.84494167,
          37.64995889,
          43.51455556,
          39.67872222,
          34.27061111,
          45.81835417,
          48.56618722,
          40.7952425,
          42.49102778,
          19.72026306,
          43.60732417,
          32.31116667,
          37.15181361,
          46.92971944,
          58.35496194,
          19.73876583,
          55.35556861,
          42.7787,
          41.31205,
          34.56771444,
          33.66363889,
          30.1260975,
          38.03697222,
          30.20527972,
          33.81772222,
          21.97598306,
          40.85097222,
          27.54373861,
          43.87937972,
          37.85830556,
          46.37449806,
          37.32668528,
          31.94252778,
          43.53291472,
          40.19349528,
          32.33313333,
          26.17583333,
          42.37422778,
          32.30064417,
          39.14096722,
          42.93451639,
          43.16948806,
          28.10275,
          41.44852639,
          32.51086556,
          30.69141667,
          48.25937778,
          46.353639,
          36.5869825,
          43.13985778,
          46.91630556,
          38.50886722,
          41.39302583,
          33.67975,
          34.82916444,
          64.51220222,
          42.26733944,
          43.41713889,
          66.88467694,
          37.06083333,
          37.13189556,
          40.66424333,
          31.46714944,
          27.91076333,
          42.91130556,
          44.38267694,
          45.5709275,
          30.47330556,
          14.33102278,
          46.26468028,
          18.00830278,
          56.80165194,
          33.82921556,
          38.28908722,
          43.64616667,
          44.04532139,
          40.50898361,
          44.25406722,
          42.19536389,
          45.63119306,
          41.5942175,
          37.32546833,
          43.11886611,
          33.30155556,
          43.90882639,
          35.61677778,
          32.12758333,
          34.42621194,
          41.70895361,
          35.23705806,
          70.19475583,
          40.851206,
          37.24432611,
          37.09058333,
          38.26384333,
          32.4466275,
          57.04713806,
          31.35775,
          34.89924833,
          39.84395194,
          14.996111,
          33.98879611,
          27.39533333,
          45.54532417,
          18.33730556,
          17.70188889,
          43.50484139,
          42.40260333,
          41.50409361,
          43.11118694,
          30.39652778,
          41.58680556,
          36.47521417,
          40.27669111,
          44.74144472,
          42.48180389,
          33.45370806,
          32.35413889,
          35.81248722,
          40.44090167,
          30.7825,
          30.48325,
          56.48432583,
          44.68839917,
          36.28186944,
          59.50336056,
          32.65658333
         ],
         "lat": [
          35.04022222,
          61.17432028,
          33.64044444,
          30.19453278,
          41.93887417,
          33.56294306,
          36.12447667,
          42.3643475,
          42.94052472,
          34.20061917,
          39.17540167,
          32.89864639,
          41.41089417,
          35.21401111,
          39.99798528,
          39.04614278,
          32.84711389,
          38.85208333,
          39.85840806,
          32.89595056,
          42.21205889,
          31.80666667,
          40.69249722,
          26.07258333,
          21.31869111,
          29.64541861,
          38.94453194,
          29.98047222,
          39.71732917,
          30.49405556,
          40.63975111,
          36.08036111,
          33.94253611,
          40.77724306,
          34.72939611,
          39.29760528,
          28.42888889,
          41.7859825,
          35.04241667,
          25.79325,
          42.94722222,
          44.88054694,
          29.99338889,
          37.72129083,
          20.89864972,
          35.39308833,
          41.30251861,
          34.056,
          41.979595,
          36.89461111,
          26.68316194,
          45.58872222,
          39.87195278,
          33.43416667,
          40.49146583,
          41.72399917,
          35.87763889,
          37.50516667,
          39.49857611,
          26.53616667,
          32.73355611,
          29.53369444,
          38.17438889,
          47.44898194,
          37.61900194,
          37.36186194,
          18.43941667,
          40.78838778,
          38.69542167,
          33.67565861,
          38.74768694,
          27.97547222,
          36.19837222,
          32.11608333,
          40.65236278,
          32.41132,
          45.44905556,
          31.535515,
          41.25305194,
          31.61128833,
          40.97811528,
          39.45758333,
          51.87796389,
          57.74996778,
          31.32737167,
          33.369955,
          58.67680167,
          42.74811944,
          42.55708139,
          35.2193725,
          45.0780675,
          43.99192222,
          39.22316,
          44.25740806,
          35.43619444,
          41.33814944,
          42.234875,
          60.77977639,
          35.43359806,
          42.20848278,
          44.80744444,
          45.8076625,
          46.77411111,
          47.50942417,
          48.79275,
          40.47798556,
          43.56444444,
          29.95083333,
          31.25902778,
          18.49486111,
          46.39785806,
          25.90683333,
          71.2854475,
          45.95479528,
          30.53316083,
          44.47300361,
          45.77690139,
          33.93884,
          40.91631194,
          37.70097028,
          60.49183389,
          35.03526833,
          38.13863889,
          41.88458833,
          46.25075194,
          30.58858944,
          40.03925,
          47.16841722,
          38.75495611,
          44.52019417,
          38.80580556,
          38.81809306,
          42.90835556,
          27.77036083,
          38.37315083,
          32.51633333,
          44.77761917,
          41.1557225,
          29.17991667,
          39.90237583,
          42.40295944,
          31.32133917,
          46.79738889,
          59.0454125,
          46.84209028,
          37.15151667,
          29.37181222,
          41.53493306,
          48.11424528,
          44.86525722,
          39.64256778,
          40.82492611,
          42.15991361,
          42.08202139,
          45.72266972,
          44.12326,
          38.03799139,
          35.07297222,
          24.55611111,
          64.8136775,
          46.91934889,
          36.77619444,
          34.99147222,
          48.31140472,
          35.13845472,
          34.18536111,
          42.96550333,
          43.58135111,
          35.33659028,
          40.97846583,
          44.34889806,
          37.92751556,
          47.61985556,
          47.949255,
          32.38486111,
          39.1224125,
          29.69005556,
          30.40728028,
          44.48507333,
          40.96747222,
          31.06489778,
          42.88081972,
          36.09774694,
          34.89566722,
          58.42438139,
          47.48200194,
          33.45033444,
          38.53396333,
          13.48345,
          40.48118028,
          47.38659917,
          46.60681806,
          32.68752778,
          41.06695778,
          26.22850611,
          34.6404475,
          38.36666667,
          41.66933639,
          38.84494167,
          37.64995889,
          43.51455556,
          39.67872222,
          34.27061111,
          45.81835417,
          48.56618722,
          40.7952425,
          42.49102778,
          19.72026306,
          43.60732417,
          32.31116667,
          37.15181361,
          46.92971944,
          58.35496194,
          19.73876583,
          55.35556861,
          42.7787,
          41.31205,
          34.56771444,
          33.66363889,
          30.1260975,
          38.03697222,
          30.20527972,
          33.81772222,
          21.97598306,
          40.85097222,
          27.54373861,
          43.87937972,
          37.85830556,
          46.37449806,
          37.32668528,
          31.94252778,
          43.53291472,
          40.19349528,
          32.33313333,
          26.17583333,
          42.37422778,
          32.30064417,
          39.14096722,
          42.93451639,
          43.16948806,
          28.10275,
          41.44852639,
          32.51086556,
          30.69141667,
          48.25937778,
          46.353639,
          36.5869825,
          43.13985778,
          46.91630556,
          38.50886722,
          41.39302583,
          33.67975,
          34.82916444,
          64.51220222,
          42.26733944,
          43.41713889,
          66.88467694,
          37.06083333,
          37.13189556,
          40.66424333,
          31.46714944,
          27.91076333,
          42.91130556,
          44.38267694,
          45.5709275,
          30.47330556,
          14.33102278,
          46.26468028,
          18.00830278,
          56.80165194,
          33.82921556,
          38.28908722,
          43.64616667,
          44.04532139,
          40.50898361,
          44.25406722,
          42.19536389,
          45.63119306,
          41.5942175,
          37.32546833,
          43.11886611,
          33.30155556,
          43.90882639,
          35.61677778,
          32.12758333,
          34.42621194,
          41.70895361,
          35.23705806,
          70.19475583,
          40.851206,
          37.24432611,
          37.09058333,
          38.26384333,
          32.4466275,
          57.04713806,
          31.35775,
          34.89924833,
          39.84395194,
          14.996111,
          33.98879611,
          27.39533333,
          45.54532417,
          18.33730556,
          17.70188889,
          43.50484139,
          42.40260333,
          41.50409361,
          43.11118694,
          30.39652778,
          41.58680556,
          36.47521417,
          40.27669111,
          44.74144472,
          42.48180389,
          33.45370806,
          32.35413889,
          35.81248722,
          40.44090167,
          30.7825,
          30.48325,
          56.48432583,
          44.68839917,
          36.28186944,
          59.50336056,
          32.65658333
         ],
         "legendgroup": "",
         "lon": [
          -106.6091944,
          -149.9961856,
          -84.42694444,
          -97.66987194,
          -72.68322833,
          -86.75354972,
          -86.67818222,
          -71.00517917,
          -78.73216667,
          -118.3584969,
          -76.66819833,
          -80.04050583,
          -81.84939667,
          -80.94312583,
          -82.89188278,
          -84.6621725,
          -96.85177222,
          -77.03772222,
          -104.6670019,
          -97.0372,
          -83.34883583,
          -106.3778056,
          -74.16866056,
          -80.15275,
          -157.9224072,
          -95.27888889,
          -77.45580972,
          -95.33972222,
          -86.29438417,
          -81.68786111,
          -73.77892556,
          -115.1523333,
          -118.4080744,
          -73.87260917,
          -92.22424556,
          -94.71390556,
          -81.31602778,
          -87.75242444,
          -89.97666667,
          -80.29055556,
          -87.89658333,
          -93.2169225,
          -90.25802778,
          -122.2207167,
          -156.4304578,
          -97.60073389,
          -95.89417306,
          -117.6011944,
          -87.90446417,
          -76.20122222,
          -80.09559417,
          -122.5975,
          -75.24114083,
          -112.0080556,
          -80.23287083,
          -71.42822111,
          -78.78747222,
          -77.31966667,
          -119.7680647,
          -81.75516667,
          -117.1896567,
          -98.46977778,
          -85.736,
          -122.3093131,
          -122.3748433,
          -121.9290089,
          -66.00183333,
          -111.9777731,
          -121.5907669,
          -117.8682225,
          -90.35998972,
          -82.53325,
          -95.88824167,
          -110.9410278,
          -75.44040167,
          -99.68189722,
          -98.42183333,
          -84.19447333,
          -70.06018139,
          -97.23051917,
          -124.1086189,
          -74.57716667,
          -176.6460306,
          -152.4938553,
          -92.54855611,
          -81.96449611,
          -156.6492175,
          -73.80297861,
          -92.40034361,
          -101.7059272,
          -83.56028583,
          -76.02173861,
          -106.868845,
          -88.51947556,
          -82.54180556,
          -75.7242675,
          -85.5520575,
          -161.8379975,
          -119.0567681,
          -75.97961361,
          -68.82813889,
          -108.5428611,
          -100.7467222,
          -94.93372333,
          -122.5375278,
          -88.91595278,
          -116.2227778,
          -94.02069444,
          -81.46630556,
          -67.12944444,
          -94.1372275,
          -97.42586111,
          -156.7660019,
          -112.49746,
          -91.14963444,
          -73.1503125,
          -111.1530072,
          -81.11953944,
          -81.44246556,
          -113.098575,
          -145.4776503,
          -85.20378778,
          -78.45286111,
          -91.71087222,
          -84.47238528,
          -96.36382417,
          -88.27805556,
          -88.48906083,
          -109.7548439,
          -109.0237961,
          -104.70025,
          -92.21962917,
          -106.4644661,
          -97.50121528,
          -81.59318972,
          -84.93886111,
          -89.66677944,
          -104.8118381,
          -81.05805556,
          -84.219375,
          -90.70916722,
          -85.44962889,
          -102.8019528,
          -158.5033389,
          -92.19364861,
          -107.7537692,
          -100.9232339,
          -93.66068222,
          -98.90877833,
          -91.48507194,
          -106.9176953,
          -115.7916964,
          -76.89144333,
          -80.17621556,
          -87.09373139,
          -123.2186856,
          -87.53062667,
          -77.04294444,
          -81.75955556,
          -147.8596694,
          -96.81498889,
          -119.7181389,
          -78.88,
          -114.2550694,
          -111.6712183,
          -79.72388889,
          -83.74345639,
          -96.74170028,
          -94.36744111,
          -85.19514639,
          -105.5393614,
          -100.7244147,
          -117.5338425,
          -97.17611111,
          -94.71171,
          -108.5267347,
          -82.27177778,
          -89.07009278,
          -88.12959,
          -98.30861111,
          -97.82779778,
          -85.52276778,
          -79.9372975,
          -82.21885833,
          -135.7073814,
          -111.3706853,
          -88.59136861,
          -106.9331817,
          -144.7959825,
          -107.2176597,
          -92.83899333,
          -111.9827503,
          -103.2170278,
          -73.70757444,
          -97.65439389,
          -86.77310944,
          -82.55802778,
          -70.28035583,
          -99.27403361,
          -97.43304583,
          -112.0701667,
          -75.60652778,
          -77.90255556,
          -88.1145425,
          -93.40306667,
          -73.10021194,
          -76.45844444,
          -155.0484703,
          -110.7377389,
          -90.07588889,
          -94.49826833,
          -98.67819528,
          -134.5762764,
          -156.0456314,
          -131.71374,
          -84.58735806,
          -105.6749864,
          -98.41663667,
          -101.8227778,
          -93.22340361,
          -84.60538889,
          -91.987655,
          -118.1516111,
          -159.3389581,
          -96.75925,
          -99.46154361,
          -91.25653778,
          -80.39947222,
          -117.0153944,
          -79.20043056,
          -102.2019139,
          -84.07964722,
          -76.76340361,
          -88.75120556,
          -98.23861111,
          -122.8734978,
          -86.39397611,
          -96.67083278,
          -71.43705583,
          -86.23822306,
          -80.64580556,
          -90.50753917,
          -92.03768778,
          -88.24283333,
          -101.2803339,
          -87.395361,
          -121.8429478,
          -89.33751361,
          -114.0905556,
          -107.8938333,
          -70.6143325,
          -78.92833333,
          -77.61213778,
          -165.4452458,
          -71.87570944,
          -124.2460278,
          -162.5985497,
          -88.77375,
          -76.4929875,
          -89.69330556,
          -89.33705778,
          -82.68743944,
          -112.5958611,
          -100.285965,
          -84.796715,
          -87.18744444,
          -170.7105258,
          -119.1190292,
          -66.56301194,
          -132.9452781,
          -116.5062531,
          -104.4965722,
          -70.30875,
          -103.0573708,
          -122.2934019,
          -121.1499633,
          -89.09721111,
          -89.46745361,
          -109.0651928,
          -79.97542833,
          -77.67238389,
          -104.5305556,
          -92.49798722,
          -106.0881389,
          -81.20213889,
          -119.8403733,
          -86.31847417,
          -120.6423931,
          -148.4651608,
          -77.846302,
          -93.38685806,
          -113.5930556,
          -78.89643806,
          -93.82559833,
          -135.3615983,
          -100.4963056,
          -120.4575825,
          -89.67761861,
          145.621384,
          -98.49189333,
          -82.55411111,
          -94.05833667,
          -64.97336111,
          -64.79855556,
          -114.2965903,
          -96.38436694,
          -74.10483833,
          -76.10631056,
          -84.35033333,
          -83.80783333,
          -82.40742056,
          -74.81346833,
          -85.582235,
          -114.4877356,
          -93.99102,
          -95.40238611,
          -83.99285583,
          -109.5099203,
          -83.27672222,
          -86.5254,
          -132.3698242,
          -111.1176375,
          -94.30681111,
          -139.6602261,
          -114.6059722
         ],
         "marker": {
          "color": "#636efa",
          "size": [
           17891,
           19333,
           313287,
           61530,
           20586,
           14500,
           74828,
           90839,
           16909,
           19539,
           75477,
           24305,
           35223,
           226221,
           32437,
           35299,
           58386,
           84771,
           268140,
           280418,
           130232,
           14422,
           102451,
           87488,
           47672,
           48444,
           74696,
           153635,
           37433,
           24811,
           82650,
           141412,
           174318,
           87880,
           11896,
           37898,
           132637,
           64478,
           20550,
           92012,
           25167,
           121481,
           37634,
           35256,
           26924,
           19660,
           21125,
           20141,
           285607,
           18938,
           21973,
           55861,
           103243,
           160640,
           33894,
           12187,
           44213,
           19423,
           20857,
           40786,
           64257,
           28217,
           20867,
           168025,
           98791,
           38148,
           29533,
           119075,
           42841,
           36832,
           50723,
           68399,
           14353,
           15374,
           5360,
           2389,
           750,
           1046,
           2122,
           1623,
           1732,
           3117,
           104,
           913,
           3046,
           4808,
           496,
           11725,
           549,
           4724,
           624,
           636,
           5902,
           7108,
           10249,
           2891,
           2157,
           698,
           2645,
           365,
           5067,
           5544,
           4157,
           734,
           2466,
           2657,
           24975,
           965,
           1031,
           1592,
           640,
           2430,
           362,
           690,
           5763,
           6979,
           11684,
           7874,
           3720,
           624,
           724,
           7044,
           4808,
           9118,
           729,
           2062,
           1758,
           731,
           718,
           1047,
           11902,
           1828,
           2015,
           4950,
           3415,
           1459,
           2778,
           218,
           3310,
           10636,
           572,
           1061,
           550,
           480,
           2437,
           4395,
           661,
           14532,
           657,
           726,
           2986,
           674,
           1069,
           1505,
           685,
           8608,
           3921,
           1490,
           10305,
           4678,
           6478,
           11875,
           3408,
           5720,
           2959,
           725,
           3379,
           8350,
           1345,
           6087,
           751,
           727,
           19693,
           1274,
           926,
           5025,
           3768,
           4109,
           5170,
           949,
           3106,
           17506,
           11208,
           13360,
           89,
           3071,
           1005,
           950,
           645,
           2495,
           632,
           1714,
           418,
           6678,
           3901,
           8556,
           1340,
           118,
           626,
           9594,
           3973,
           118,
           7487,
           729,
           642,
           5012,
           1464,
           5024,
           6469,
           8353,
           823,
           1021,
           3983,
           14577,
           2163,
           2502,
           626,
           1199,
           5960,
           1786,
           8757,
           4888,
           12140,
           11209,
           2316,
           2259,
           2107,
           662,
           1008,
           1738,
           7937,
           1788,
           8886,
           613,
           4880,
           8021,
           3602,
           1456,
           6287,
           729,
           2542,
           4352,
           2498,
           5282,
           2772,
           1463,
           3669,
           10817,
           6034,
           3138,
           1011,
           16972,
           3162,
           584,
           375,
           334,
           584,
           729,
           1913,
           3515,
           626,
           7627,
           934,
           603,
           883,
           13943,
           6,
           5869,
           266,
           724,
           13556,
           622,
           11052,
           6041,
           1232,
           7887,
           762,
           931,
           589,
           5299,
           11587,
           1157,
           2878,
           2118,
           18206,
           6716,
           6081,
           3869,
           450,
           3103,
           8548,
           3810,
           700,
           5584,
           1104,
           2116,
           328,
           1406,
           269,
           1267,
           16241,
           150,
           6681,
           1448,
           2157,
           880,
           728,
           11968,
           5241,
           1318,
           3495,
           1850,
           5516,
           1158,
           1070,
           1421,
           15594,
           630,
           1180,
           12019,
           724,
           479,
           10081,
           724,
           1966
          ],
          "sizemode": "area",
          "sizeref": 783.2175,
          "symbol": "circle"
         },
         "mode": "markers+text",
         "name": "",
         "showlegend": false,
         "text": [
          null,
          null,
          "ATL",
          null,
          null,
          null,
          null,
          null,
          null,
          null,
          null,
          null,
          null,
          "CLT",
          null,
          null,
          null,
          null,
          "DEN",
          "DFW",
          null,
          null,
          null,
          null,
          null,
          null,
          null,
          "IAH",
          null,
          null,
          null,
          "LAS",
          "LAX",
          null,
          null,
          null,
          null,
          null,
          null,
          null,
          null,
          null,
          null,
          null,
          null,
          null,
          null,
          null,
          "ORD",
          null,
          null,
          null,
          null,
          "PHX",
          null,
          null,
          null,
          null,
          null,
          null,
          null,
          null,
          null,
          "SEA",
          null,
          null,
          null,
          null,
          null,
          null,
          null,
          null,
          null,
          null,
          null,
          null,
          null,
          null,
          null,
          null,
          null,
          null,
          null,
          null,
          null,
          null,
          null,
          null,
          null,
          null,
          null,
          null,
          null,
          null,
          null,
          null,
          null,
          null,
          null,
          null,
          null,
          null,
          null,
          null,
          null,
          null,
          null,
          null,
          null,
          null,
          null,
          null,
          null,
          null,
          null,
          null,
          null,
          null,
          null,
          null,
          null,
          null,
          null,
          null,
          null,
          null,
          null,
          null,
          null,
          null,
          null,
          null,
          null,
          null,
          null,
          null,
          null,
          null,
          null,
          null,
          null,
          null,
          null,
          null,
          null,
          null,
          null,
          null,
          null,
          null,
          null,
          null,
          null,
          null,
          null,
          null,
          null,
          null,
          null,
          null,
          null,
          null,
          null,
          null,
          null,
          null,
          null,
          null,
          null,
          null,
          null,
          null,
          null,
          null,
          null,
          null,
          null,
          null,
          null,
          null,
          null,
          null,
          null,
          null,
          null,
          null,
          null,
          null,
          null,
          null,
          null,
          null,
          null,
          null,
          null,
          null,
          null,
          null,
          null,
          null,
          null,
          null,
          null,
          null,
          null,
          null,
          null,
          null,
          null,
          null,
          null,
          null,
          null,
          null,
          null,
          null,
          null,
          null,
          null,
          null,
          null,
          null,
          null,
          null,
          null,
          null,
          null,
          null,
          null,
          null,
          null,
          null,
          null,
          null,
          null,
          null,
          null,
          null,
          null,
          null,
          null,
          null,
          null,
          null,
          null,
          null,
          null,
          null,
          null,
          null,
          null,
          null,
          null,
          null,
          null,
          null,
          null,
          null,
          null,
          null,
          null,
          null,
          null,
          null,
          null,
          null,
          null,
          null,
          null,
          null,
          null,
          null,
          null,
          null,
          null,
          null,
          null,
          null,
          null,
          null,
          null,
          null,
          null,
          null,
          null,
          null,
          null,
          null,
          null,
          null,
          null,
          null,
          null,
          null,
          null,
          null,
          null,
          null,
          null,
          null,
          null,
          null,
          null,
          null,
          null,
          null,
          null,
          null,
          null,
          null,
          null,
          null,
          null,
          null,
          null,
          null,
          null,
          null,
          null,
          null,
          null,
          null,
          null,
          null,
          null
         ],
         "textposition": "top center",
         "type": "scattergeo"
        }
       ],
       "layout": {
        "geo": {
         "center": {},
         "domain": {
          "x": [
           0,
           1
          ],
          "y": [
           0,
           1
          ]
         }
        },
        "legend": {
         "itemsizing": "constant",
         "tracegroupgap": 0
        },
        "margin": {
         "t": 60
        },
        "template": {
         "data": {
          "bar": [
           {
            "error_x": {
             "color": "#2a3f5f"
            },
            "error_y": {
             "color": "#2a3f5f"
            },
            "marker": {
             "line": {
              "color": "#E5ECF6",
              "width": 0.5
             },
             "pattern": {
              "fillmode": "overlay",
              "size": 10,
              "solidity": 0.2
             }
            },
            "type": "bar"
           }
          ],
          "barpolar": [
           {
            "marker": {
             "line": {
              "color": "#E5ECF6",
              "width": 0.5
             },
             "pattern": {
              "fillmode": "overlay",
              "size": 10,
              "solidity": 0.2
             }
            },
            "type": "barpolar"
           }
          ],
          "carpet": [
           {
            "aaxis": {
             "endlinecolor": "#2a3f5f",
             "gridcolor": "white",
             "linecolor": "white",
             "minorgridcolor": "white",
             "startlinecolor": "#2a3f5f"
            },
            "baxis": {
             "endlinecolor": "#2a3f5f",
             "gridcolor": "white",
             "linecolor": "white",
             "minorgridcolor": "white",
             "startlinecolor": "#2a3f5f"
            },
            "type": "carpet"
           }
          ],
          "choropleth": [
           {
            "colorbar": {
             "outlinewidth": 0,
             "ticks": ""
            },
            "type": "choropleth"
           }
          ],
          "contour": [
           {
            "colorbar": {
             "outlinewidth": 0,
             "ticks": ""
            },
            "colorscale": [
             [
              0,
              "#0d0887"
             ],
             [
              0.1111111111111111,
              "#46039f"
             ],
             [
              0.2222222222222222,
              "#7201a8"
             ],
             [
              0.3333333333333333,
              "#9c179e"
             ],
             [
              0.4444444444444444,
              "#bd3786"
             ],
             [
              0.5555555555555556,
              "#d8576b"
             ],
             [
              0.6666666666666666,
              "#ed7953"
             ],
             [
              0.7777777777777778,
              "#fb9f3a"
             ],
             [
              0.8888888888888888,
              "#fdca26"
             ],
             [
              1,
              "#f0f921"
             ]
            ],
            "type": "contour"
           }
          ],
          "contourcarpet": [
           {
            "colorbar": {
             "outlinewidth": 0,
             "ticks": ""
            },
            "type": "contourcarpet"
           }
          ],
          "heatmap": [
           {
            "colorbar": {
             "outlinewidth": 0,
             "ticks": ""
            },
            "colorscale": [
             [
              0,
              "#0d0887"
             ],
             [
              0.1111111111111111,
              "#46039f"
             ],
             [
              0.2222222222222222,
              "#7201a8"
             ],
             [
              0.3333333333333333,
              "#9c179e"
             ],
             [
              0.4444444444444444,
              "#bd3786"
             ],
             [
              0.5555555555555556,
              "#d8576b"
             ],
             [
              0.6666666666666666,
              "#ed7953"
             ],
             [
              0.7777777777777778,
              "#fb9f3a"
             ],
             [
              0.8888888888888888,
              "#fdca26"
             ],
             [
              1,
              "#f0f921"
             ]
            ],
            "type": "heatmap"
           }
          ],
          "heatmapgl": [
           {
            "colorbar": {
             "outlinewidth": 0,
             "ticks": ""
            },
            "colorscale": [
             [
              0,
              "#0d0887"
             ],
             [
              0.1111111111111111,
              "#46039f"
             ],
             [
              0.2222222222222222,
              "#7201a8"
             ],
             [
              0.3333333333333333,
              "#9c179e"
             ],
             [
              0.4444444444444444,
              "#bd3786"
             ],
             [
              0.5555555555555556,
              "#d8576b"
             ],
             [
              0.6666666666666666,
              "#ed7953"
             ],
             [
              0.7777777777777778,
              "#fb9f3a"
             ],
             [
              0.8888888888888888,
              "#fdca26"
             ],
             [
              1,
              "#f0f921"
             ]
            ],
            "type": "heatmapgl"
           }
          ],
          "histogram": [
           {
            "marker": {
             "pattern": {
              "fillmode": "overlay",
              "size": 10,
              "solidity": 0.2
             }
            },
            "type": "histogram"
           }
          ],
          "histogram2d": [
           {
            "colorbar": {
             "outlinewidth": 0,
             "ticks": ""
            },
            "colorscale": [
             [
              0,
              "#0d0887"
             ],
             [
              0.1111111111111111,
              "#46039f"
             ],
             [
              0.2222222222222222,
              "#7201a8"
             ],
             [
              0.3333333333333333,
              "#9c179e"
             ],
             [
              0.4444444444444444,
              "#bd3786"
             ],
             [
              0.5555555555555556,
              "#d8576b"
             ],
             [
              0.6666666666666666,
              "#ed7953"
             ],
             [
              0.7777777777777778,
              "#fb9f3a"
             ],
             [
              0.8888888888888888,
              "#fdca26"
             ],
             [
              1,
              "#f0f921"
             ]
            ],
            "type": "histogram2d"
           }
          ],
          "histogram2dcontour": [
           {
            "colorbar": {
             "outlinewidth": 0,
             "ticks": ""
            },
            "colorscale": [
             [
              0,
              "#0d0887"
             ],
             [
              0.1111111111111111,
              "#46039f"
             ],
             [
              0.2222222222222222,
              "#7201a8"
             ],
             [
              0.3333333333333333,
              "#9c179e"
             ],
             [
              0.4444444444444444,
              "#bd3786"
             ],
             [
              0.5555555555555556,
              "#d8576b"
             ],
             [
              0.6666666666666666,
              "#ed7953"
             ],
             [
              0.7777777777777778,
              "#fb9f3a"
             ],
             [
              0.8888888888888888,
              "#fdca26"
             ],
             [
              1,
              "#f0f921"
             ]
            ],
            "type": "histogram2dcontour"
           }
          ],
          "mesh3d": [
           {
            "colorbar": {
             "outlinewidth": 0,
             "ticks": ""
            },
            "type": "mesh3d"
           }
          ],
          "parcoords": [
           {
            "line": {
             "colorbar": {
              "outlinewidth": 0,
              "ticks": ""
             }
            },
            "type": "parcoords"
           }
          ],
          "pie": [
           {
            "automargin": true,
            "type": "pie"
           }
          ],
          "scatter": [
           {
            "marker": {
             "colorbar": {
              "outlinewidth": 0,
              "ticks": ""
             }
            },
            "type": "scatter"
           }
          ],
          "scatter3d": [
           {
            "line": {
             "colorbar": {
              "outlinewidth": 0,
              "ticks": ""
             }
            },
            "marker": {
             "colorbar": {
              "outlinewidth": 0,
              "ticks": ""
             }
            },
            "type": "scatter3d"
           }
          ],
          "scattercarpet": [
           {
            "marker": {
             "colorbar": {
              "outlinewidth": 0,
              "ticks": ""
             }
            },
            "type": "scattercarpet"
           }
          ],
          "scattergeo": [
           {
            "marker": {
             "colorbar": {
              "outlinewidth": 0,
              "ticks": ""
             }
            },
            "type": "scattergeo"
           }
          ],
          "scattergl": [
           {
            "marker": {
             "colorbar": {
              "outlinewidth": 0,
              "ticks": ""
             }
            },
            "type": "scattergl"
           }
          ],
          "scattermapbox": [
           {
            "marker": {
             "colorbar": {
              "outlinewidth": 0,
              "ticks": ""
             }
            },
            "type": "scattermapbox"
           }
          ],
          "scatterpolar": [
           {
            "marker": {
             "colorbar": {
              "outlinewidth": 0,
              "ticks": ""
             }
            },
            "type": "scatterpolar"
           }
          ],
          "scatterpolargl": [
           {
            "marker": {
             "colorbar": {
              "outlinewidth": 0,
              "ticks": ""
             }
            },
            "type": "scatterpolargl"
           }
          ],
          "scatterternary": [
           {
            "marker": {
             "colorbar": {
              "outlinewidth": 0,
              "ticks": ""
             }
            },
            "type": "scatterternary"
           }
          ],
          "surface": [
           {
            "colorbar": {
             "outlinewidth": 0,
             "ticks": ""
            },
            "colorscale": [
             [
              0,
              "#0d0887"
             ],
             [
              0.1111111111111111,
              "#46039f"
             ],
             [
              0.2222222222222222,
              "#7201a8"
             ],
             [
              0.3333333333333333,
              "#9c179e"
             ],
             [
              0.4444444444444444,
              "#bd3786"
             ],
             [
              0.5555555555555556,
              "#d8576b"
             ],
             [
              0.6666666666666666,
              "#ed7953"
             ],
             [
              0.7777777777777778,
              "#fb9f3a"
             ],
             [
              0.8888888888888888,
              "#fdca26"
             ],
             [
              1,
              "#f0f921"
             ]
            ],
            "type": "surface"
           }
          ],
          "table": [
           {
            "cells": {
             "fill": {
              "color": "#EBF0F8"
             },
             "line": {
              "color": "white"
             }
            },
            "header": {
             "fill": {
              "color": "#C8D4E3"
             },
             "line": {
              "color": "white"
             }
            },
            "type": "table"
           }
          ]
         },
         "layout": {
          "annotationdefaults": {
           "arrowcolor": "#2a3f5f",
           "arrowhead": 0,
           "arrowwidth": 1
          },
          "autotypenumbers": "strict",
          "coloraxis": {
           "colorbar": {
            "outlinewidth": 0,
            "ticks": ""
           }
          },
          "colorscale": {
           "diverging": [
            [
             0,
             "#8e0152"
            ],
            [
             0.1,
             "#c51b7d"
            ],
            [
             0.2,
             "#de77ae"
            ],
            [
             0.3,
             "#f1b6da"
            ],
            [
             0.4,
             "#fde0ef"
            ],
            [
             0.5,
             "#f7f7f7"
            ],
            [
             0.6,
             "#e6f5d0"
            ],
            [
             0.7,
             "#b8e186"
            ],
            [
             0.8,
             "#7fbc41"
            ],
            [
             0.9,
             "#4d9221"
            ],
            [
             1,
             "#276419"
            ]
           ],
           "sequential": [
            [
             0,
             "#0d0887"
            ],
            [
             0.1111111111111111,
             "#46039f"
            ],
            [
             0.2222222222222222,
             "#7201a8"
            ],
            [
             0.3333333333333333,
             "#9c179e"
            ],
            [
             0.4444444444444444,
             "#bd3786"
            ],
            [
             0.5555555555555556,
             "#d8576b"
            ],
            [
             0.6666666666666666,
             "#ed7953"
            ],
            [
             0.7777777777777778,
             "#fb9f3a"
            ],
            [
             0.8888888888888888,
             "#fdca26"
            ],
            [
             1,
             "#f0f921"
            ]
           ],
           "sequentialminus": [
            [
             0,
             "#0d0887"
            ],
            [
             0.1111111111111111,
             "#46039f"
            ],
            [
             0.2222222222222222,
             "#7201a8"
            ],
            [
             0.3333333333333333,
             "#9c179e"
            ],
            [
             0.4444444444444444,
             "#bd3786"
            ],
            [
             0.5555555555555556,
             "#d8576b"
            ],
            [
             0.6666666666666666,
             "#ed7953"
            ],
            [
             0.7777777777777778,
             "#fb9f3a"
            ],
            [
             0.8888888888888888,
             "#fdca26"
            ],
            [
             1,
             "#f0f921"
            ]
           ]
          },
          "colorway": [
           "#636efa",
           "#EF553B",
           "#00cc96",
           "#ab63fa",
           "#FFA15A",
           "#19d3f3",
           "#FF6692",
           "#B6E880",
           "#FF97FF",
           "#FECB52"
          ],
          "font": {
           "color": "#2a3f5f"
          },
          "geo": {
           "bgcolor": "white",
           "lakecolor": "white",
           "landcolor": "#E5ECF6",
           "showlakes": true,
           "showland": true,
           "subunitcolor": "white"
          },
          "hoverlabel": {
           "align": "left"
          },
          "hovermode": "closest",
          "mapbox": {
           "style": "light"
          },
          "paper_bgcolor": "white",
          "plot_bgcolor": "#E5ECF6",
          "polar": {
           "angularaxis": {
            "gridcolor": "white",
            "linecolor": "white",
            "ticks": ""
           },
           "bgcolor": "#E5ECF6",
           "radialaxis": {
            "gridcolor": "white",
            "linecolor": "white",
            "ticks": ""
           }
          },
          "scene": {
           "xaxis": {
            "backgroundcolor": "#E5ECF6",
            "gridcolor": "white",
            "gridwidth": 2,
            "linecolor": "white",
            "showbackground": true,
            "ticks": "",
            "zerolinecolor": "white"
           },
           "yaxis": {
            "backgroundcolor": "#E5ECF6",
            "gridcolor": "white",
            "gridwidth": 2,
            "linecolor": "white",
            "showbackground": true,
            "ticks": "",
            "zerolinecolor": "white"
           },
           "zaxis": {
            "backgroundcolor": "#E5ECF6",
            "gridcolor": "white",
            "gridwidth": 2,
            "linecolor": "white",
            "showbackground": true,
            "ticks": "",
            "zerolinecolor": "white"
           }
          },
          "shapedefaults": {
           "line": {
            "color": "#2a3f5f"
           }
          },
          "ternary": {
           "aaxis": {
            "gridcolor": "white",
            "linecolor": "white",
            "ticks": ""
           },
           "baxis": {
            "gridcolor": "white",
            "linecolor": "white",
            "ticks": ""
           },
           "bgcolor": "#E5ECF6",
           "caxis": {
            "gridcolor": "white",
            "linecolor": "white",
            "ticks": ""
           }
          },
          "title": {
           "x": 0.05
          },
          "xaxis": {
           "automargin": true,
           "gridcolor": "white",
           "linecolor": "white",
           "ticks": "",
           "title": {
            "standoff": 15
           },
           "zerolinecolor": "white",
           "zerolinewidth": 2
          },
          "yaxis": {
           "automargin": true,
           "gridcolor": "white",
           "linecolor": "white",
           "ticks": "",
           "title": {
            "standoff": 15
           },
           "zerolinecolor": "white",
           "zerolinewidth": 2
          }
         }
        },
        "title": {
         "text": "US Airports by 2021 Flight Volume (bubble size) - Top 10 Labeled",
         "x": 0.5,
         "xanchor": "center",
         "y": 0.91,
         "yanchor": "top"
        }
       }
      },
      "text/html": [
       "<div>                            <div id=\"f4bd09c1-259c-4c2e-a223-9e20dd5f5d1f\" class=\"plotly-graph-div\" style=\"height:525px; width:100%;\"></div>            <script type=\"text/javascript\">                require([\"plotly\"], function(Plotly) {                    window.PLOTLYENV=window.PLOTLYENV || {};                                    if (document.getElementById(\"f4bd09c1-259c-4c2e-a223-9e20dd5f5d1f\")) {                    Plotly.newPlot(                        \"f4bd09c1-259c-4c2e-a223-9e20dd5f5d1f\",                        [{\"geo\":\"geo\",\"hovertemplate\":\"<b>%{hovertext}</b><br><br>flight_count=%{marker.size}<br>top10=%{text}<br>latitude=%{lat}<br>longitude=%{lon}<extra></extra>\",\"hovertext\":[35.04022222,61.17432028,33.64044444,30.19453278,41.93887417,33.56294306,36.12447667,42.3643475,42.94052472,34.20061917,39.17540167,32.89864639,41.41089417,35.21401111,39.99798528,39.04614278,32.84711389,38.85208333,39.85840806,32.89595056,42.21205889,31.80666667,40.69249722,26.07258333,21.31869111,29.64541861,38.94453194,29.98047222,39.71732917,30.49405556,40.63975111,36.08036111,33.94253611,40.77724306,34.72939611,39.29760528,28.42888889,41.7859825,35.04241667,25.79325,42.94722222,44.88054694,29.99338889,37.72129083,20.89864972,35.39308833,41.30251861,34.056,41.979595,36.89461111,26.68316194,45.58872222,39.87195278,33.43416667,40.49146583,41.72399917,35.87763889,37.50516667,39.49857611,26.53616667,32.73355611,29.53369444,38.17438889,47.44898194,37.61900194,37.36186194,18.43941667,40.78838778,38.69542167,33.67565861,38.74768694,27.97547222,36.19837222,32.11608333,40.65236278,32.41132,45.44905556,31.535515,41.25305194,31.61128833,40.97811528,39.45758333,51.87796389,57.74996778,31.32737167,33.369955,58.67680167,42.74811944,42.55708139,35.2193725,45.0780675,43.99192222,39.22316,44.25740806,35.43619444,41.33814944,42.234875,60.77977639,35.43359806,42.20848278,44.80744444,45.8076625,46.77411111,47.50942417,48.79275,40.47798556,43.56444444,29.95083333,31.25902778,18.49486111,46.39785806,25.90683333,71.2854475,45.95479528,30.53316083,44.47300361,45.77690139,33.93884,40.91631194,37.70097028,60.49183389,35.03526833,38.13863889,41.88458833,46.25075194,30.58858944,40.03925,47.16841722,38.75495611,44.52019417,38.80580556,38.81809306,42.90835556,27.77036083,38.37315083,32.51633333,44.77761917,41.1557225,29.17991667,39.90237583,42.40295944,31.32133917,46.79738889,59.0454125,46.84209028,37.15151667,29.37181222,41.53493306,48.11424528,44.86525722,39.64256778,40.82492611,42.15991361,42.08202139,45.72266972,44.12326,38.03799139,35.07297222,24.55611111,64.8136775,46.91934889,36.77619444,34.99147222,48.31140472,35.13845472,34.18536111,42.96550333,43.58135111,35.33659028,40.97846583,44.34889806,37.92751556,47.61985556,47.949255,32.38486111,39.1224125,29.69005556,30.40728028,44.48507333,40.96747222,31.06489778,42.88081972,36.09774694,34.89566722,58.42438139,47.48200194,33.45033444,38.53396333,13.48345,40.48118028,47.38659917,46.60681806,32.68752778,41.06695778,26.22850611,34.6404475,38.36666667,41.66933639,38.84494167,37.64995889,43.51455556,39.67872222,34.27061111,45.81835417,48.56618722,40.7952425,42.49102778,19.72026306,43.60732417,32.31116667,37.15181361,46.92971944,58.35496194,19.73876583,55.35556861,42.7787,41.31205,34.56771444,33.66363889,30.1260975,38.03697222,30.20527972,33.81772222,21.97598306,40.85097222,27.54373861,43.87937972,37.85830556,46.37449806,37.32668528,31.94252778,43.53291472,40.19349528,32.33313333,26.17583333,42.37422778,32.30064417,39.14096722,42.93451639,43.16948806,28.10275,41.44852639,32.51086556,30.69141667,48.25937778,46.353639,36.5869825,43.13985778,46.91630556,38.50886722,41.39302583,33.67975,34.82916444,64.51220222,42.26733944,43.41713889,66.88467694,37.06083333,37.13189556,40.66424333,31.46714944,27.91076333,42.91130556,44.38267694,45.5709275,30.47330556,14.33102278,46.26468028,18.00830278,56.80165194,33.82921556,38.28908722,43.64616667,44.04532139,40.50898361,44.25406722,42.19536389,45.63119306,41.5942175,37.32546833,43.11886611,33.30155556,43.90882639,35.61677778,32.12758333,34.42621194,41.70895361,35.23705806,70.19475583,40.851206,37.24432611,37.09058333,38.26384333,32.4466275,57.04713806,31.35775,34.89924833,39.84395194,14.996111,33.98879611,27.39533333,45.54532417,18.33730556,17.70188889,43.50484139,42.40260333,41.50409361,43.11118694,30.39652778,41.58680556,36.47521417,40.27669111,44.74144472,42.48180389,33.45370806,32.35413889,35.81248722,40.44090167,30.7825,30.48325,56.48432583,44.68839917,36.28186944,59.50336056,32.65658333],\"lat\":[35.04022222,61.17432028,33.64044444,30.19453278,41.93887417,33.56294306,36.12447667,42.3643475,42.94052472,34.20061917,39.17540167,32.89864639,41.41089417,35.21401111,39.99798528,39.04614278,32.84711389,38.85208333,39.85840806,32.89595056,42.21205889,31.80666667,40.69249722,26.07258333,21.31869111,29.64541861,38.94453194,29.98047222,39.71732917,30.49405556,40.63975111,36.08036111,33.94253611,40.77724306,34.72939611,39.29760528,28.42888889,41.7859825,35.04241667,25.79325,42.94722222,44.88054694,29.99338889,37.72129083,20.89864972,35.39308833,41.30251861,34.056,41.979595,36.89461111,26.68316194,45.58872222,39.87195278,33.43416667,40.49146583,41.72399917,35.87763889,37.50516667,39.49857611,26.53616667,32.73355611,29.53369444,38.17438889,47.44898194,37.61900194,37.36186194,18.43941667,40.78838778,38.69542167,33.67565861,38.74768694,27.97547222,36.19837222,32.11608333,40.65236278,32.41132,45.44905556,31.535515,41.25305194,31.61128833,40.97811528,39.45758333,51.87796389,57.74996778,31.32737167,33.369955,58.67680167,42.74811944,42.55708139,35.2193725,45.0780675,43.99192222,39.22316,44.25740806,35.43619444,41.33814944,42.234875,60.77977639,35.43359806,42.20848278,44.80744444,45.8076625,46.77411111,47.50942417,48.79275,40.47798556,43.56444444,29.95083333,31.25902778,18.49486111,46.39785806,25.90683333,71.2854475,45.95479528,30.53316083,44.47300361,45.77690139,33.93884,40.91631194,37.70097028,60.49183389,35.03526833,38.13863889,41.88458833,46.25075194,30.58858944,40.03925,47.16841722,38.75495611,44.52019417,38.80580556,38.81809306,42.90835556,27.77036083,38.37315083,32.51633333,44.77761917,41.1557225,29.17991667,39.90237583,42.40295944,31.32133917,46.79738889,59.0454125,46.84209028,37.15151667,29.37181222,41.53493306,48.11424528,44.86525722,39.64256778,40.82492611,42.15991361,42.08202139,45.72266972,44.12326,38.03799139,35.07297222,24.55611111,64.8136775,46.91934889,36.77619444,34.99147222,48.31140472,35.13845472,34.18536111,42.96550333,43.58135111,35.33659028,40.97846583,44.34889806,37.92751556,47.61985556,47.949255,32.38486111,39.1224125,29.69005556,30.40728028,44.48507333,40.96747222,31.06489778,42.88081972,36.09774694,34.89566722,58.42438139,47.48200194,33.45033444,38.53396333,13.48345,40.48118028,47.38659917,46.60681806,32.68752778,41.06695778,26.22850611,34.6404475,38.36666667,41.66933639,38.84494167,37.64995889,43.51455556,39.67872222,34.27061111,45.81835417,48.56618722,40.7952425,42.49102778,19.72026306,43.60732417,32.31116667,37.15181361,46.92971944,58.35496194,19.73876583,55.35556861,42.7787,41.31205,34.56771444,33.66363889,30.1260975,38.03697222,30.20527972,33.81772222,21.97598306,40.85097222,27.54373861,43.87937972,37.85830556,46.37449806,37.32668528,31.94252778,43.53291472,40.19349528,32.33313333,26.17583333,42.37422778,32.30064417,39.14096722,42.93451639,43.16948806,28.10275,41.44852639,32.51086556,30.69141667,48.25937778,46.353639,36.5869825,43.13985778,46.91630556,38.50886722,41.39302583,33.67975,34.82916444,64.51220222,42.26733944,43.41713889,66.88467694,37.06083333,37.13189556,40.66424333,31.46714944,27.91076333,42.91130556,44.38267694,45.5709275,30.47330556,14.33102278,46.26468028,18.00830278,56.80165194,33.82921556,38.28908722,43.64616667,44.04532139,40.50898361,44.25406722,42.19536389,45.63119306,41.5942175,37.32546833,43.11886611,33.30155556,43.90882639,35.61677778,32.12758333,34.42621194,41.70895361,35.23705806,70.19475583,40.851206,37.24432611,37.09058333,38.26384333,32.4466275,57.04713806,31.35775,34.89924833,39.84395194,14.996111,33.98879611,27.39533333,45.54532417,18.33730556,17.70188889,43.50484139,42.40260333,41.50409361,43.11118694,30.39652778,41.58680556,36.47521417,40.27669111,44.74144472,42.48180389,33.45370806,32.35413889,35.81248722,40.44090167,30.7825,30.48325,56.48432583,44.68839917,36.28186944,59.50336056,32.65658333],\"legendgroup\":\"\",\"lon\":[-106.6091944,-149.9961856,-84.42694444,-97.66987194,-72.68322833,-86.75354972,-86.67818222,-71.00517917,-78.73216667,-118.3584969,-76.66819833,-80.04050583,-81.84939667,-80.94312583,-82.89188278,-84.6621725,-96.85177222,-77.03772222,-104.6670019,-97.0372,-83.34883583,-106.3778056,-74.16866056,-80.15275,-157.9224072,-95.27888889,-77.45580972,-95.33972222,-86.29438417,-81.68786111,-73.77892556,-115.1523333,-118.4080744,-73.87260917,-92.22424556,-94.71390556,-81.31602778,-87.75242444,-89.97666667,-80.29055556,-87.89658333,-93.2169225,-90.25802778,-122.2207167,-156.4304578,-97.60073389,-95.89417306,-117.6011944,-87.90446417,-76.20122222,-80.09559417,-122.5975,-75.24114083,-112.0080556,-80.23287083,-71.42822111,-78.78747222,-77.31966667,-119.7680647,-81.75516667,-117.1896567,-98.46977778,-85.736,-122.3093131,-122.3748433,-121.9290089,-66.00183333,-111.9777731,-121.5907669,-117.8682225,-90.35998972,-82.53325,-95.88824167,-110.9410278,-75.44040167,-99.68189722,-98.42183333,-84.19447333,-70.06018139,-97.23051917,-124.1086189,-74.57716667,-176.6460306,-152.4938553,-92.54855611,-81.96449611,-156.6492175,-73.80297861,-92.40034361,-101.7059272,-83.56028583,-76.02173861,-106.868845,-88.51947556,-82.54180556,-75.7242675,-85.5520575,-161.8379975,-119.0567681,-75.97961361,-68.82813889,-108.5428611,-100.7467222,-94.93372333,-122.5375278,-88.91595278,-116.2227778,-94.02069444,-81.46630556,-67.12944444,-94.1372275,-97.42586111,-156.7660019,-112.49746,-91.14963444,-73.1503125,-111.1530072,-81.11953944,-81.44246556,-113.098575,-145.4776503,-85.20378778,-78.45286111,-91.71087222,-84.47238528,-96.36382417,-88.27805556,-88.48906083,-109.7548439,-109.0237961,-104.70025,-92.21962917,-106.4644661,-97.50121528,-81.59318972,-84.93886111,-89.66677944,-104.8118381,-81.05805556,-84.219375,-90.70916722,-85.44962889,-102.8019528,-158.5033389,-92.19364861,-107.7537692,-100.9232339,-93.66068222,-98.90877833,-91.48507194,-106.9176953,-115.7916964,-76.89144333,-80.17621556,-87.09373139,-123.2186856,-87.53062667,-77.04294444,-81.75955556,-147.8596694,-96.81498889,-119.7181389,-78.88,-114.2550694,-111.6712183,-79.72388889,-83.74345639,-96.74170028,-94.36744111,-85.19514639,-105.5393614,-100.7244147,-117.5338425,-97.17611111,-94.71171,-108.5267347,-82.27177778,-89.07009278,-88.12959,-98.30861111,-97.82779778,-85.52276778,-79.9372975,-82.21885833,-135.7073814,-111.3706853,-88.59136861,-106.9331817,-144.7959825,-107.2176597,-92.83899333,-111.9827503,-103.2170278,-73.70757444,-97.65439389,-86.77310944,-82.55802778,-70.28035583,-99.27403361,-97.43304583,-112.0701667,-75.60652778,-77.90255556,-88.1145425,-93.40306667,-73.10021194,-76.45844444,-155.0484703,-110.7377389,-90.07588889,-94.49826833,-98.67819528,-134.5762764,-156.0456314,-131.71374,-84.58735806,-105.6749864,-98.41663667,-101.8227778,-93.22340361,-84.60538889,-91.987655,-118.1516111,-159.3389581,-96.75925,-99.46154361,-91.25653778,-80.39947222,-117.0153944,-79.20043056,-102.2019139,-84.07964722,-76.76340361,-88.75120556,-98.23861111,-122.8734978,-86.39397611,-96.67083278,-71.43705583,-86.23822306,-80.64580556,-90.50753917,-92.03768778,-88.24283333,-101.2803339,-87.395361,-121.8429478,-89.33751361,-114.0905556,-107.8938333,-70.6143325,-78.92833333,-77.61213778,-165.4452458,-71.87570944,-124.2460278,-162.5985497,-88.77375,-76.4929875,-89.69330556,-89.33705778,-82.68743944,-112.5958611,-100.285965,-84.796715,-87.18744444,-170.7105258,-119.1190292,-66.56301194,-132.9452781,-116.5062531,-104.4965722,-70.30875,-103.0573708,-122.2934019,-121.1499633,-89.09721111,-89.46745361,-109.0651928,-79.97542833,-77.67238389,-104.5305556,-92.49798722,-106.0881389,-81.20213889,-119.8403733,-86.31847417,-120.6423931,-148.4651608,-77.846302,-93.38685806,-113.5930556,-78.89643806,-93.82559833,-135.3615983,-100.4963056,-120.4575825,-89.67761861,145.621384,-98.49189333,-82.55411111,-94.05833667,-64.97336111,-64.79855556,-114.2965903,-96.38436694,-74.10483833,-76.10631056,-84.35033333,-83.80783333,-82.40742056,-74.81346833,-85.582235,-114.4877356,-93.99102,-95.40238611,-83.99285583,-109.5099203,-83.27672222,-86.5254,-132.3698242,-111.1176375,-94.30681111,-139.6602261,-114.6059722],\"marker\":{\"color\":\"#636efa\",\"size\":[17891,19333,313287,61530,20586,14500,74828,90839,16909,19539,75477,24305,35223,226221,32437,35299,58386,84771,268140,280418,130232,14422,102451,87488,47672,48444,74696,153635,37433,24811,82650,141412,174318,87880,11896,37898,132637,64478,20550,92012,25167,121481,37634,35256,26924,19660,21125,20141,285607,18938,21973,55861,103243,160640,33894,12187,44213,19423,20857,40786,64257,28217,20867,168025,98791,38148,29533,119075,42841,36832,50723,68399,14353,15374,5360,2389,750,1046,2122,1623,1732,3117,104,913,3046,4808,496,11725,549,4724,624,636,5902,7108,10249,2891,2157,698,2645,365,5067,5544,4157,734,2466,2657,24975,965,1031,1592,640,2430,362,690,5763,6979,11684,7874,3720,624,724,7044,4808,9118,729,2062,1758,731,718,1047,11902,1828,2015,4950,3415,1459,2778,218,3310,10636,572,1061,550,480,2437,4395,661,14532,657,726,2986,674,1069,1505,685,8608,3921,1490,10305,4678,6478,11875,3408,5720,2959,725,3379,8350,1345,6087,751,727,19693,1274,926,5025,3768,4109,5170,949,3106,17506,11208,13360,89,3071,1005,950,645,2495,632,1714,418,6678,3901,8556,1340,118,626,9594,3973,118,7487,729,642,5012,1464,5024,6469,8353,823,1021,3983,14577,2163,2502,626,1199,5960,1786,8757,4888,12140,11209,2316,2259,2107,662,1008,1738,7937,1788,8886,613,4880,8021,3602,1456,6287,729,2542,4352,2498,5282,2772,1463,3669,10817,6034,3138,1011,16972,3162,584,375,334,584,729,1913,3515,626,7627,934,603,883,13943,6,5869,266,724,13556,622,11052,6041,1232,7887,762,931,589,5299,11587,1157,2878,2118,18206,6716,6081,3869,450,3103,8548,3810,700,5584,1104,2116,328,1406,269,1267,16241,150,6681,1448,2157,880,728,11968,5241,1318,3495,1850,5516,1158,1070,1421,15594,630,1180,12019,724,479,10081,724,1966],\"sizemode\":\"area\",\"sizeref\":783.2175,\"symbol\":\"circle\"},\"mode\":\"markers+text\",\"name\":\"\",\"showlegend\":false,\"text\":[null,null,\"ATL\",null,null,null,null,null,null,null,null,null,null,\"CLT\",null,null,null,null,\"DEN\",\"DFW\",null,null,null,null,null,null,null,\"IAH\",null,null,null,\"LAS\",\"LAX\",null,null,null,null,null,null,null,null,null,null,null,null,null,null,null,\"ORD\",null,null,null,null,\"PHX\",null,null,null,null,null,null,null,null,null,\"SEA\",null,null,null,null,null,null,null,null,null,null,null,null,null,null,null,null,null,null,null,null,null,null,null,null,null,null,null,null,null,null,null,null,null,null,null,null,null,null,null,null,null,null,null,null,null,null,null,null,null,null,null,null,null,null,null,null,null,null,null,null,null,null,null,null,null,null,null,null,null,null,null,null,null,null,null,null,null,null,null,null,null,null,null,null,null,null,null,null,null,null,null,null,null,null,null,null,null,null,null,null,null,null,null,null,null,null,null,null,null,null,null,null,null,null,null,null,null,null,null,null,null,null,null,null,null,null,null,null,null,null,null,null,null,null,null,null,null,null,null,null,null,null,null,null,null,null,null,null,null,null,null,null,null,null,null,null,null,null,null,null,null,null,null,null,null,null,null,null,null,null,null,null,null,null,null,null,null,null,null,null,null,null,null,null,null,null,null,null,null,null,null,null,null,null,null,null,null,null,null,null,null,null,null,null,null,null,null,null,null,null,null,null,null,null,null,null,null,null,null,null,null,null,null,null,null,null,null,null,null,null,null,null,null,null,null,null,null,null,null,null,null,null,null,null,null,null,null,null,null,null,null,null,null,null,null,null,null,null,null,null,null],\"type\":\"scattergeo\",\"textposition\":\"top center\"}],                        {\"template\":{\"data\":{\"bar\":[{\"error_x\":{\"color\":\"#2a3f5f\"},\"error_y\":{\"color\":\"#2a3f5f\"},\"marker\":{\"line\":{\"color\":\"#E5ECF6\",\"width\":0.5},\"pattern\":{\"fillmode\":\"overlay\",\"size\":10,\"solidity\":0.2}},\"type\":\"bar\"}],\"barpolar\":[{\"marker\":{\"line\":{\"color\":\"#E5ECF6\",\"width\":0.5},\"pattern\":{\"fillmode\":\"overlay\",\"size\":10,\"solidity\":0.2}},\"type\":\"barpolar\"}],\"carpet\":[{\"aaxis\":{\"endlinecolor\":\"#2a3f5f\",\"gridcolor\":\"white\",\"linecolor\":\"white\",\"minorgridcolor\":\"white\",\"startlinecolor\":\"#2a3f5f\"},\"baxis\":{\"endlinecolor\":\"#2a3f5f\",\"gridcolor\":\"white\",\"linecolor\":\"white\",\"minorgridcolor\":\"white\",\"startlinecolor\":\"#2a3f5f\"},\"type\":\"carpet\"}],\"choropleth\":[{\"colorbar\":{\"outlinewidth\":0,\"ticks\":\"\"},\"type\":\"choropleth\"}],\"contour\":[{\"colorbar\":{\"outlinewidth\":0,\"ticks\":\"\"},\"colorscale\":[[0.0,\"#0d0887\"],[0.1111111111111111,\"#46039f\"],[0.2222222222222222,\"#7201a8\"],[0.3333333333333333,\"#9c179e\"],[0.4444444444444444,\"#bd3786\"],[0.5555555555555556,\"#d8576b\"],[0.6666666666666666,\"#ed7953\"],[0.7777777777777778,\"#fb9f3a\"],[0.8888888888888888,\"#fdca26\"],[1.0,\"#f0f921\"]],\"type\":\"contour\"}],\"contourcarpet\":[{\"colorbar\":{\"outlinewidth\":0,\"ticks\":\"\"},\"type\":\"contourcarpet\"}],\"heatmap\":[{\"colorbar\":{\"outlinewidth\":0,\"ticks\":\"\"},\"colorscale\":[[0.0,\"#0d0887\"],[0.1111111111111111,\"#46039f\"],[0.2222222222222222,\"#7201a8\"],[0.3333333333333333,\"#9c179e\"],[0.4444444444444444,\"#bd3786\"],[0.5555555555555556,\"#d8576b\"],[0.6666666666666666,\"#ed7953\"],[0.7777777777777778,\"#fb9f3a\"],[0.8888888888888888,\"#fdca26\"],[1.0,\"#f0f921\"]],\"type\":\"heatmap\"}],\"heatmapgl\":[{\"colorbar\":{\"outlinewidth\":0,\"ticks\":\"\"},\"colorscale\":[[0.0,\"#0d0887\"],[0.1111111111111111,\"#46039f\"],[0.2222222222222222,\"#7201a8\"],[0.3333333333333333,\"#9c179e\"],[0.4444444444444444,\"#bd3786\"],[0.5555555555555556,\"#d8576b\"],[0.6666666666666666,\"#ed7953\"],[0.7777777777777778,\"#fb9f3a\"],[0.8888888888888888,\"#fdca26\"],[1.0,\"#f0f921\"]],\"type\":\"heatmapgl\"}],\"histogram\":[{\"marker\":{\"pattern\":{\"fillmode\":\"overlay\",\"size\":10,\"solidity\":0.2}},\"type\":\"histogram\"}],\"histogram2d\":[{\"colorbar\":{\"outlinewidth\":0,\"ticks\":\"\"},\"colorscale\":[[0.0,\"#0d0887\"],[0.1111111111111111,\"#46039f\"],[0.2222222222222222,\"#7201a8\"],[0.3333333333333333,\"#9c179e\"],[0.4444444444444444,\"#bd3786\"],[0.5555555555555556,\"#d8576b\"],[0.6666666666666666,\"#ed7953\"],[0.7777777777777778,\"#fb9f3a\"],[0.8888888888888888,\"#fdca26\"],[1.0,\"#f0f921\"]],\"type\":\"histogram2d\"}],\"histogram2dcontour\":[{\"colorbar\":{\"outlinewidth\":0,\"ticks\":\"\"},\"colorscale\":[[0.0,\"#0d0887\"],[0.1111111111111111,\"#46039f\"],[0.2222222222222222,\"#7201a8\"],[0.3333333333333333,\"#9c179e\"],[0.4444444444444444,\"#bd3786\"],[0.5555555555555556,\"#d8576b\"],[0.6666666666666666,\"#ed7953\"],[0.7777777777777778,\"#fb9f3a\"],[0.8888888888888888,\"#fdca26\"],[1.0,\"#f0f921\"]],\"type\":\"histogram2dcontour\"}],\"mesh3d\":[{\"colorbar\":{\"outlinewidth\":0,\"ticks\":\"\"},\"type\":\"mesh3d\"}],\"parcoords\":[{\"line\":{\"colorbar\":{\"outlinewidth\":0,\"ticks\":\"\"}},\"type\":\"parcoords\"}],\"pie\":[{\"automargin\":true,\"type\":\"pie\"}],\"scatter\":[{\"marker\":{\"colorbar\":{\"outlinewidth\":0,\"ticks\":\"\"}},\"type\":\"scatter\"}],\"scatter3d\":[{\"line\":{\"colorbar\":{\"outlinewidth\":0,\"ticks\":\"\"}},\"marker\":{\"colorbar\":{\"outlinewidth\":0,\"ticks\":\"\"}},\"type\":\"scatter3d\"}],\"scattercarpet\":[{\"marker\":{\"colorbar\":{\"outlinewidth\":0,\"ticks\":\"\"}},\"type\":\"scattercarpet\"}],\"scattergeo\":[{\"marker\":{\"colorbar\":{\"outlinewidth\":0,\"ticks\":\"\"}},\"type\":\"scattergeo\"}],\"scattergl\":[{\"marker\":{\"colorbar\":{\"outlinewidth\":0,\"ticks\":\"\"}},\"type\":\"scattergl\"}],\"scattermapbox\":[{\"marker\":{\"colorbar\":{\"outlinewidth\":0,\"ticks\":\"\"}},\"type\":\"scattermapbox\"}],\"scatterpolar\":[{\"marker\":{\"colorbar\":{\"outlinewidth\":0,\"ticks\":\"\"}},\"type\":\"scatterpolar\"}],\"scatterpolargl\":[{\"marker\":{\"colorbar\":{\"outlinewidth\":0,\"ticks\":\"\"}},\"type\":\"scatterpolargl\"}],\"scatterternary\":[{\"marker\":{\"colorbar\":{\"outlinewidth\":0,\"ticks\":\"\"}},\"type\":\"scatterternary\"}],\"surface\":[{\"colorbar\":{\"outlinewidth\":0,\"ticks\":\"\"},\"colorscale\":[[0.0,\"#0d0887\"],[0.1111111111111111,\"#46039f\"],[0.2222222222222222,\"#7201a8\"],[0.3333333333333333,\"#9c179e\"],[0.4444444444444444,\"#bd3786\"],[0.5555555555555556,\"#d8576b\"],[0.6666666666666666,\"#ed7953\"],[0.7777777777777778,\"#fb9f3a\"],[0.8888888888888888,\"#fdca26\"],[1.0,\"#f0f921\"]],\"type\":\"surface\"}],\"table\":[{\"cells\":{\"fill\":{\"color\":\"#EBF0F8\"},\"line\":{\"color\":\"white\"}},\"header\":{\"fill\":{\"color\":\"#C8D4E3\"},\"line\":{\"color\":\"white\"}},\"type\":\"table\"}]},\"layout\":{\"annotationdefaults\":{\"arrowcolor\":\"#2a3f5f\",\"arrowhead\":0,\"arrowwidth\":1},\"autotypenumbers\":\"strict\",\"coloraxis\":{\"colorbar\":{\"outlinewidth\":0,\"ticks\":\"\"}},\"colorscale\":{\"diverging\":[[0,\"#8e0152\"],[0.1,\"#c51b7d\"],[0.2,\"#de77ae\"],[0.3,\"#f1b6da\"],[0.4,\"#fde0ef\"],[0.5,\"#f7f7f7\"],[0.6,\"#e6f5d0\"],[0.7,\"#b8e186\"],[0.8,\"#7fbc41\"],[0.9,\"#4d9221\"],[1,\"#276419\"]],\"sequential\":[[0.0,\"#0d0887\"],[0.1111111111111111,\"#46039f\"],[0.2222222222222222,\"#7201a8\"],[0.3333333333333333,\"#9c179e\"],[0.4444444444444444,\"#bd3786\"],[0.5555555555555556,\"#d8576b\"],[0.6666666666666666,\"#ed7953\"],[0.7777777777777778,\"#fb9f3a\"],[0.8888888888888888,\"#fdca26\"],[1.0,\"#f0f921\"]],\"sequentialminus\":[[0.0,\"#0d0887\"],[0.1111111111111111,\"#46039f\"],[0.2222222222222222,\"#7201a8\"],[0.3333333333333333,\"#9c179e\"],[0.4444444444444444,\"#bd3786\"],[0.5555555555555556,\"#d8576b\"],[0.6666666666666666,\"#ed7953\"],[0.7777777777777778,\"#fb9f3a\"],[0.8888888888888888,\"#fdca26\"],[1.0,\"#f0f921\"]]},\"colorway\":[\"#636efa\",\"#EF553B\",\"#00cc96\",\"#ab63fa\",\"#FFA15A\",\"#19d3f3\",\"#FF6692\",\"#B6E880\",\"#FF97FF\",\"#FECB52\"],\"font\":{\"color\":\"#2a3f5f\"},\"geo\":{\"bgcolor\":\"white\",\"lakecolor\":\"white\",\"landcolor\":\"#E5ECF6\",\"showlakes\":true,\"showland\":true,\"subunitcolor\":\"white\"},\"hoverlabel\":{\"align\":\"left\"},\"hovermode\":\"closest\",\"mapbox\":{\"style\":\"light\"},\"paper_bgcolor\":\"white\",\"plot_bgcolor\":\"#E5ECF6\",\"polar\":{\"angularaxis\":{\"gridcolor\":\"white\",\"linecolor\":\"white\",\"ticks\":\"\"},\"bgcolor\":\"#E5ECF6\",\"radialaxis\":{\"gridcolor\":\"white\",\"linecolor\":\"white\",\"ticks\":\"\"}},\"scene\":{\"xaxis\":{\"backgroundcolor\":\"#E5ECF6\",\"gridcolor\":\"white\",\"gridwidth\":2,\"linecolor\":\"white\",\"showbackground\":true,\"ticks\":\"\",\"zerolinecolor\":\"white\"},\"yaxis\":{\"backgroundcolor\":\"#E5ECF6\",\"gridcolor\":\"white\",\"gridwidth\":2,\"linecolor\":\"white\",\"showbackground\":true,\"ticks\":\"\",\"zerolinecolor\":\"white\"},\"zaxis\":{\"backgroundcolor\":\"#E5ECF6\",\"gridcolor\":\"white\",\"gridwidth\":2,\"linecolor\":\"white\",\"showbackground\":true,\"ticks\":\"\",\"zerolinecolor\":\"white\"}},\"shapedefaults\":{\"line\":{\"color\":\"#2a3f5f\"}},\"ternary\":{\"aaxis\":{\"gridcolor\":\"white\",\"linecolor\":\"white\",\"ticks\":\"\"},\"baxis\":{\"gridcolor\":\"white\",\"linecolor\":\"white\",\"ticks\":\"\"},\"bgcolor\":\"#E5ECF6\",\"caxis\":{\"gridcolor\":\"white\",\"linecolor\":\"white\",\"ticks\":\"\"}},\"title\":{\"x\":0.05},\"xaxis\":{\"automargin\":true,\"gridcolor\":\"white\",\"linecolor\":\"white\",\"ticks\":\"\",\"title\":{\"standoff\":15},\"zerolinecolor\":\"white\",\"zerolinewidth\":2},\"yaxis\":{\"automargin\":true,\"gridcolor\":\"white\",\"linecolor\":\"white\",\"ticks\":\"\",\"title\":{\"standoff\":15},\"zerolinecolor\":\"white\",\"zerolinewidth\":2}}},\"geo\":{\"domain\":{\"x\":[0.0,1.0],\"y\":[0.0,1.0]},\"center\":{}},\"legend\":{\"tracegroupgap\":0,\"itemsizing\":\"constant\"},\"margin\":{\"t\":60},\"title\":{\"text\":\"US Airports by 2021 Flight Volume (bubble size) - Top 10 Labeled\",\"y\":0.91,\"x\":0.5,\"xanchor\":\"center\",\"yanchor\":\"top\"}},                        {\"responsive\": true}                    ).then(function(){\n",
       "                            \n",
       "var gd = document.getElementById('f4bd09c1-259c-4c2e-a223-9e20dd5f5d1f');\n",
       "var x = new MutationObserver(function (mutations, observer) {{\n",
       "        var display = window.getComputedStyle(gd).display;\n",
       "        if (!display || display === 'none') {{\n",
       "            console.log([gd, 'removed!']);\n",
       "            Plotly.purge(gd);\n",
       "            observer.disconnect();\n",
       "        }}\n",
       "}});\n",
       "\n",
       "// Listen for the removal of the full notebook cells\n",
       "var notebookContainer = gd.closest('#notebook-container');\n",
       "if (notebookContainer) {{\n",
       "    x.observe(notebookContainer, {childList: true});\n",
       "}}\n",
       "\n",
       "// Listen for the clearing of the current output cell\n",
       "var outputEl = gd.closest('.output');\n",
       "if (outputEl) {{\n",
       "    x.observe(outputEl, {childList: true});\n",
       "}}\n",
       "\n",
       "                        })                };                });            </script>        </div>"
      ]
     },
     "metadata": {},
     "output_type": "display_data"
    }
   ],
   "source": [
    "# modules for mapping\n",
    "import plotly.express as px\n",
    "import geopandas as gpd\n",
    "\n",
    "\n",
    "#Labels only for top 10\n",
    "airports.loc[airports['iata'].isin(column_order),'top10'] = airports['iata']\n",
    "\n",
    "#Map criteria\n",
    "fig = px.scatter_geo(airports,\n",
    "                    lat=airports.latitude,\n",
    "                    lon=airports.longitude,\n",
    "                    hover_name=\"latitude\",\n",
    "                    size = \"flight_count\",\n",
    "                    text = \"top10\",\n",
    "                    #title = \"US Airports by Flight Volume (top 10 labeled)\",\n",
    "                    #color='Blue'\n",
    "                    )\n",
    "fig.update_traces(textposition='top center')\n",
    "\n",
    "fig.update_layout(\n",
    "    title={\n",
    "        'text': \"US Airports by 2021 Flight Volume (bubble size) - Top 10 Labeled\",\n",
    "        'y':0.91,\n",
    "        'x':0.5,\n",
    "        'xanchor': 'center',\n",
    "        'yanchor': 'top'}\n",
    "        )\n",
    "\n",
    "# ONCE THE MAP SHOWS, ZOOM IN TO THE US\n",
    "fig.show()\n"
   ]
  },
  {
   "cell_type": "code",
   "execution_count": null,
   "metadata": {},
   "outputs": [
    {
     "data": {
      "application/vnd.plotly.v1+json": {
       "config": {
        "plotlyServerURL": "https://plot.ly"
       },
       "data": [
        {
         "hoverinfo": "text",
         "lat": [
          35.04022222,
          61.17432028,
          33.64044444,
          30.19453278,
          41.93887417,
          33.56294306,
          36.12447667,
          42.3643475,
          42.94052472,
          34.20061917,
          39.17540167,
          32.89864639,
          41.41089417,
          35.21401111,
          39.99798528,
          39.04614278,
          32.84711389,
          38.85208333,
          39.85840806,
          32.89595056,
          42.21205889,
          31.80666667,
          40.69249722,
          26.07258333,
          21.31869111,
          29.64541861,
          38.94453194,
          29.98047222,
          39.71732917,
          30.49405556,
          40.63975111,
          36.08036111,
          33.94253611,
          40.77724306,
          34.72939611,
          39.29760528,
          28.42888889,
          41.7859825,
          35.04241667,
          25.79325,
          42.94722222,
          44.88054694,
          29.99338889,
          37.72129083,
          20.89864972,
          35.39308833,
          41.30251861,
          34.056,
          41.979595,
          36.89461111,
          26.68316194,
          45.58872222,
          39.87195278,
          33.43416667,
          40.49146583,
          41.72399917,
          35.87763889,
          37.50516667,
          39.49857611,
          26.53616667,
          32.73355611,
          29.53369444,
          38.17438889,
          47.44898194,
          37.61900194,
          37.36186194,
          18.43941667,
          40.78838778,
          38.69542167,
          33.67565861,
          38.74768694,
          27.97547222,
          36.19837222,
          32.11608333,
          40.65236278,
          32.41132,
          45.44905556,
          31.535515,
          41.25305194,
          31.61128833,
          40.97811528,
          39.45758333,
          51.87796389,
          57.74996778,
          31.32737167,
          33.369955,
          58.67680167,
          42.74811944,
          42.55708139,
          35.2193725,
          45.0780675,
          43.99192222,
          39.22316,
          44.25740806,
          35.43619444,
          41.33814944,
          42.234875,
          60.77977639,
          35.43359806,
          42.20848278,
          44.80744444,
          45.8076625,
          46.77411111,
          47.50942417,
          48.79275,
          40.47798556,
          43.56444444,
          29.95083333,
          31.25902778,
          18.49486111,
          46.39785806,
          25.90683333,
          71.2854475,
          45.95479528,
          30.53316083,
          44.47300361,
          45.77690139,
          33.93884,
          40.91631194,
          37.70097028,
          60.49183389,
          41.78015722,
          35.03526833,
          38.13863889,
          39.79538278,
          41.88458833,
          46.25075194,
          33.127231,
          30.58858944,
          40.03925,
          47.16841722,
          38.75495611,
          44.52019417,
          38.80580556,
          38.81809306,
          42.90835556,
          27.77036083,
          38.37315083,
          32.51633333,
          44.77761917,
          41.1557225,
          29.17991667,
          39.90237583,
          42.40295944,
          31.32133917,
          46.79738889,
          59.0454125,
          46.84209028,
          37.15151667,
          29.37181222,
          41.53493306,
          48.11424528,
          44.86525722,
          39.64256778,
          40.82492611,
          42.15991361,
          42.08202139,
          45.72266972,
          44.12326,
          38.03799139,
          35.07297222,
          24.55611111,
          64.8136775,
          46.91934889,
          36.77619444,
          34.99147222,
          48.31140472,
          35.13845472,
          34.18536111,
          42.96550333,
          38.95095194,
          43.58135111,
          35.33659028,
          40.97846583,
          44.34889806,
          37.92751556,
          47.61985556,
          47.949255,
          32.38486111,
          39.1224125,
          29.69005556,
          30.40728028,
          44.48507333,
          40.96747222,
          31.06489778,
          42.88081972,
          36.09774694,
          34.89566722,
          58.42438139,
          47.48200194,
          33.45033444,
          38.53396333,
          13.48345,
          40.48118028,
          47.38659917,
          46.60681806,
          32.68752778,
          41.06695778,
          26.22850611,
          34.6404475,
          38.36666667,
          41.66933639,
          38.84494167,
          37.64995889,
          43.51455556,
          39.67872222,
          34.27061111,
          45.81835417,
          48.56618722,
          32.83422028,
          48.17793861,
          40.7952425,
          42.49102778,
          19.72026306,
          35.65884306,
          43.60732417,
          32.31116667,
          37.15181361,
          46.92971944,
          58.35496194,
          19.73876583,
          55.35556861,
          42.7787,
          41.31205,
          34.56771444,
          33.66363889,
          30.1260975,
          38.03697222,
          30.20527972,
          33.81772222,
          21.97598306,
          42.15614361,
          40.85097222,
          27.54373861,
          43.87937972,
          37.85830556,
          46.37449806,
          37.32668528,
          31.94252778,
          43.53291472,
          32.69284944,
          40.19349528,
          32.33313333,
          26.17583333,
          42.37422778,
          32.30064417,
          39.14096722,
          42.93451639,
          43.16948806,
          28.10275,
          41.44852639,
          32.51086556,
          37.62404861,
          30.69141667,
          37.62581722,
          48.25937778,
          46.353639,
          36.5869825,
          43.13985778,
          46.91630556,
          38.50886722,
          41.39302583,
          47.20770806,
          33.67975,
          34.82916444,
          64.51220222,
          42.26733944,
          43.41713889,
          66.88467694,
          34.20080083,
          37.06083333,
          30.21208333,
          37.13189556,
          40.66424333,
          31.46714944,
          27.91076333,
          42.91130556,
          44.38267694,
          45.5709275,
          30.47330556,
          14.33102278,
          46.26468028,
          18.00830278,
          56.80165194,
          33.82921556,
          38.28908722,
          43.64616667,
          44.04532139,
          40.50898361,
          44.25406722,
          42.19536389,
          45.63119306,
          41.5942175,
          37.32546833,
          43.11886611,
          33.30155556,
          43.90882639,
          35.61677778,
          32.12758333,
          34.42621194,
          41.70895361,
          35.23705806,
          70.19475583,
          40.851206,
          37.24432611,
          37.09058333,
          38.26384333,
          32.4466275,
          57.04713806,
          31.35775,
          34.89924833,
          39.84395194,
          14.996111,
          33.98879611,
          27.39533333,
          45.54532417,
          18.33730556,
          17.70188889,
          43.50484139,
          42.40260333,
          41.50409361,
          43.11118694,
          37.95375861,
          30.39652778,
          41.58680556,
          36.47521417,
          40.27669111,
          34.26810833,
          44.74144472,
          42.48180389,
          33.45370806,
          32.35413889,
          35.81248722,
          40.44090167,
          30.7825,
          30.48325,
          56.48432583,
          44.68839917,
          36.28186944,
          59.50336056,
          32.65658333
         ],
         "lon": [
          -106.6091944,
          -149.9961856,
          -84.42694444,
          -97.66987194,
          -72.68322833,
          -86.75354972,
          -86.67818222,
          -71.00517917,
          -78.73216667,
          -118.3584969,
          -76.66819833,
          -80.04050583,
          -81.84939667,
          -80.94312583,
          -82.89188278,
          -84.6621725,
          -96.85177222,
          -77.03772222,
          -104.6670019,
          -97.0372,
          -83.34883583,
          -106.3778056,
          -74.16866056,
          -80.15275,
          -157.9224072,
          -95.27888889,
          -77.45580972,
          -95.33972222,
          -86.29438417,
          -81.68786111,
          -73.77892556,
          -115.1523333,
          -118.4080744,
          -73.87260917,
          -92.22424556,
          -94.71390556,
          -81.31602778,
          -87.75242444,
          -89.97666667,
          -80.29055556,
          -87.89658333,
          -93.2169225,
          -90.25802778,
          -122.2207167,
          -156.4304578,
          -97.60073389,
          -95.89417306,
          -117.6011944,
          -87.90446417,
          -76.20122222,
          -80.09559417,
          -122.5975,
          -75.24114083,
          -112.0080556,
          -80.23287083,
          -71.42822111,
          -78.78747222,
          -77.31966667,
          -119.7680647,
          -81.75516667,
          -117.1896567,
          -98.46977778,
          -85.736,
          -122.3093131,
          -122.3748433,
          -121.9290089,
          -66.00183333,
          -111.9777731,
          -121.5907669,
          -117.8682225,
          -90.35998972,
          -82.53325,
          -95.88824167,
          -110.9410278,
          -75.44040167,
          -99.68189722,
          -98.42183333,
          -84.19447333,
          -70.06018139,
          -97.23051917,
          -124.1086189,
          -74.57716667,
          -176.6460306,
          -152.4938553,
          -92.54855611,
          -81.96449611,
          -156.6492175,
          -73.80297861,
          -92.40034361,
          -101.7059272,
          -83.56028583,
          -76.02173861,
          -106.868845,
          -88.51947556,
          -82.54180556,
          -75.7242675,
          -85.5520575,
          -161.8379975,
          -119.0567681,
          -75.97961361,
          -68.82813889,
          -108.5428611,
          -100.7467222,
          -94.93372333,
          -122.5375278,
          -88.91595278,
          -116.2227778,
          -94.02069444,
          -81.46630556,
          -67.12944444,
          -94.1372275,
          -97.42586111,
          -156.7660019,
          -112.49746,
          -91.14963444,
          -73.1503125,
          -111.1530072,
          -81.11953944,
          -81.44246556,
          -113.098575,
          -145.4776503,
          -124.2365333,
          -85.20378778,
          -78.45286111,
          -121.8584231,
          -91.71087222,
          -84.47238528,
          -117.278727,
          -96.36382417,
          -88.27805556,
          -88.48906083,
          -109.7548439,
          -109.0237961,
          -104.70025,
          -92.21962917,
          -106.4644661,
          -97.50121528,
          -81.59318972,
          -84.93886111,
          -89.66677944,
          -104.8118381,
          -81.05805556,
          -84.219375,
          -90.70916722,
          -85.44962889,
          -102.8019528,
          -158.5033389,
          -92.19364861,
          -107.7537692,
          -100.9232339,
          -93.66068222,
          -98.90877833,
          -91.48507194,
          -106.9176953,
          -115.7916964,
          -76.89144333,
          -80.17621556,
          -87.09373139,
          -123.2186856,
          -87.53062667,
          -77.04294444,
          -81.75955556,
          -147.8596694,
          -96.81498889,
          -119.7181389,
          -78.88,
          -114.2550694,
          -111.6712183,
          -79.72388889,
          -83.74345639,
          -95.66361444,
          -96.74170028,
          -94.36744111,
          -85.19514639,
          -105.5393614,
          -100.7244147,
          -117.5338425,
          -97.17611111,
          -94.71171,
          -108.5267347,
          -82.27177778,
          -89.07009278,
          -88.12959,
          -98.30861111,
          -97.82779778,
          -85.52276778,
          -79.9372975,
          -82.21885833,
          -135.7073814,
          -111.3706853,
          -88.59136861,
          -106.9331817,
          -144.7959825,
          -107.2176597,
          -92.83899333,
          -111.9827503,
          -103.2170278,
          -73.70757444,
          -97.65439389,
          -86.77310944,
          -82.55802778,
          -70.28035583,
          -99.27403361,
          -97.43304583,
          -112.0701667,
          -75.60652778,
          -77.90255556,
          -88.1145425,
          -93.40306667,
          -115.5787456,
          -103.6423467,
          -73.10021194,
          -76.45844444,
          -155.0484703,
          -117.8295122,
          -110.7377389,
          -90.07588889,
          -94.49826833,
          -98.67819528,
          -134.5762764,
          -156.0456314,
          -131.71374,
          -84.58735806,
          -105.6749864,
          -98.41663667,
          -101.8227778,
          -93.22340361,
          -84.60538889,
          -91.987655,
          -118.1516111,
          -159.3389581,
          -121.7332081,
          -96.75925,
          -99.46154361,
          -91.25653778,
          -80.39947222,
          -117.0153944,
          -79.20043056,
          -102.2019139,
          -84.07964722,
          -83.64921083,
          -76.76340361,
          -88.75120556,
          -98.23861111,
          -122.8734978,
          -86.39397611,
          -96.67083278,
          -71.43705583,
          -86.23822306,
          -80.64580556,
          -90.50753917,
          -92.03768778,
          -118.8377722,
          -88.24283333,
          -120.9544214,
          -101.2803339,
          -87.395361,
          -121.8429478,
          -89.33751361,
          -114.0905556,
          -107.8938333,
          -70.6143325,
          -119.3201897,
          -78.92833333,
          -77.61213778,
          -165.4452458,
          -71.87570944,
          -124.2460278,
          -162.5985497,
          -119.2072164,
          -88.77375,
          -85.68280556,
          -76.4929875,
          -89.69330556,
          -89.33705778,
          -82.68743944,
          -112.5958611,
          -100.285965,
          -84.796715,
          -87.18744444,
          -170.7105258,
          -119.1190292,
          -66.56301194,
          -132.9452781,
          -116.5062531,
          -104.4965722,
          -70.30875,
          -103.0573708,
          -122.2934019,
          -121.1499633,
          -89.09721111,
          -89.46745361,
          -109.0651928,
          -79.97542833,
          -77.67238389,
          -104.5305556,
          -92.49798722,
          -106.0881389,
          -81.20213889,
          -119.8403733,
          -86.31847417,
          -120.6423931,
          -148.4651608,
          -77.846302,
          -93.38685806,
          -113.5930556,
          -78.89643806,
          -93.82559833,
          -135.3615983,
          -100.4963056,
          -120.4575825,
          -89.67761861,
          145.621384,
          -98.49189333,
          -82.55411111,
          -94.05833667,
          -64.97336111,
          -64.79855556,
          -114.2965903,
          -96.38436694,
          -74.10483833,
          -76.10631056,
          -107.90848,
          -84.35033333,
          -83.80783333,
          -82.40742056,
          -74.81346833,
          -88.769895,
          -85.582235,
          -114.4877356,
          -93.99102,
          -95.40238611,
          -83.99285583,
          -109.5099203,
          -83.27672222,
          -86.5254,
          -132.3698242,
          -111.1176375,
          -94.30681111,
          -139.6602261,
          -114.6059722
         ],
         "mode": "markers",
         "text": [
          "Albuquerque International",
          "Ted Stevens Anchorage International",
          "William B Hartsfield-Atlanta Intl",
          "Austin-Bergstrom International",
          "Bradley International",
          "Birmingham International",
          "Nashville International",
          "Gen Edw L Logan Intl",
          "Buffalo Niagara Intl",
          "Burbank-Glendale-Pasadena",
          "Baltimore-Washington International",
          "Charleston AFB International",
          "Cleveland-Hopkins Intl",
          "Charlotte Douglas International",
          "Port Columbus Intl",
          "Cincinnati Northern Kentucky Intl",
          "Dallas Love ",
          "Ronald Reagan Washington National",
          "Denver Intl",
          "Dallas-Fort Worth International",
          "Detroit Metropolitan-Wayne County",
          "El Paso International",
          "Newark Intl",
          "Fort Lauderdale-Hollywood Int'l",
          "Honolulu International",
          "William P X",
          "Washington Dulles International",
          "George Bush Intercontinental",
          "Indianapolis International",
          "Jacksonville International",
          "John F Kennedy Intl",
          "McCarran International",
          "Los Angeles International",
          "LaGuardia",
          "Adams ",
          "Kansas City International",
          "Orlando International",
          "Chicago Midway",
          "Memphis International",
          "Miami International",
          "General Mitchell International",
          "Minneapolis-St Paul Intl",
          "New Orleans International ",
          "Metropolitan Oakland International",
          "Kahului",
          "Will Rogers World",
          "Eppley Airfield",
          "Ontario International",
          "Chicago O'Hare International",
          "Norfolk International",
          "Palm Beach International",
          "Portland Intl",
          "Philadelphia Intl",
          "Phoenix Sky Harbor International",
          "Pittsburgh International",
          "Theodore F Green State",
          "Raleigh-Durham International",
          "Richmond International",
          "Reno Tahoe International",
          "Southwest Florida International",
          "San Diego International-Lindbergh ",
          "San Antonio International",
          "Louisville International-Standiford ",
          "Seattle-Tacoma Intl",
          "San Francisco International",
          "San Jose International",
          "Luis Munoz Marin International",
          "Salt Lake City Intl",
          "Sacramento International",
          "John Wayne  Orange Co",
          "Lambert-St Louis International",
          "Tampa International ",
          "Tulsa International",
          "Tucson International",
          "Lehigh Valley International",
          "Abilene Regional",
          "Aberdeen Regional",
          "Southwest Georgia Regional",
          "Nantucket Memorial",
          "Waco Regional",
          "Arcata",
          "Atlantic City International",
          "Adak",
          "Kodiak ",
          "Alexandria International",
          "Bush ",
          "King Salmon",
          "Albany Cty",
          "Waterloo Municipal",
          "Amarillo International",
          "Alpena County Regional ",
          "Watertown Intl",
          "Aspen-Pitkin Co Sardy ",
          "Outagamie County Regional",
          "Asheville Regional",
          "Wilkes-Barre Scranton Intl",
          "Kalamazoo County",
          "Bethel",
          "Meadows ",
          "Binghamton Regional",
          "Bangor International",
          "Billings Logan Intl",
          "Bismarck Municipal",
          "Bemidji-Beltrami County",
          "Bellingham Intl",
          "Central Illinois Regional",
          "Boise Air Terminal",
          "Southeast Texas Regional",
          "Glynco Jetport",
          "Rafael Hernandez",
          "Brainerd-Crow Wing County Regional",
          "Brownsville S.Padre Island International",
          "Wiley Post Will Rogers Memorial",
          "Bert Mooney",
          "Baton Rouge Metropolitan",
          "Burlington International",
          "Gallatin ",
          "Columbia Metropolitan",
          "Akron-Canton Regional",
          "Cedar City Muni",
          "Merle K (Mudhole) Smith",
          "Jack McNamara ",
          "Lovell ",
          "Charlottesville-Albermarle",
          "Chico Municipal",
          "Eastern Iowa ",
          "Chippewa County International",
          "MC Clellan-Palomar Airport",
          "Easterwood ",
          "University of Illinois-Willard",
          "Houghton County Memorial",
          "Canyonlands ",
          "Yellowstone Regional",
          "City of Colorado Springs Muni",
          "Columbia Regional",
          "Natrona County Intl",
          "Corpus Christi International",
          "Yeager",
          "Columbus Metropolitan",
          "Central Wisconsin",
          "Cheyenne",
          "Daytona Beach International",
          "James M Cox Dayton Intl",
          "Dubuque Municipal",
          "Dothan ",
          "Dickinson Municipal",
          "Dillingham",
          "Duluth International",
          "Durango-La Plata County",
          "Del Rio International",
          "Des Moines International",
          "Devils Lake Municipal-Knoke ",
          "Chippewa Valley Regional",
          "Eagle County Regional",
          "Elko Regional",
          "Elmira Corning Regional",
          "Erie Intl",
          "Delta County",
          "Mahlon Sweet ",
          "Evansville Regional",
          "Craven County Regional",
          "Key West International",
          "Fairbanks International",
          "Hector International",
          "Fresno Yosemite International",
          "Fayetteville Municipal",
          "Glacier Park Intl",
          "Flagstaff Pulliam",
          "Florence Regional",
          "Bishop",
          "Forbes ",
          "Joe Foss ",
          "Fort Smith Regional",
          "Fort Wayne International",
          "Gillette-Campbell County",
          "Garden City Regional",
          "Spokane Intl",
          "Grand Forks International",
          "Gregg County",
          "Walker ",
          "Gainesville Regional",
          "Gulfport-Biloxi Regional",
          "Austin Straubel International",
          "Central Nebraska Regional ",
          "Robert Gray AAF",
          "Kent County International",
          "Piedmont Triad International",
          "Greenville-Spartanburg",
          "Gustavus",
          "Great Falls Intl",
          "Golden Triangle Regional",
          "Gunnison County",
          "Guam International",
          "Yampa Valley",
          "Chisholm-Hibbing",
          "Helena Regional",
          "Lea County Regional",
          "Westchester Cty",
          "Valley International",
          "Huntsville International ",
          "Tri-State Walker-Long ",
          "Barnstable Mun Boardman Polando ",
          "Hays Municipal",
          "Wichita Mid-Continent",
          "Idaho Falls Regional",
          "New Castle County ",
          "Wilmington International",
          "Ford",
          "Falls International",
          "Imperial County",
          "Sloulin Field International",
          "Long Island - MacArthur",
          "Tompkins Cty ",
          "Hilo International",
          "Inyokern",
          "Jackson Hole",
          "Jackson International",
          "Joplin Regional",
          "Jamestown Municipal",
          "Juneau International",
          "Kona International At Keahole",
          "Ketchikan International",
          "Capital City",
          "Laramie Regional",
          "Lawton-Ft Sill Regional",
          "Lubbock International",
          "Lake Charles Regional",
          "Blue Grass ",
          "Lafayette Regional",
          "Long Beach (Daugherty )",
          "Lihue",
          "Klamath Falls International",
          "Lincoln Municipal",
          "Laredo International",
          "La Crosse Municipal",
          "Greenbrier Valley",
          "Lewiston-Nez Perce County",
          "Lynchburg Municipal-Preston Glenn ",
          "Midland International",
          "Mbs International",
          "Middle Georgia Regional",
          "Harrisburg Intl",
          "Key ",
          "McAllen Miller International",
          "Rogue Valley International",
          "Montgomery Regional Apt",
          "Manhattan Regional",
          "Manchester",
          "Muskegon County",
          "Melbourne International ",
          "Quad City",
          "Monroe Regional",
          "Mammoth Yosemite",
          "Mobile Regional",
          "Modesto City-County-Harry Sham ",
          "Minot International",
          "Marquette County Airport",
          "Monterey Peninsula",
          "Dane County Regional",
          "Missoula International",
          "Montrose Regional",
          "Marthas Vineyard",
          "Grant County",
          "Myrtle Beach International",
          "Albert J Ellis",
          "Nome",
          "Worcester Regional",
          "North Bend Muni",
          "Ralph Wien Memorial",
          "Oxnard",
          "Barkley Regional",
          "Panama City-Bay County International",
          "Newport News Williamsburg International",
          "Greater Peoria Regional",
          "Hattiesburg-Laurel Regional",
          "St. Petersburg-Clearwater International",
          "Pocatello Regional",
          "Pierre Regional",
          "Pellston Regional  of Emmet County",
          "Pensacola Regional",
          "Pago Pago International",
          "Tri-Cities",
          "Mercedita",
          "James C. Johnson Petersburg",
          "Palm Springs International",
          "Pueblo Memorial",
          "Portland International Jetport",
          "Rapid City Regional",
          "Redding Municipal",
          "Roberts ",
          "Greater Rockford",
          "Rhinelander-Oneida County",
          "Rock Springs-Sweetwater County",
          "Roanoke Regional  Woodrum ",
          "Greater Rochester Int'l",
          "Roswell Industrial Air Center",
          "Rochester International",
          "Santa Fe Municipal",
          "Savannah International",
          "Santa Barbara Municipal",
          "South Bend Regional",
          "San Luis Obispo Co-McChesney ",
          "Deadhorse",
          "University Park",
          "Springfield-Branson Regional",
          "St George Muni",
          "Shenandoah Valley Regional",
          "Shreveport Regional",
          "Sitka",
          "San Angelo Regional  Mathis ",
          "Santa Maria Pub Capt G Allan Hancock ",
          "Capital",
          "Tinian International Airport",
          "Sheppard AFB Wichita Falls Municipal",
          "Sarasota Bradenton International",
          "St Cloud Regional",
          "Cyril E. King",
          "Henry E. Rohlsen ",
          "Friedman Memorial",
          "Sioux Gateway ",
          "Stewart",
          "Syracuse-Hancock Intl",
          "Telluride Regional",
          "Tallahassee Regional",
          "Toledo Express",
          "Tri-Cities Regional",
          "Trenton-Mercer County ",
          "Tupelo Municipal ",
          "Cherry Capital",
          "Joslin Field - Magic Valley",
          "Texarkana Regional-Webb ",
          "Tyler Pounds ",
          "McGhee-Tyson",
          "Vernal",
          "Valdosta Regional",
          "Eglin Air Force Base",
          "Wrangell",
          "Yellowstone",
          "Northwest Arkansas Regional",
          "Yakutat",
          "Yuma MCAS-Yuma International"
         ],
         "type": "scattergeo"
        }
       ],
       "layout": {
        "geo": {
         "scope": "usa"
        },
        "template": {
         "data": {
          "bar": [
           {
            "error_x": {
             "color": "#2a3f5f"
            },
            "error_y": {
             "color": "#2a3f5f"
            },
            "marker": {
             "line": {
              "color": "#E5ECF6",
              "width": 0.5
             },
             "pattern": {
              "fillmode": "overlay",
              "size": 10,
              "solidity": 0.2
             }
            },
            "type": "bar"
           }
          ],
          "barpolar": [
           {
            "marker": {
             "line": {
              "color": "#E5ECF6",
              "width": 0.5
             },
             "pattern": {
              "fillmode": "overlay",
              "size": 10,
              "solidity": 0.2
             }
            },
            "type": "barpolar"
           }
          ],
          "carpet": [
           {
            "aaxis": {
             "endlinecolor": "#2a3f5f",
             "gridcolor": "white",
             "linecolor": "white",
             "minorgridcolor": "white",
             "startlinecolor": "#2a3f5f"
            },
            "baxis": {
             "endlinecolor": "#2a3f5f",
             "gridcolor": "white",
             "linecolor": "white",
             "minorgridcolor": "white",
             "startlinecolor": "#2a3f5f"
            },
            "type": "carpet"
           }
          ],
          "choropleth": [
           {
            "colorbar": {
             "outlinewidth": 0,
             "ticks": ""
            },
            "type": "choropleth"
           }
          ],
          "contour": [
           {
            "colorbar": {
             "outlinewidth": 0,
             "ticks": ""
            },
            "colorscale": [
             [
              0,
              "#0d0887"
             ],
             [
              0.1111111111111111,
              "#46039f"
             ],
             [
              0.2222222222222222,
              "#7201a8"
             ],
             [
              0.3333333333333333,
              "#9c179e"
             ],
             [
              0.4444444444444444,
              "#bd3786"
             ],
             [
              0.5555555555555556,
              "#d8576b"
             ],
             [
              0.6666666666666666,
              "#ed7953"
             ],
             [
              0.7777777777777778,
              "#fb9f3a"
             ],
             [
              0.8888888888888888,
              "#fdca26"
             ],
             [
              1,
              "#f0f921"
             ]
            ],
            "type": "contour"
           }
          ],
          "contourcarpet": [
           {
            "colorbar": {
             "outlinewidth": 0,
             "ticks": ""
            },
            "type": "contourcarpet"
           }
          ],
          "heatmap": [
           {
            "colorbar": {
             "outlinewidth": 0,
             "ticks": ""
            },
            "colorscale": [
             [
              0,
              "#0d0887"
             ],
             [
              0.1111111111111111,
              "#46039f"
             ],
             [
              0.2222222222222222,
              "#7201a8"
             ],
             [
              0.3333333333333333,
              "#9c179e"
             ],
             [
              0.4444444444444444,
              "#bd3786"
             ],
             [
              0.5555555555555556,
              "#d8576b"
             ],
             [
              0.6666666666666666,
              "#ed7953"
             ],
             [
              0.7777777777777778,
              "#fb9f3a"
             ],
             [
              0.8888888888888888,
              "#fdca26"
             ],
             [
              1,
              "#f0f921"
             ]
            ],
            "type": "heatmap"
           }
          ],
          "heatmapgl": [
           {
            "colorbar": {
             "outlinewidth": 0,
             "ticks": ""
            },
            "colorscale": [
             [
              0,
              "#0d0887"
             ],
             [
              0.1111111111111111,
              "#46039f"
             ],
             [
              0.2222222222222222,
              "#7201a8"
             ],
             [
              0.3333333333333333,
              "#9c179e"
             ],
             [
              0.4444444444444444,
              "#bd3786"
             ],
             [
              0.5555555555555556,
              "#d8576b"
             ],
             [
              0.6666666666666666,
              "#ed7953"
             ],
             [
              0.7777777777777778,
              "#fb9f3a"
             ],
             [
              0.8888888888888888,
              "#fdca26"
             ],
             [
              1,
              "#f0f921"
             ]
            ],
            "type": "heatmapgl"
           }
          ],
          "histogram": [
           {
            "marker": {
             "pattern": {
              "fillmode": "overlay",
              "size": 10,
              "solidity": 0.2
             }
            },
            "type": "histogram"
           }
          ],
          "histogram2d": [
           {
            "colorbar": {
             "outlinewidth": 0,
             "ticks": ""
            },
            "colorscale": [
             [
              0,
              "#0d0887"
             ],
             [
              0.1111111111111111,
              "#46039f"
             ],
             [
              0.2222222222222222,
              "#7201a8"
             ],
             [
              0.3333333333333333,
              "#9c179e"
             ],
             [
              0.4444444444444444,
              "#bd3786"
             ],
             [
              0.5555555555555556,
              "#d8576b"
             ],
             [
              0.6666666666666666,
              "#ed7953"
             ],
             [
              0.7777777777777778,
              "#fb9f3a"
             ],
             [
              0.8888888888888888,
              "#fdca26"
             ],
             [
              1,
              "#f0f921"
             ]
            ],
            "type": "histogram2d"
           }
          ],
          "histogram2dcontour": [
           {
            "colorbar": {
             "outlinewidth": 0,
             "ticks": ""
            },
            "colorscale": [
             [
              0,
              "#0d0887"
             ],
             [
              0.1111111111111111,
              "#46039f"
             ],
             [
              0.2222222222222222,
              "#7201a8"
             ],
             [
              0.3333333333333333,
              "#9c179e"
             ],
             [
              0.4444444444444444,
              "#bd3786"
             ],
             [
              0.5555555555555556,
              "#d8576b"
             ],
             [
              0.6666666666666666,
              "#ed7953"
             ],
             [
              0.7777777777777778,
              "#fb9f3a"
             ],
             [
              0.8888888888888888,
              "#fdca26"
             ],
             [
              1,
              "#f0f921"
             ]
            ],
            "type": "histogram2dcontour"
           }
          ],
          "mesh3d": [
           {
            "colorbar": {
             "outlinewidth": 0,
             "ticks": ""
            },
            "type": "mesh3d"
           }
          ],
          "parcoords": [
           {
            "line": {
             "colorbar": {
              "outlinewidth": 0,
              "ticks": ""
             }
            },
            "type": "parcoords"
           }
          ],
          "pie": [
           {
            "automargin": true,
            "type": "pie"
           }
          ],
          "scatter": [
           {
            "marker": {
             "colorbar": {
              "outlinewidth": 0,
              "ticks": ""
             }
            },
            "type": "scatter"
           }
          ],
          "scatter3d": [
           {
            "line": {
             "colorbar": {
              "outlinewidth": 0,
              "ticks": ""
             }
            },
            "marker": {
             "colorbar": {
              "outlinewidth": 0,
              "ticks": ""
             }
            },
            "type": "scatter3d"
           }
          ],
          "scattercarpet": [
           {
            "marker": {
             "colorbar": {
              "outlinewidth": 0,
              "ticks": ""
             }
            },
            "type": "scattercarpet"
           }
          ],
          "scattergeo": [
           {
            "marker": {
             "colorbar": {
              "outlinewidth": 0,
              "ticks": ""
             }
            },
            "type": "scattergeo"
           }
          ],
          "scattergl": [
           {
            "marker": {
             "colorbar": {
              "outlinewidth": 0,
              "ticks": ""
             }
            },
            "type": "scattergl"
           }
          ],
          "scattermapbox": [
           {
            "marker": {
             "colorbar": {
              "outlinewidth": 0,
              "ticks": ""
             }
            },
            "type": "scattermapbox"
           }
          ],
          "scatterpolar": [
           {
            "marker": {
             "colorbar": {
              "outlinewidth": 0,
              "ticks": ""
             }
            },
            "type": "scatterpolar"
           }
          ],
          "scatterpolargl": [
           {
            "marker": {
             "colorbar": {
              "outlinewidth": 0,
              "ticks": ""
             }
            },
            "type": "scatterpolargl"
           }
          ],
          "scatterternary": [
           {
            "marker": {
             "colorbar": {
              "outlinewidth": 0,
              "ticks": ""
             }
            },
            "type": "scatterternary"
           }
          ],
          "surface": [
           {
            "colorbar": {
             "outlinewidth": 0,
             "ticks": ""
            },
            "colorscale": [
             [
              0,
              "#0d0887"
             ],
             [
              0.1111111111111111,
              "#46039f"
             ],
             [
              0.2222222222222222,
              "#7201a8"
             ],
             [
              0.3333333333333333,
              "#9c179e"
             ],
             [
              0.4444444444444444,
              "#bd3786"
             ],
             [
              0.5555555555555556,
              "#d8576b"
             ],
             [
              0.6666666666666666,
              "#ed7953"
             ],
             [
              0.7777777777777778,
              "#fb9f3a"
             ],
             [
              0.8888888888888888,
              "#fdca26"
             ],
             [
              1,
              "#f0f921"
             ]
            ],
            "type": "surface"
           }
          ],
          "table": [
           {
            "cells": {
             "fill": {
              "color": "#EBF0F8"
             },
             "line": {
              "color": "white"
             }
            },
            "header": {
             "fill": {
              "color": "#C8D4E3"
             },
             "line": {
              "color": "white"
             }
            },
            "type": "table"
           }
          ]
         },
         "layout": {
          "annotationdefaults": {
           "arrowcolor": "#2a3f5f",
           "arrowhead": 0,
           "arrowwidth": 1
          },
          "autotypenumbers": "strict",
          "coloraxis": {
           "colorbar": {
            "outlinewidth": 0,
            "ticks": ""
           }
          },
          "colorscale": {
           "diverging": [
            [
             0,
             "#8e0152"
            ],
            [
             0.1,
             "#c51b7d"
            ],
            [
             0.2,
             "#de77ae"
            ],
            [
             0.3,
             "#f1b6da"
            ],
            [
             0.4,
             "#fde0ef"
            ],
            [
             0.5,
             "#f7f7f7"
            ],
            [
             0.6,
             "#e6f5d0"
            ],
            [
             0.7,
             "#b8e186"
            ],
            [
             0.8,
             "#7fbc41"
            ],
            [
             0.9,
             "#4d9221"
            ],
            [
             1,
             "#276419"
            ]
           ],
           "sequential": [
            [
             0,
             "#0d0887"
            ],
            [
             0.1111111111111111,
             "#46039f"
            ],
            [
             0.2222222222222222,
             "#7201a8"
            ],
            [
             0.3333333333333333,
             "#9c179e"
            ],
            [
             0.4444444444444444,
             "#bd3786"
            ],
            [
             0.5555555555555556,
             "#d8576b"
            ],
            [
             0.6666666666666666,
             "#ed7953"
            ],
            [
             0.7777777777777778,
             "#fb9f3a"
            ],
            [
             0.8888888888888888,
             "#fdca26"
            ],
            [
             1,
             "#f0f921"
            ]
           ],
           "sequentialminus": [
            [
             0,
             "#0d0887"
            ],
            [
             0.1111111111111111,
             "#46039f"
            ],
            [
             0.2222222222222222,
             "#7201a8"
            ],
            [
             0.3333333333333333,
             "#9c179e"
            ],
            [
             0.4444444444444444,
             "#bd3786"
            ],
            [
             0.5555555555555556,
             "#d8576b"
            ],
            [
             0.6666666666666666,
             "#ed7953"
            ],
            [
             0.7777777777777778,
             "#fb9f3a"
            ],
            [
             0.8888888888888888,
             "#fdca26"
            ],
            [
             1,
             "#f0f921"
            ]
           ]
          },
          "colorway": [
           "#636efa",
           "#EF553B",
           "#00cc96",
           "#ab63fa",
           "#FFA15A",
           "#19d3f3",
           "#FF6692",
           "#B6E880",
           "#FF97FF",
           "#FECB52"
          ],
          "font": {
           "color": "#2a3f5f"
          },
          "geo": {
           "bgcolor": "white",
           "lakecolor": "white",
           "landcolor": "#E5ECF6",
           "showlakes": true,
           "showland": true,
           "subunitcolor": "white"
          },
          "hoverlabel": {
           "align": "left"
          },
          "hovermode": "closest",
          "mapbox": {
           "style": "light"
          },
          "paper_bgcolor": "white",
          "plot_bgcolor": "#E5ECF6",
          "polar": {
           "angularaxis": {
            "gridcolor": "white",
            "linecolor": "white",
            "ticks": ""
           },
           "bgcolor": "#E5ECF6",
           "radialaxis": {
            "gridcolor": "white",
            "linecolor": "white",
            "ticks": ""
           }
          },
          "scene": {
           "xaxis": {
            "backgroundcolor": "#E5ECF6",
            "gridcolor": "white",
            "gridwidth": 2,
            "linecolor": "white",
            "showbackground": true,
            "ticks": "",
            "zerolinecolor": "white"
           },
           "yaxis": {
            "backgroundcolor": "#E5ECF6",
            "gridcolor": "white",
            "gridwidth": 2,
            "linecolor": "white",
            "showbackground": true,
            "ticks": "",
            "zerolinecolor": "white"
           },
           "zaxis": {
            "backgroundcolor": "#E5ECF6",
            "gridcolor": "white",
            "gridwidth": 2,
            "linecolor": "white",
            "showbackground": true,
            "ticks": "",
            "zerolinecolor": "white"
           }
          },
          "shapedefaults": {
           "line": {
            "color": "#2a3f5f"
           }
          },
          "ternary": {
           "aaxis": {
            "gridcolor": "white",
            "linecolor": "white",
            "ticks": ""
           },
           "baxis": {
            "gridcolor": "white",
            "linecolor": "white",
            "ticks": ""
           },
           "bgcolor": "#E5ECF6",
           "caxis": {
            "gridcolor": "white",
            "linecolor": "white",
            "ticks": ""
           }
          },
          "title": {
           "x": 0.05
          },
          "xaxis": {
           "automargin": true,
           "gridcolor": "white",
           "linecolor": "white",
           "ticks": "",
           "title": {
            "standoff": 15
           },
           "zerolinecolor": "white",
           "zerolinewidth": 2
          },
          "yaxis": {
           "automargin": true,
           "gridcolor": "white",
           "linecolor": "white",
           "ticks": "",
           "title": {
            "standoff": 15
           },
           "zerolinecolor": "white",
           "zerolinewidth": 2
          }
         }
        },
        "title": {
         "text": "Most trafficked US airports<br>(Hover for airport names)"
        }
       }
      },
      "text/html": [
       "<div>                            <div id=\"ff0541cf-887e-4495-b766-97825e3ea9ff\" class=\"plotly-graph-div\" style=\"height:525px; width:100%;\"></div>            <script type=\"text/javascript\">                require([\"plotly\"], function(Plotly) {                    window.PLOTLYENV=window.PLOTLYENV || {};                                    if (document.getElementById(\"ff0541cf-887e-4495-b766-97825e3ea9ff\")) {                    Plotly.newPlot(                        \"ff0541cf-887e-4495-b766-97825e3ea9ff\",                        [{\"hoverinfo\":\"text\",\"lat\":[35.04022222,61.17432028,33.64044444,30.19453278,41.93887417,33.56294306,36.12447667,42.3643475,42.94052472,34.20061917,39.17540167,32.89864639,41.41089417,35.21401111,39.99798528,39.04614278,32.84711389,38.85208333,39.85840806,32.89595056,42.21205889,31.80666667,40.69249722,26.07258333,21.31869111,29.64541861,38.94453194,29.98047222,39.71732917,30.49405556,40.63975111,36.08036111,33.94253611,40.77724306,34.72939611,39.29760528,28.42888889,41.7859825,35.04241667,25.79325,42.94722222,44.88054694,29.99338889,37.72129083,20.89864972,35.39308833,41.30251861,34.056,41.979595,36.89461111,26.68316194,45.58872222,39.87195278,33.43416667,40.49146583,41.72399917,35.87763889,37.50516667,39.49857611,26.53616667,32.73355611,29.53369444,38.17438889,47.44898194,37.61900194,37.36186194,18.43941667,40.78838778,38.69542167,33.67565861,38.74768694,27.97547222,36.19837222,32.11608333,40.65236278,32.41132,45.44905556,31.535515,41.25305194,31.61128833,40.97811528,39.45758333,51.87796389,57.74996778,31.32737167,33.369955,58.67680167,42.74811944,42.55708139,35.2193725,45.0780675,43.99192222,39.22316,44.25740806,35.43619444,41.33814944,42.234875,60.77977639,35.43359806,42.20848278,44.80744444,45.8076625,46.77411111,47.50942417,48.79275,40.47798556,43.56444444,29.95083333,31.25902778,18.49486111,46.39785806,25.90683333,71.2854475,45.95479528,30.53316083,44.47300361,45.77690139,33.93884,40.91631194,37.70097028,60.49183389,41.78015722,35.03526833,38.13863889,39.79538278,41.88458833,46.25075194,33.127231,30.58858944,40.03925,47.16841722,38.75495611,44.52019417,38.80580556,38.81809306,42.90835556,27.77036083,38.37315083,32.51633333,44.77761917,41.1557225,29.17991667,39.90237583,42.40295944,31.32133917,46.79738889,59.0454125,46.84209028,37.15151667,29.37181222,41.53493306,48.11424528,44.86525722,39.64256778,40.82492611,42.15991361,42.08202139,45.72266972,44.12326,38.03799139,35.07297222,24.55611111,64.8136775,46.91934889,36.77619444,34.99147222,48.31140472,35.13845472,34.18536111,42.96550333,38.95095194,43.58135111,35.33659028,40.97846583,44.34889806,37.92751556,47.61985556,47.949255,32.38486111,39.1224125,29.69005556,30.40728028,44.48507333,40.96747222,31.06489778,42.88081972,36.09774694,34.89566722,58.42438139,47.48200194,33.45033444,38.53396333,13.48345,40.48118028,47.38659917,46.60681806,32.68752778,41.06695778,26.22850611,34.6404475,38.36666667,41.66933639,38.84494167,37.64995889,43.51455556,39.67872222,34.27061111,45.81835417,48.56618722,32.83422028,48.17793861,40.7952425,42.49102778,19.72026306,35.65884306,43.60732417,32.31116667,37.15181361,46.92971944,58.35496194,19.73876583,55.35556861,42.7787,41.31205,34.56771444,33.66363889,30.1260975,38.03697222,30.20527972,33.81772222,21.97598306,42.15614361,40.85097222,27.54373861,43.87937972,37.85830556,46.37449806,37.32668528,31.94252778,43.53291472,32.69284944,40.19349528,32.33313333,26.17583333,42.37422778,32.30064417,39.14096722,42.93451639,43.16948806,28.10275,41.44852639,32.51086556,37.62404861,30.69141667,37.62581722,48.25937778,46.353639,36.5869825,43.13985778,46.91630556,38.50886722,41.39302583,47.20770806,33.67975,34.82916444,64.51220222,42.26733944,43.41713889,66.88467694,34.20080083,37.06083333,30.21208333,37.13189556,40.66424333,31.46714944,27.91076333,42.91130556,44.38267694,45.5709275,30.47330556,14.33102278,46.26468028,18.00830278,56.80165194,33.82921556,38.28908722,43.64616667,44.04532139,40.50898361,44.25406722,42.19536389,45.63119306,41.5942175,37.32546833,43.11886611,33.30155556,43.90882639,35.61677778,32.12758333,34.42621194,41.70895361,35.23705806,70.19475583,40.851206,37.24432611,37.09058333,38.26384333,32.4466275,57.04713806,31.35775,34.89924833,39.84395194,14.996111,33.98879611,27.39533333,45.54532417,18.33730556,17.70188889,43.50484139,42.40260333,41.50409361,43.11118694,37.95375861,30.39652778,41.58680556,36.47521417,40.27669111,34.26810833,44.74144472,42.48180389,33.45370806,32.35413889,35.81248722,40.44090167,30.7825,30.48325,56.48432583,44.68839917,36.28186944,59.50336056,32.65658333],\"lon\":[-106.6091944,-149.9961856,-84.42694444,-97.66987194,-72.68322833,-86.75354972,-86.67818222,-71.00517917,-78.73216667,-118.3584969,-76.66819833,-80.04050583,-81.84939667,-80.94312583,-82.89188278,-84.6621725,-96.85177222,-77.03772222,-104.6670019,-97.0372,-83.34883583,-106.3778056,-74.16866056,-80.15275,-157.9224072,-95.27888889,-77.45580972,-95.33972222,-86.29438417,-81.68786111,-73.77892556,-115.1523333,-118.4080744,-73.87260917,-92.22424556,-94.71390556,-81.31602778,-87.75242444,-89.97666667,-80.29055556,-87.89658333,-93.2169225,-90.25802778,-122.2207167,-156.4304578,-97.60073389,-95.89417306,-117.6011944,-87.90446417,-76.20122222,-80.09559417,-122.5975,-75.24114083,-112.0080556,-80.23287083,-71.42822111,-78.78747222,-77.31966667,-119.7680647,-81.75516667,-117.1896567,-98.46977778,-85.736,-122.3093131,-122.3748433,-121.9290089,-66.00183333,-111.9777731,-121.5907669,-117.8682225,-90.35998972,-82.53325,-95.88824167,-110.9410278,-75.44040167,-99.68189722,-98.42183333,-84.19447333,-70.06018139,-97.23051917,-124.1086189,-74.57716667,-176.6460306,-152.4938553,-92.54855611,-81.96449611,-156.6492175,-73.80297861,-92.40034361,-101.7059272,-83.56028583,-76.02173861,-106.868845,-88.51947556,-82.54180556,-75.7242675,-85.5520575,-161.8379975,-119.0567681,-75.97961361,-68.82813889,-108.5428611,-100.7467222,-94.93372333,-122.5375278,-88.91595278,-116.2227778,-94.02069444,-81.46630556,-67.12944444,-94.1372275,-97.42586111,-156.7660019,-112.49746,-91.14963444,-73.1503125,-111.1530072,-81.11953944,-81.44246556,-113.098575,-145.4776503,-124.2365333,-85.20378778,-78.45286111,-121.8584231,-91.71087222,-84.47238528,-117.278727,-96.36382417,-88.27805556,-88.48906083,-109.7548439,-109.0237961,-104.70025,-92.21962917,-106.4644661,-97.50121528,-81.59318972,-84.93886111,-89.66677944,-104.8118381,-81.05805556,-84.219375,-90.70916722,-85.44962889,-102.8019528,-158.5033389,-92.19364861,-107.7537692,-100.9232339,-93.66068222,-98.90877833,-91.48507194,-106.9176953,-115.7916964,-76.89144333,-80.17621556,-87.09373139,-123.2186856,-87.53062667,-77.04294444,-81.75955556,-147.8596694,-96.81498889,-119.7181389,-78.88,-114.2550694,-111.6712183,-79.72388889,-83.74345639,-95.66361444,-96.74170028,-94.36744111,-85.19514639,-105.5393614,-100.7244147,-117.5338425,-97.17611111,-94.71171,-108.5267347,-82.27177778,-89.07009278,-88.12959,-98.30861111,-97.82779778,-85.52276778,-79.9372975,-82.21885833,-135.7073814,-111.3706853,-88.59136861,-106.9331817,-144.7959825,-107.2176597,-92.83899333,-111.9827503,-103.2170278,-73.70757444,-97.65439389,-86.77310944,-82.55802778,-70.28035583,-99.27403361,-97.43304583,-112.0701667,-75.60652778,-77.90255556,-88.1145425,-93.40306667,-115.5787456,-103.6423467,-73.10021194,-76.45844444,-155.0484703,-117.8295122,-110.7377389,-90.07588889,-94.49826833,-98.67819528,-134.5762764,-156.0456314,-131.71374,-84.58735806,-105.6749864,-98.41663667,-101.8227778,-93.22340361,-84.60538889,-91.987655,-118.1516111,-159.3389581,-121.7332081,-96.75925,-99.46154361,-91.25653778,-80.39947222,-117.0153944,-79.20043056,-102.2019139,-84.07964722,-83.64921083,-76.76340361,-88.75120556,-98.23861111,-122.8734978,-86.39397611,-96.67083278,-71.43705583,-86.23822306,-80.64580556,-90.50753917,-92.03768778,-118.8377722,-88.24283333,-120.9544214,-101.2803339,-87.395361,-121.8429478,-89.33751361,-114.0905556,-107.8938333,-70.6143325,-119.3201897,-78.92833333,-77.61213778,-165.4452458,-71.87570944,-124.2460278,-162.5985497,-119.2072164,-88.77375,-85.68280556,-76.4929875,-89.69330556,-89.33705778,-82.68743944,-112.5958611,-100.285965,-84.796715,-87.18744444,-170.7105258,-119.1190292,-66.56301194,-132.9452781,-116.5062531,-104.4965722,-70.30875,-103.0573708,-122.2934019,-121.1499633,-89.09721111,-89.46745361,-109.0651928,-79.97542833,-77.67238389,-104.5305556,-92.49798722,-106.0881389,-81.20213889,-119.8403733,-86.31847417,-120.6423931,-148.4651608,-77.846302,-93.38685806,-113.5930556,-78.89643806,-93.82559833,-135.3615983,-100.4963056,-120.4575825,-89.67761861,145.621384,-98.49189333,-82.55411111,-94.05833667,-64.97336111,-64.79855556,-114.2965903,-96.38436694,-74.10483833,-76.10631056,-107.90848,-84.35033333,-83.80783333,-82.40742056,-74.81346833,-88.769895,-85.582235,-114.4877356,-93.99102,-95.40238611,-83.99285583,-109.5099203,-83.27672222,-86.5254,-132.3698242,-111.1176375,-94.30681111,-139.6602261,-114.6059722],\"mode\":\"markers\",\"text\":[\"Albuquerque International\",\"Ted Stevens Anchorage International\",\"William B Hartsfield-Atlanta Intl\",\"Austin-Bergstrom International\",\"Bradley International\",\"Birmingham International\",\"Nashville International\",\"Gen Edw L Logan Intl\",\"Buffalo Niagara Intl\",\"Burbank-Glendale-Pasadena\",\"Baltimore-Washington International\",\"Charleston AFB International\",\"Cleveland-Hopkins Intl\",\"Charlotte Douglas International\",\"Port Columbus Intl\",\"Cincinnati Northern Kentucky Intl\",\"Dallas Love \",\"Ronald Reagan Washington National\",\"Denver Intl\",\"Dallas-Fort Worth International\",\"Detroit Metropolitan-Wayne County\",\"El Paso International\",\"Newark Intl\",\"Fort Lauderdale-Hollywood Int'l\",\"Honolulu International\",\"William P X\",\"Washington Dulles International\",\"George Bush Intercontinental\",\"Indianapolis International\",\"Jacksonville International\",\"John F Kennedy Intl\",\"McCarran International\",\"Los Angeles International\",\"LaGuardia\",\"Adams \",\"Kansas City International\",\"Orlando International\",\"Chicago Midway\",\"Memphis International\",\"Miami International\",\"General Mitchell International\",\"Minneapolis-St Paul Intl\",\"New Orleans International \",\"Metropolitan Oakland International\",\"Kahului\",\"Will Rogers World\",\"Eppley Airfield\",\"Ontario International\",\"Chicago O'Hare International\",\"Norfolk International\",\"Palm Beach International\",\"Portland Intl\",\"Philadelphia Intl\",\"Phoenix Sky Harbor International\",\"Pittsburgh International\",\"Theodore F Green State\",\"Raleigh-Durham International\",\"Richmond International\",\"Reno Tahoe International\",\"Southwest Florida International\",\"San Diego International-Lindbergh \",\"San Antonio International\",\"Louisville International-Standiford \",\"Seattle-Tacoma Intl\",\"San Francisco International\",\"San Jose International\",\"Luis Munoz Marin International\",\"Salt Lake City Intl\",\"Sacramento International\",\"John Wayne  Orange Co\",\"Lambert-St Louis International\",\"Tampa International \",\"Tulsa International\",\"Tucson International\",\"Lehigh Valley International\",\"Abilene Regional\",\"Aberdeen Regional\",\"Southwest Georgia Regional\",\"Nantucket Memorial\",\"Waco Regional\",\"Arcata\",\"Atlantic City International\",\"Adak\",\"Kodiak \",\"Alexandria International\",\"Bush \",\"King Salmon\",\"Albany Cty\",\"Waterloo Municipal\",\"Amarillo International\",\"Alpena County Regional \",\"Watertown Intl\",\"Aspen-Pitkin Co Sardy \",\"Outagamie County Regional\",\"Asheville Regional\",\"Wilkes-Barre Scranton Intl\",\"Kalamazoo County\",\"Bethel\",\"Meadows \",\"Binghamton Regional\",\"Bangor International\",\"Billings Logan Intl\",\"Bismarck Municipal\",\"Bemidji-Beltrami County\",\"Bellingham Intl\",\"Central Illinois Regional\",\"Boise Air Terminal\",\"Southeast Texas Regional\",\"Glynco Jetport\",\"Rafael Hernandez\",\"Brainerd-Crow Wing County Regional\",\"Brownsville S.Padre Island International\",\"Wiley Post Will Rogers Memorial\",\"Bert Mooney\",\"Baton Rouge Metropolitan\",\"Burlington International\",\"Gallatin \",\"Columbia Metropolitan\",\"Akron-Canton Regional\",\"Cedar City Muni\",\"Merle K (Mudhole) Smith\",\"Jack McNamara \",\"Lovell \",\"Charlottesville-Albermarle\",\"Chico Municipal\",\"Eastern Iowa \",\"Chippewa County International\",\"MC Clellan-Palomar Airport\",\"Easterwood \",\"University of Illinois-Willard\",\"Houghton County Memorial\",\"Canyonlands \",\"Yellowstone Regional\",\"City of Colorado Springs Muni\",\"Columbia Regional\",\"Natrona County Intl\",\"Corpus Christi International\",\"Yeager\",\"Columbus Metropolitan\",\"Central Wisconsin\",\"Cheyenne\",\"Daytona Beach International\",\"James M Cox Dayton Intl\",\"Dubuque Municipal\",\"Dothan \",\"Dickinson Municipal\",\"Dillingham\",\"Duluth International\",\"Durango-La Plata County\",\"Del Rio International\",\"Des Moines International\",\"Devils Lake Municipal-Knoke \",\"Chippewa Valley Regional\",\"Eagle County Regional\",\"Elko Regional\",\"Elmira Corning Regional\",\"Erie Intl\",\"Delta County\",\"Mahlon Sweet \",\"Evansville Regional\",\"Craven County Regional\",\"Key West International\",\"Fairbanks International\",\"Hector International\",\"Fresno Yosemite International\",\"Fayetteville Municipal\",\"Glacier Park Intl\",\"Flagstaff Pulliam\",\"Florence Regional\",\"Bishop\",\"Forbes \",\"Joe Foss \",\"Fort Smith Regional\",\"Fort Wayne International\",\"Gillette-Campbell County\",\"Garden City Regional\",\"Spokane Intl\",\"Grand Forks International\",\"Gregg County\",\"Walker \",\"Gainesville Regional\",\"Gulfport-Biloxi Regional\",\"Austin Straubel International\",\"Central Nebraska Regional \",\"Robert Gray AAF\",\"Kent County International\",\"Piedmont Triad International\",\"Greenville-Spartanburg\",\"Gustavus\",\"Great Falls Intl\",\"Golden Triangle Regional\",\"Gunnison County\",\"Guam International\",\"Yampa Valley\",\"Chisholm-Hibbing\",\"Helena Regional\",\"Lea County Regional\",\"Westchester Cty\",\"Valley International\",\"Huntsville International \",\"Tri-State Walker-Long \",\"Barnstable Mun Boardman Polando \",\"Hays Municipal\",\"Wichita Mid-Continent\",\"Idaho Falls Regional\",\"New Castle County \",\"Wilmington International\",\"Ford\",\"Falls International\",\"Imperial County\",\"Sloulin Field International\",\"Long Island - MacArthur\",\"Tompkins Cty \",\"Hilo International\",\"Inyokern\",\"Jackson Hole\",\"Jackson International\",\"Joplin Regional\",\"Jamestown Municipal\",\"Juneau International\",\"Kona International At Keahole\",\"Ketchikan International\",\"Capital City\",\"Laramie Regional\",\"Lawton-Ft Sill Regional\",\"Lubbock International\",\"Lake Charles Regional\",\"Blue Grass \",\"Lafayette Regional\",\"Long Beach (Daugherty )\",\"Lihue\",\"Klamath Falls International\",\"Lincoln Municipal\",\"Laredo International\",\"La Crosse Municipal\",\"Greenbrier Valley\",\"Lewiston-Nez Perce County\",\"Lynchburg Municipal-Preston Glenn \",\"Midland International\",\"Mbs International\",\"Middle Georgia Regional\",\"Harrisburg Intl\",\"Key \",\"McAllen Miller International\",\"Rogue Valley International\",\"Montgomery Regional Apt\",\"Manhattan Regional\",\"Manchester\",\"Muskegon County\",\"Melbourne International \",\"Quad City\",\"Monroe Regional\",\"Mammoth Yosemite\",\"Mobile Regional\",\"Modesto City-County-Harry Sham \",\"Minot International\",\"Marquette County Airport\",\"Monterey Peninsula\",\"Dane County Regional\",\"Missoula International\",\"Montrose Regional\",\"Marthas Vineyard\",\"Grant County\",\"Myrtle Beach International\",\"Albert J Ellis\",\"Nome\",\"Worcester Regional\",\"North Bend Muni\",\"Ralph Wien Memorial\",\"Oxnard\",\"Barkley Regional\",\"Panama City-Bay County International\",\"Newport News Williamsburg International\",\"Greater Peoria Regional\",\"Hattiesburg-Laurel Regional\",\"St. Petersburg-Clearwater International\",\"Pocatello Regional\",\"Pierre Regional\",\"Pellston Regional  of Emmet County\",\"Pensacola Regional\",\"Pago Pago International\",\"Tri-Cities\",\"Mercedita\",\"James C. Johnson Petersburg\",\"Palm Springs International\",\"Pueblo Memorial\",\"Portland International Jetport\",\"Rapid City Regional\",\"Redding Municipal\",\"Roberts \",\"Greater Rockford\",\"Rhinelander-Oneida County\",\"Rock Springs-Sweetwater County\",\"Roanoke Regional  Woodrum \",\"Greater Rochester Int'l\",\"Roswell Industrial Air Center\",\"Rochester International\",\"Santa Fe Municipal\",\"Savannah International\",\"Santa Barbara Municipal\",\"South Bend Regional\",\"San Luis Obispo Co-McChesney \",\"Deadhorse\",\"University Park\",\"Springfield-Branson Regional\",\"St George Muni\",\"Shenandoah Valley Regional\",\"Shreveport Regional\",\"Sitka\",\"San Angelo Regional  Mathis \",\"Santa Maria Pub Capt G Allan Hancock \",\"Capital\",\"Tinian International Airport\",\"Sheppard AFB Wichita Falls Municipal\",\"Sarasota Bradenton International\",\"St Cloud Regional\",\"Cyril E. King\",\"Henry E. Rohlsen \",\"Friedman Memorial\",\"Sioux Gateway \",\"Stewart\",\"Syracuse-Hancock Intl\",\"Telluride Regional\",\"Tallahassee Regional\",\"Toledo Express\",\"Tri-Cities Regional\",\"Trenton-Mercer County \",\"Tupelo Municipal \",\"Cherry Capital\",\"Joslin Field - Magic Valley\",\"Texarkana Regional-Webb \",\"Tyler Pounds \",\"McGhee-Tyson\",\"Vernal\",\"Valdosta Regional\",\"Eglin Air Force Base\",\"Wrangell\",\"Yellowstone\",\"Northwest Arkansas Regional\",\"Yakutat\",\"Yuma MCAS-Yuma International\"],\"type\":\"scattergeo\"}],                        {\"template\":{\"data\":{\"bar\":[{\"error_x\":{\"color\":\"#2a3f5f\"},\"error_y\":{\"color\":\"#2a3f5f\"},\"marker\":{\"line\":{\"color\":\"#E5ECF6\",\"width\":0.5},\"pattern\":{\"fillmode\":\"overlay\",\"size\":10,\"solidity\":0.2}},\"type\":\"bar\"}],\"barpolar\":[{\"marker\":{\"line\":{\"color\":\"#E5ECF6\",\"width\":0.5},\"pattern\":{\"fillmode\":\"overlay\",\"size\":10,\"solidity\":0.2}},\"type\":\"barpolar\"}],\"carpet\":[{\"aaxis\":{\"endlinecolor\":\"#2a3f5f\",\"gridcolor\":\"white\",\"linecolor\":\"white\",\"minorgridcolor\":\"white\",\"startlinecolor\":\"#2a3f5f\"},\"baxis\":{\"endlinecolor\":\"#2a3f5f\",\"gridcolor\":\"white\",\"linecolor\":\"white\",\"minorgridcolor\":\"white\",\"startlinecolor\":\"#2a3f5f\"},\"type\":\"carpet\"}],\"choropleth\":[{\"colorbar\":{\"outlinewidth\":0,\"ticks\":\"\"},\"type\":\"choropleth\"}],\"contour\":[{\"colorbar\":{\"outlinewidth\":0,\"ticks\":\"\"},\"colorscale\":[[0.0,\"#0d0887\"],[0.1111111111111111,\"#46039f\"],[0.2222222222222222,\"#7201a8\"],[0.3333333333333333,\"#9c179e\"],[0.4444444444444444,\"#bd3786\"],[0.5555555555555556,\"#d8576b\"],[0.6666666666666666,\"#ed7953\"],[0.7777777777777778,\"#fb9f3a\"],[0.8888888888888888,\"#fdca26\"],[1.0,\"#f0f921\"]],\"type\":\"contour\"}],\"contourcarpet\":[{\"colorbar\":{\"outlinewidth\":0,\"ticks\":\"\"},\"type\":\"contourcarpet\"}],\"heatmap\":[{\"colorbar\":{\"outlinewidth\":0,\"ticks\":\"\"},\"colorscale\":[[0.0,\"#0d0887\"],[0.1111111111111111,\"#46039f\"],[0.2222222222222222,\"#7201a8\"],[0.3333333333333333,\"#9c179e\"],[0.4444444444444444,\"#bd3786\"],[0.5555555555555556,\"#d8576b\"],[0.6666666666666666,\"#ed7953\"],[0.7777777777777778,\"#fb9f3a\"],[0.8888888888888888,\"#fdca26\"],[1.0,\"#f0f921\"]],\"type\":\"heatmap\"}],\"heatmapgl\":[{\"colorbar\":{\"outlinewidth\":0,\"ticks\":\"\"},\"colorscale\":[[0.0,\"#0d0887\"],[0.1111111111111111,\"#46039f\"],[0.2222222222222222,\"#7201a8\"],[0.3333333333333333,\"#9c179e\"],[0.4444444444444444,\"#bd3786\"],[0.5555555555555556,\"#d8576b\"],[0.6666666666666666,\"#ed7953\"],[0.7777777777777778,\"#fb9f3a\"],[0.8888888888888888,\"#fdca26\"],[1.0,\"#f0f921\"]],\"type\":\"heatmapgl\"}],\"histogram\":[{\"marker\":{\"pattern\":{\"fillmode\":\"overlay\",\"size\":10,\"solidity\":0.2}},\"type\":\"histogram\"}],\"histogram2d\":[{\"colorbar\":{\"outlinewidth\":0,\"ticks\":\"\"},\"colorscale\":[[0.0,\"#0d0887\"],[0.1111111111111111,\"#46039f\"],[0.2222222222222222,\"#7201a8\"],[0.3333333333333333,\"#9c179e\"],[0.4444444444444444,\"#bd3786\"],[0.5555555555555556,\"#d8576b\"],[0.6666666666666666,\"#ed7953\"],[0.7777777777777778,\"#fb9f3a\"],[0.8888888888888888,\"#fdca26\"],[1.0,\"#f0f921\"]],\"type\":\"histogram2d\"}],\"histogram2dcontour\":[{\"colorbar\":{\"outlinewidth\":0,\"ticks\":\"\"},\"colorscale\":[[0.0,\"#0d0887\"],[0.1111111111111111,\"#46039f\"],[0.2222222222222222,\"#7201a8\"],[0.3333333333333333,\"#9c179e\"],[0.4444444444444444,\"#bd3786\"],[0.5555555555555556,\"#d8576b\"],[0.6666666666666666,\"#ed7953\"],[0.7777777777777778,\"#fb9f3a\"],[0.8888888888888888,\"#fdca26\"],[1.0,\"#f0f921\"]],\"type\":\"histogram2dcontour\"}],\"mesh3d\":[{\"colorbar\":{\"outlinewidth\":0,\"ticks\":\"\"},\"type\":\"mesh3d\"}],\"parcoords\":[{\"line\":{\"colorbar\":{\"outlinewidth\":0,\"ticks\":\"\"}},\"type\":\"parcoords\"}],\"pie\":[{\"automargin\":true,\"type\":\"pie\"}],\"scatter\":[{\"marker\":{\"colorbar\":{\"outlinewidth\":0,\"ticks\":\"\"}},\"type\":\"scatter\"}],\"scatter3d\":[{\"line\":{\"colorbar\":{\"outlinewidth\":0,\"ticks\":\"\"}},\"marker\":{\"colorbar\":{\"outlinewidth\":0,\"ticks\":\"\"}},\"type\":\"scatter3d\"}],\"scattercarpet\":[{\"marker\":{\"colorbar\":{\"outlinewidth\":0,\"ticks\":\"\"}},\"type\":\"scattercarpet\"}],\"scattergeo\":[{\"marker\":{\"colorbar\":{\"outlinewidth\":0,\"ticks\":\"\"}},\"type\":\"scattergeo\"}],\"scattergl\":[{\"marker\":{\"colorbar\":{\"outlinewidth\":0,\"ticks\":\"\"}},\"type\":\"scattergl\"}],\"scattermapbox\":[{\"marker\":{\"colorbar\":{\"outlinewidth\":0,\"ticks\":\"\"}},\"type\":\"scattermapbox\"}],\"scatterpolar\":[{\"marker\":{\"colorbar\":{\"outlinewidth\":0,\"ticks\":\"\"}},\"type\":\"scatterpolar\"}],\"scatterpolargl\":[{\"marker\":{\"colorbar\":{\"outlinewidth\":0,\"ticks\":\"\"}},\"type\":\"scatterpolargl\"}],\"scatterternary\":[{\"marker\":{\"colorbar\":{\"outlinewidth\":0,\"ticks\":\"\"}},\"type\":\"scatterternary\"}],\"surface\":[{\"colorbar\":{\"outlinewidth\":0,\"ticks\":\"\"},\"colorscale\":[[0.0,\"#0d0887\"],[0.1111111111111111,\"#46039f\"],[0.2222222222222222,\"#7201a8\"],[0.3333333333333333,\"#9c179e\"],[0.4444444444444444,\"#bd3786\"],[0.5555555555555556,\"#d8576b\"],[0.6666666666666666,\"#ed7953\"],[0.7777777777777778,\"#fb9f3a\"],[0.8888888888888888,\"#fdca26\"],[1.0,\"#f0f921\"]],\"type\":\"surface\"}],\"table\":[{\"cells\":{\"fill\":{\"color\":\"#EBF0F8\"},\"line\":{\"color\":\"white\"}},\"header\":{\"fill\":{\"color\":\"#C8D4E3\"},\"line\":{\"color\":\"white\"}},\"type\":\"table\"}]},\"layout\":{\"annotationdefaults\":{\"arrowcolor\":\"#2a3f5f\",\"arrowhead\":0,\"arrowwidth\":1},\"autotypenumbers\":\"strict\",\"coloraxis\":{\"colorbar\":{\"outlinewidth\":0,\"ticks\":\"\"}},\"colorscale\":{\"diverging\":[[0,\"#8e0152\"],[0.1,\"#c51b7d\"],[0.2,\"#de77ae\"],[0.3,\"#f1b6da\"],[0.4,\"#fde0ef\"],[0.5,\"#f7f7f7\"],[0.6,\"#e6f5d0\"],[0.7,\"#b8e186\"],[0.8,\"#7fbc41\"],[0.9,\"#4d9221\"],[1,\"#276419\"]],\"sequential\":[[0.0,\"#0d0887\"],[0.1111111111111111,\"#46039f\"],[0.2222222222222222,\"#7201a8\"],[0.3333333333333333,\"#9c179e\"],[0.4444444444444444,\"#bd3786\"],[0.5555555555555556,\"#d8576b\"],[0.6666666666666666,\"#ed7953\"],[0.7777777777777778,\"#fb9f3a\"],[0.8888888888888888,\"#fdca26\"],[1.0,\"#f0f921\"]],\"sequentialminus\":[[0.0,\"#0d0887\"],[0.1111111111111111,\"#46039f\"],[0.2222222222222222,\"#7201a8\"],[0.3333333333333333,\"#9c179e\"],[0.4444444444444444,\"#bd3786\"],[0.5555555555555556,\"#d8576b\"],[0.6666666666666666,\"#ed7953\"],[0.7777777777777778,\"#fb9f3a\"],[0.8888888888888888,\"#fdca26\"],[1.0,\"#f0f921\"]]},\"colorway\":[\"#636efa\",\"#EF553B\",\"#00cc96\",\"#ab63fa\",\"#FFA15A\",\"#19d3f3\",\"#FF6692\",\"#B6E880\",\"#FF97FF\",\"#FECB52\"],\"font\":{\"color\":\"#2a3f5f\"},\"geo\":{\"bgcolor\":\"white\",\"lakecolor\":\"white\",\"landcolor\":\"#E5ECF6\",\"showlakes\":true,\"showland\":true,\"subunitcolor\":\"white\"},\"hoverlabel\":{\"align\":\"left\"},\"hovermode\":\"closest\",\"mapbox\":{\"style\":\"light\"},\"paper_bgcolor\":\"white\",\"plot_bgcolor\":\"#E5ECF6\",\"polar\":{\"angularaxis\":{\"gridcolor\":\"white\",\"linecolor\":\"white\",\"ticks\":\"\"},\"bgcolor\":\"#E5ECF6\",\"radialaxis\":{\"gridcolor\":\"white\",\"linecolor\":\"white\",\"ticks\":\"\"}},\"scene\":{\"xaxis\":{\"backgroundcolor\":\"#E5ECF6\",\"gridcolor\":\"white\",\"gridwidth\":2,\"linecolor\":\"white\",\"showbackground\":true,\"ticks\":\"\",\"zerolinecolor\":\"white\"},\"yaxis\":{\"backgroundcolor\":\"#E5ECF6\",\"gridcolor\":\"white\",\"gridwidth\":2,\"linecolor\":\"white\",\"showbackground\":true,\"ticks\":\"\",\"zerolinecolor\":\"white\"},\"zaxis\":{\"backgroundcolor\":\"#E5ECF6\",\"gridcolor\":\"white\",\"gridwidth\":2,\"linecolor\":\"white\",\"showbackground\":true,\"ticks\":\"\",\"zerolinecolor\":\"white\"}},\"shapedefaults\":{\"line\":{\"color\":\"#2a3f5f\"}},\"ternary\":{\"aaxis\":{\"gridcolor\":\"white\",\"linecolor\":\"white\",\"ticks\":\"\"},\"baxis\":{\"gridcolor\":\"white\",\"linecolor\":\"white\",\"ticks\":\"\"},\"bgcolor\":\"#E5ECF6\",\"caxis\":{\"gridcolor\":\"white\",\"linecolor\":\"white\",\"ticks\":\"\"}},\"title\":{\"x\":0.05},\"xaxis\":{\"automargin\":true,\"gridcolor\":\"white\",\"linecolor\":\"white\",\"ticks\":\"\",\"title\":{\"standoff\":15},\"zerolinecolor\":\"white\",\"zerolinewidth\":2},\"yaxis\":{\"automargin\":true,\"gridcolor\":\"white\",\"linecolor\":\"white\",\"ticks\":\"\",\"title\":{\"standoff\":15},\"zerolinecolor\":\"white\",\"zerolinewidth\":2}}},\"geo\":{\"scope\":\"usa\"},\"title\":{\"text\":\"Most trafficked US airports<br>(Hover for airport names)\"}},                        {\"responsive\": true}                    ).then(function(){\n",
       "                            \n",
       "var gd = document.getElementById('ff0541cf-887e-4495-b766-97825e3ea9ff');\n",
       "var x = new MutationObserver(function (mutations, observer) {{\n",
       "        var display = window.getComputedStyle(gd).display;\n",
       "        if (!display || display === 'none') {{\n",
       "            console.log([gd, 'removed!']);\n",
       "            Plotly.purge(gd);\n",
       "            observer.disconnect();\n",
       "        }}\n",
       "}});\n",
       "\n",
       "// Listen for the removal of the full notebook cells\n",
       "var notebookContainer = gd.closest('#notebook-container');\n",
       "if (notebookContainer) {{\n",
       "    x.observe(notebookContainer, {childList: true});\n",
       "}}\n",
       "\n",
       "// Listen for the clearing of the current output cell\n",
       "var outputEl = gd.closest('.output');\n",
       "if (outputEl) {{\n",
       "    x.observe(outputEl, {childList: true});\n",
       "}}\n",
       "\n",
       "                        })                };                });            </script>        </div>"
      ]
     },
     "metadata": {},
     "output_type": "display_data"
    }
   ],
   "source": [
    "import plotly.graph_objects as go\n",
    "\n",
    "fig = go.Figure(data=go.Scattergeo(\n",
    "        lon = airports['longitude'],\n",
    "        lat = airports['latitude'],\n",
    "        text = airports['airport'],\n",
    "        mode = 'markers',\n",
    "        hoverinfo = 'text'#airports['airport']\n",
    "        #size = airports['latitude']\n",
    "        #marker_color = airports['country']\n",
    "        ))\n",
    "\n",
    "fig.update_layout(\n",
    "        title = 'Most trafficked US airports<br>(Hover for airport names)',\n",
    "        geo_scope='usa',\n",
    "    )\n",
    "fig.show()"
   ]
  }
 ],
 "metadata": {
  "kernelspec": {
   "display_name": "base",
   "language": "python",
   "name": "python3"
  },
  "language_info": {
   "codemirror_mode": {
    "name": "ipython",
    "version": 3
   },
   "file_extension": ".py",
   "mimetype": "text/x-python",
   "name": "python",
   "nbconvert_exporter": "python",
   "pygments_lexer": "ipython3",
   "version": "3.9.12"
  },
  "orig_nbformat": 4
 },
 "nbformat": 4,
 "nbformat_minor": 2
}
